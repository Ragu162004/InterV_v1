{
  "cells": [
    {
      "cell_type": "code",
      "execution_count": 1,
      "metadata": {
        "colab": {
          "base_uri": "https://localhost:8080/"
        },
        "id": "V6_002T0eOoY",
        "outputId": "39f503be-809e-46e2-f13d-56064c2831df"
      },
      "outputs": [
        {
          "name": "stdout",
          "output_type": "stream",
          "text": [
            "Defaulting to user installation because normal site-packages is not writeable\n",
            "Requirement already satisfied: datasets in c:\\users\\asus\\appdata\\roaming\\python\\python311\\site-packages (2.20.0)\n",
            "Requirement already satisfied: filelock in c:\\users\\asus\\appdata\\roaming\\python\\python311\\site-packages (from datasets) (3.13.3)\n",
            "Requirement already satisfied: numpy>=1.17 in c:\\users\\asus\\appdata\\roaming\\python\\python311\\site-packages (from datasets) (1.26.3)\n",
            "Requirement already satisfied: pyarrow>=15.0.0 in c:\\users\\asus\\appdata\\roaming\\python\\python311\\site-packages (from datasets) (15.0.1)\n",
            "Requirement already satisfied: pyarrow-hotfix in c:\\users\\asus\\appdata\\roaming\\python\\python311\\site-packages (from datasets) (0.6)\n",
            "Requirement already satisfied: dill<0.3.9,>=0.3.0 in c:\\users\\asus\\appdata\\roaming\\python\\python311\\site-packages (from datasets) (0.3.8)\n",
            "Requirement already satisfied: pandas in c:\\users\\asus\\appdata\\roaming\\python\\python311\\site-packages (from datasets) (2.2.0)\n",
            "Requirement already satisfied: requests>=2.32.2 in c:\\users\\asus\\appdata\\roaming\\python\\python311\\site-packages (from datasets) (2.32.3)\n",
            "Requirement already satisfied: tqdm>=4.66.3 in c:\\users\\asus\\appdata\\roaming\\python\\python311\\site-packages (from datasets) (4.66.4)\n",
            "Requirement already satisfied: xxhash in c:\\users\\asus\\appdata\\roaming\\python\\python311\\site-packages (from datasets) (3.4.1)\n",
            "Requirement already satisfied: multiprocess in c:\\users\\asus\\appdata\\roaming\\python\\python311\\site-packages (from datasets) (0.70.16)\n",
            "Requirement already satisfied: fsspec<=2024.5.0,>=2023.1.0 in c:\\users\\asus\\appdata\\roaming\\python\\python311\\site-packages (from fsspec[http]<=2024.5.0,>=2023.1.0->datasets) (2024.3.1)\n",
            "Requirement already satisfied: aiohttp in c:\\users\\asus\\appdata\\roaming\\python\\python311\\site-packages (from datasets) (3.9.5)\n",
            "Requirement already satisfied: huggingface-hub>=0.21.2 in c:\\users\\asus\\appdata\\roaming\\python\\python311\\site-packages (from datasets) (0.24.6)\n",
            "Requirement already satisfied: packaging in c:\\users\\asus\\appdata\\roaming\\python\\python311\\site-packages (from datasets) (23.2)\n",
            "Requirement already satisfied: pyyaml>=5.1 in c:\\users\\asus\\appdata\\roaming\\python\\python311\\site-packages (from datasets) (6.0.1)\n",
            "Requirement already satisfied: aiosignal>=1.1.2 in c:\\users\\asus\\appdata\\roaming\\python\\python311\\site-packages (from aiohttp->datasets) (1.3.1)\n",
            "Requirement already satisfied: attrs>=17.3.0 in c:\\users\\asus\\appdata\\roaming\\python\\python311\\site-packages (from aiohttp->datasets) (23.2.0)\n",
            "Requirement already satisfied: frozenlist>=1.1.1 in c:\\users\\asus\\appdata\\roaming\\python\\python311\\site-packages (from aiohttp->datasets) (1.4.1)\n",
            "Requirement already satisfied: multidict<7.0,>=4.5 in c:\\users\\asus\\appdata\\roaming\\python\\python311\\site-packages (from aiohttp->datasets) (6.0.5)\n",
            "Requirement already satisfied: yarl<2.0,>=1.0 in c:\\users\\asus\\appdata\\roaming\\python\\python311\\site-packages (from aiohttp->datasets) (1.9.4)\n",
            "Requirement already satisfied: typing-extensions>=3.7.4.3 in c:\\users\\asus\\appdata\\roaming\\python\\python311\\site-packages (from huggingface-hub>=0.21.2->datasets) (4.10.0)\n",
            "Requirement already satisfied: charset-normalizer<4,>=2 in c:\\users\\asus\\appdata\\roaming\\python\\python311\\site-packages (from requests>=2.32.2->datasets) (3.3.2)\n",
            "Requirement already satisfied: idna<4,>=2.5 in c:\\users\\asus\\appdata\\roaming\\python\\python311\\site-packages (from requests>=2.32.2->datasets) (2.10)\n",
            "Requirement already satisfied: urllib3<3,>=1.21.1 in c:\\users\\asus\\appdata\\roaming\\python\\python311\\site-packages (from requests>=2.32.2->datasets) (2.2.1)\n",
            "Requirement already satisfied: certifi>=2017.4.17 in c:\\users\\asus\\appdata\\roaming\\python\\python311\\site-packages (from requests>=2.32.2->datasets) (2024.2.2)\n",
            "Requirement already satisfied: colorama in c:\\users\\asus\\appdata\\roaming\\python\\python311\\site-packages (from tqdm>=4.66.3->datasets) (0.4.6)\n",
            "Requirement already satisfied: python-dateutil>=2.8.2 in c:\\users\\asus\\appdata\\roaming\\python\\python311\\site-packages (from pandas->datasets) (2.8.2)\n",
            "Requirement already satisfied: pytz>=2020.1 in c:\\users\\asus\\appdata\\roaming\\python\\python311\\site-packages (from pandas->datasets) (2024.1)\n",
            "Requirement already satisfied: tzdata>=2022.7 in c:\\users\\asus\\appdata\\roaming\\python\\python311\\site-packages (from pandas->datasets) (2024.1)\n",
            "Requirement already satisfied: six>=1.5 in c:\\users\\asus\\appdata\\roaming\\python\\python311\\site-packages (from python-dateutil>=2.8.2->pandas->datasets) (1.16.0)\n"
          ]
        },
        {
          "name": "stderr",
          "output_type": "stream",
          "text": [
            "DEPRECATION: Loading egg at c:\\program files\\python311\\lib\\site-packages\\vboxapi-1.0-py3.11.egg is deprecated. pip 24.3 will enforce this behaviour change. A possible replacement is to use pip for package installation. Discussion can be found at https://github.com/pypa/pip/issues/12330\n"
          ]
        },
        {
          "name": "stdout",
          "output_type": "stream",
          "text": [
            "Defaulting to user installation because normal site-packages is not writeable\n",
            "Collecting sklearn\n",
            "  Using cached sklearn-0.0.post12.tar.gz (2.6 kB)\n",
            "  Installing build dependencies: started\n",
            "  Installing build dependencies: finished with status 'done'\n",
            "  Getting requirements to build wheel: started\n",
            "  Getting requirements to build wheel: finished with status 'error'\n"
          ]
        },
        {
          "name": "stderr",
          "output_type": "stream",
          "text": [
            "DEPRECATION: Loading egg at c:\\program files\\python311\\lib\\site-packages\\vboxapi-1.0-py3.11.egg is deprecated. pip 24.3 will enforce this behaviour change. A possible replacement is to use pip for package installation. Discussion can be found at https://github.com/pypa/pip/issues/12330\n",
            "  error: subprocess-exited-with-error\n",
            "  \n",
            "  × Getting requirements to build wheel did not run successfully.\n",
            "  │ exit code: 1\n",
            "  ╰─> [15 lines of output]\n",
            "      The 'sklearn' PyPI package is deprecated, use 'scikit-learn'\n",
            "      rather than 'sklearn' for pip commands.\n",
            "      \n",
            "      Here is how to fix this error in the main use cases:\n",
            "      - use 'pip install scikit-learn' rather than 'pip install sklearn'\n",
            "      - replace 'sklearn' by 'scikit-learn' in your pip requirements files\n",
            "        (requirements.txt, setup.py, setup.cfg, Pipfile, etc ...)\n",
            "      - if the 'sklearn' package is used by one of your dependencies,\n",
            "        it would be great if you take some time to track which package uses\n",
            "        'sklearn' instead of 'scikit-learn' and report it to their issue tracker\n",
            "      - as a last resort, set the environment variable\n",
            "        SKLEARN_ALLOW_DEPRECATED_SKLEARN_PACKAGE_INSTALL=True to avoid this error\n",
            "      \n",
            "      More information is available at\n",
            "      https://github.com/scikit-learn/sklearn-pypi-package\n",
            "      [end of output]\n",
            "  \n",
            "  note: This error originates from a subprocess, and is likely not a problem with pip.\n",
            "error: subprocess-exited-with-error\n",
            "\n",
            "× Getting requirements to build wheel did not run successfully.\n",
            "│ exit code: 1\n",
            "╰─> See above for output.\n",
            "\n",
            "note: This error originates from a subprocess, and is likely not a problem with pip.\n"
          ]
        },
        {
          "name": "stdout",
          "output_type": "stream",
          "text": [
            "Defaulting to user installation because normal site-packages is not writeable\n",
            "Requirement already satisfied: pandas in c:\\users\\asus\\appdata\\roaming\\python\\python311\\site-packages (2.2.0)\n",
            "Requirement already satisfied: numpy<2,>=1.23.2 in c:\\users\\asus\\appdata\\roaming\\python\\python311\\site-packages (from pandas) (1.26.3)\n",
            "Requirement already satisfied: python-dateutil>=2.8.2 in c:\\users\\asus\\appdata\\roaming\\python\\python311\\site-packages (from pandas) (2.8.2)\n",
            "Requirement already satisfied: pytz>=2020.1 in c:\\users\\asus\\appdata\\roaming\\python\\python311\\site-packages (from pandas) (2024.1)\n",
            "Requirement already satisfied: tzdata>=2022.7 in c:\\users\\asus\\appdata\\roaming\\python\\python311\\site-packages (from pandas) (2024.1)\n",
            "Requirement already satisfied: six>=1.5 in c:\\users\\asus\\appdata\\roaming\\python\\python311\\site-packages (from python-dateutil>=2.8.2->pandas) (1.16.0)\n"
          ]
        },
        {
          "name": "stderr",
          "output_type": "stream",
          "text": [
            "DEPRECATION: Loading egg at c:\\program files\\python311\\lib\\site-packages\\vboxapi-1.0-py3.11.egg is deprecated. pip 24.3 will enforce this behaviour change. A possible replacement is to use pip for package installation. Discussion can be found at https://github.com/pypa/pip/issues/12330\n"
          ]
        }
      ],
      "source": [
        "\n",
        "!pip install datasets\n",
        "!pip install sklearn\n",
        "!pip install pandas"
      ]
    },
    {
      "cell_type": "code",
      "execution_count": 2,
      "metadata": {
        "colab": {
          "base_uri": "https://localhost:8080/"
        },
        "id": "_F27vJvOek_4",
        "outputId": "7984e89f-fb4c-43a4-cbdc-a4ac96285dd5"
      },
      "outputs": [
        {
          "name": "stdout",
          "output_type": "stream",
          "text": [
            "Defaulting to user installation because normal site-packages is not writeable\n",
            "Requirement already satisfied: accelerate in c:\\users\\asus\\appdata\\roaming\\python\\python311\\site-packages (0.34.2)\n",
            "Requirement already satisfied: numpy<3.0.0,>=1.17 in c:\\users\\asus\\appdata\\roaming\\python\\python311\\site-packages (from accelerate) (1.26.3)\n",
            "Requirement already satisfied: packaging>=20.0 in c:\\users\\asus\\appdata\\roaming\\python\\python311\\site-packages (from accelerate) (23.2)\n",
            "Requirement already satisfied: psutil in c:\\users\\asus\\appdata\\roaming\\python\\python311\\site-packages (from accelerate) (5.9.8)\n",
            "Requirement already satisfied: pyyaml in c:\\users\\asus\\appdata\\roaming\\python\\python311\\site-packages (from accelerate) (6.0.1)\n",
            "Requirement already satisfied: torch>=1.10.0 in c:\\users\\asus\\appdata\\roaming\\python\\python311\\site-packages (from accelerate) (2.2.2)\n",
            "Requirement already satisfied: huggingface-hub>=0.21.0 in c:\\users\\asus\\appdata\\roaming\\python\\python311\\site-packages (from accelerate) (0.24.6)\n",
            "Requirement already satisfied: safetensors>=0.4.3 in c:\\users\\asus\\appdata\\roaming\\python\\python311\\site-packages (from accelerate) (0.4.3)\n",
            "Requirement already satisfied: filelock in c:\\users\\asus\\appdata\\roaming\\python\\python311\\site-packages (from huggingface-hub>=0.21.0->accelerate) (3.13.3)\n",
            "Requirement already satisfied: fsspec>=2023.5.0 in c:\\users\\asus\\appdata\\roaming\\python\\python311\\site-packages (from huggingface-hub>=0.21.0->accelerate) (2024.3.1)\n",
            "Requirement already satisfied: requests in c:\\users\\asus\\appdata\\roaming\\python\\python311\\site-packages (from huggingface-hub>=0.21.0->accelerate) (2.32.3)\n",
            "Requirement already satisfied: tqdm>=4.42.1 in c:\\users\\asus\\appdata\\roaming\\python\\python311\\site-packages (from huggingface-hub>=0.21.0->accelerate) (4.66.4)\n",
            "Requirement already satisfied: typing-extensions>=3.7.4.3 in c:\\users\\asus\\appdata\\roaming\\python\\python311\\site-packages (from huggingface-hub>=0.21.0->accelerate) (4.10.0)\n",
            "Requirement already satisfied: sympy in c:\\users\\asus\\appdata\\roaming\\python\\python311\\site-packages (from torch>=1.10.0->accelerate) (1.12)\n",
            "Requirement already satisfied: networkx in c:\\users\\asus\\appdata\\roaming\\python\\python311\\site-packages (from torch>=1.10.0->accelerate) (3.3)\n",
            "Requirement already satisfied: jinja2 in c:\\users\\asus\\appdata\\roaming\\python\\python311\\site-packages (from torch>=1.10.0->accelerate) (3.1.3)\n",
            "Requirement already satisfied: colorama in c:\\users\\asus\\appdata\\roaming\\python\\python311\\site-packages (from tqdm>=4.42.1->huggingface-hub>=0.21.0->accelerate) (0.4.6)\n",
            "Requirement already satisfied: MarkupSafe>=2.0 in c:\\users\\asus\\appdata\\roaming\\python\\python311\\site-packages (from jinja2->torch>=1.10.0->accelerate) (2.1.5)\n",
            "Requirement already satisfied: charset-normalizer<4,>=2 in c:\\users\\asus\\appdata\\roaming\\python\\python311\\site-packages (from requests->huggingface-hub>=0.21.0->accelerate) (3.3.2)\n",
            "Requirement already satisfied: idna<4,>=2.5 in c:\\users\\asus\\appdata\\roaming\\python\\python311\\site-packages (from requests->huggingface-hub>=0.21.0->accelerate) (2.10)\n",
            "Requirement already satisfied: urllib3<3,>=1.21.1 in c:\\users\\asus\\appdata\\roaming\\python\\python311\\site-packages (from requests->huggingface-hub>=0.21.0->accelerate) (2.2.1)\n",
            "Requirement already satisfied: certifi>=2017.4.17 in c:\\users\\asus\\appdata\\roaming\\python\\python311\\site-packages (from requests->huggingface-hub>=0.21.0->accelerate) (2024.2.2)\n",
            "Requirement already satisfied: mpmath>=0.19 in c:\\users\\asus\\appdata\\roaming\\python\\python311\\site-packages (from sympy->torch>=1.10.0->accelerate) (1.3.0)\n"
          ]
        },
        {
          "name": "stderr",
          "output_type": "stream",
          "text": [
            "DEPRECATION: Loading egg at c:\\program files\\python311\\lib\\site-packages\\vboxapi-1.0-py3.11.egg is deprecated. pip 24.3 will enforce this behaviour change. A possible replacement is to use pip for package installation. Discussion can be found at https://github.com/pypa/pip/issues/12330\n"
          ]
        }
      ],
      "source": [
        "!pip install accelerate -U"
      ]
    },
    {
      "cell_type": "code",
      "execution_count": 3,
      "metadata": {
        "colab": {
          "base_uri": "https://localhost:8080/"
        },
        "id": "jvSTlRlaffxj",
        "outputId": "724107da-4596-4c41-9abc-15e5e223b3c0"
      },
      "outputs": [],
      "source": [
        "domains = input()"
      ]
    },
    {
      "cell_type": "code",
      "execution_count": 4,
      "metadata": {
        "id": "NCl4mpgSfkGG"
      },
      "outputs": [],
      "source": [
        "\n",
        "import json\n",
        "import random\n",
        "\n",
        "\n",
        "questions_data= {\n",
        "  \"React\": [\n",
        "    \"What is React?\",\n",
        "    \"What is a component in React?\",\n",
        "    \"What is JSX?\",\n",
        "    \"How do you create a state in a React component?\",\n",
        "    \"What is the virtual DOM?\"\n",
        "\n",
        "  ],\n",
        "  \"DBMS\": [\n",
        "    \"How does database sharding work?\",\n",
        "    \"What is the CAP theorem and how does it relate to distributed databases?\",\n",
        "    \"How does the use of database indexes affect write performance?\",\n",
        "    \"What are the trade-offs between using NoSQL and relational databases?\"\n",
        "\n",
        "  ],\n",
        "  \"Node.js\": [\n",
        "    \"What is the role of the Event Loop in Node.js, and how does it handle asynchronous operations?\",\n",
        "    \"How can you achieve high availability and fault tolerance in a Node.js application?\"\n",
        "\n",
        "  ],\n",
        "  \"Cybersecurity\": [\n",
        "    \"What is a Man-in-the-Middle (MitM) attack and how can it be mitigated?\",\n",
        "    \"How does SQL injection occur, and what are effective strategies to prevent it?\"\n",
        "\n",
        "  ]\n",
        "}\n",
        "\n",
        "\n",
        "import json\n",
        "import random\n",
        "\n",
        "\n",
        "\n",
        "def get_questions_by_domain(domain):\n",
        "    \"\"\"\n",
        "    Retrieve all questions for a given domain.\n",
        "    \"\"\"\n",
        "    return questions_data.get(domain, [])\n",
        "\n",
        "def get_random_questions(domain, num_questions=3):\n",
        "    \"\"\"\n",
        "    Retrieve a specified number of random questions for a given domain.\n",
        "    \"\"\"\n",
        "    questions = get_questions_by_domain(domain)\n",
        "    if len(questions) < num_questions:\n",
        "        print(f\"Not enough questions available for the domain '{domain}'.\")\n",
        "        return questions\n",
        "    return random.sample(questions, num_questions)\n",
        "\n",
        "\n",
        "questions_dom = get_random_questions(domains, 4)\n",
        "\n"
      ]
    },
    {
      "cell_type": "code",
      "execution_count": 5,
      "metadata": {
        "colab": {
          "base_uri": "https://localhost:8080/"
        },
        "id": "dCWUbK6WeTo8",
        "outputId": "9e254038-a84f-4210-e149-28901adfd61e"
      },
      "outputs": [
        {
          "name": "stderr",
          "output_type": "stream",
          "text": [
            "C:\\Users\\Asus\\AppData\\Roaming\\Python\\Python311\\site-packages\\tqdm\\auto.py:21: TqdmWarning: IProgress not found. Please update jupyter and ipywidgets. See https://ipywidgets.readthedocs.io/en/stable/user_install.html\n",
            "  from .autonotebook import tqdm as notebook_tqdm\n"
          ]
        },
        {
          "name": "stdout",
          "output_type": "stream",
          "text": [
            "                                               input  \\\n",
            "0                           question: What is React?   \n",
            "1            question: What is a component in React?   \n",
            "2                             question: What is JSX?   \n",
            "3  question: How do you create a state in a React...   \n",
            "4                 question: What is the virtual DOM?   \n",
            "\n",
            "                                              output  \n",
            "0  React is a JavaScript library for building use...  \n",
            "1  A component is a reusable piece of code that r...  \n",
            "2  JSX is a syntax extension for JavaScript that ...  \n",
            "3      You can create state using the useState hook.  \n",
            "4  The virtual DOM is a lightweight copy of the a...  \n",
            "{'input': 'question: How does SQL injection occur, and what are effective strategies to prevent it?', 'output': 'SQL injection occurs when an attacker inserts malicious SQL code into a query, exploiting vulnerabilities in applications that improperly handle user input. Effective prevention strategies include using parameterized queries or prepared statements, employing ORM libraries that abstract SQL generation, validating and sanitizing user inputs, and implementing least privilege principles for database access.', '__index_level_0__': 15}\n",
            "{'input': 'question: How do you handle form submissions in React?', 'output': 'Form submissions in React are typically handled using controlled components and event handlers.', '__index_level_0__': 30}\n",
            "{'input': 'question: What is JSX?', 'output': 'JSX is a syntax extension for JavaScript that looks similar to XML or HTML.', '__index_level_0__': 2}\n",
            "{'input': 'question: What is the role of the Event Loop in Node.js, and how does it handle asynchronous operations?', 'output': 'The Event Loop in Node.js is a mechanism that handles asynchronous operations by delegating them to background workers and continuing to process other tasks in the main thread. When an asynchronous operation completes, a callback or promise resolution is added to the event queue, and the Event Loop processes these callbacks in turn, allowing Node.js to perform non-blocking I/O operations.', '__index_level_0__': 11}\n",
            "{'input': 'question: What is the purpose of the useImperativeHandle hook?', 'output': 'The useImperativeHandle hook customizes the instance value that is exposed when using React.forwardRef.', '__index_level_0__': 46}\n",
            "{'input': 'question: What are fragment components in React?', 'output': 'Fragment components allow you to group multiple elements without adding extra nodes to the DOM.', '__index_level_0__': 57}\n",
            "{'input': 'question: What is the purpose of React Router?', 'output': 'React Router is used to handle routing and navigation in React applications.', '__index_level_0__': 27}\n",
            "{'input': 'question: What is a React Hook?', 'output': 'Hooks are functions that let you use state and other React features without writing a class.', '__index_level_0__': 5}\n",
            "{'input': 'question: How do you implement routing in a React application?', 'output': 'Routing is implemented using libraries like React Router, which provide components and hooks for handling navigation.', '__index_level_0__': 47}\n",
            "{'input': 'question: What are some advanced techniques for managing state in large-scale React applications?', 'output': \"Advanced state management techniques in large-scale React applications include using state management libraries like Redux or MobX for global state, employing React's Context API for prop drilling avoidance, and combining it with tools like React Query for server-state management. Additionally, utilizing middleware for side effects, optimizing performance with memoization and lazy loading, and organizing state logic with custom hooks can help manage complexity.\", '__index_level_0__': 13}\n",
            "{'input': 'question: How does the use of database indexes affect write performance?', 'output': 'While database indexes significantly improve read performance by allowing faster data retrieval, they can negatively impact write performance. Each time a write operation occurs, the index must be updated, which can add overhead and slow down insert, update, and delete operations.', '__index_level_0__': 9}\n",
            "{'input': 'question: How can you achieve high availability and fault tolerance in a Node.js application?', 'output': 'High availability and fault tolerance can be achieved in Node.js applications through strategies such as clustering, which allows multiple instances of the application to run across different CPU cores or servers, load balancing to distribute traffic evenly, and using monitoring tools to detect and handle failures. Additionally, deploying applications in containerized environments with orchestrators like Kubernetes can further enhance reliability and manageability.', '__index_level_0__': 12}\n",
            "{'input': 'question: What is React?', 'output': 'React is a JavaScript library for building user interfaces.', '__index_level_0__': 0}\n",
            "{'input': \"question: What is the purpose of React's useTransition hook?\", 'output': 'The useTransition hook helps manage concurrent updates and provides a way to indicate loading states for UI transitions.', '__index_level_0__': 48}\n",
            "{'input': 'question: What are pure components?', 'output': 'Pure components are components that do not re-render if their props and state have not changed.', '__index_level_0__': 32}\n",
            "{'input': 'question: What is a controlled component?', 'output': 'A controlled component is a component whose form data is handled by the state of the component.', '__index_level_0__': 20}\n",
            "{'input': 'question: What is the difference between state and props?', 'output': 'State is managed within the component, while props are passed from parent to child components.', '__index_level_0__': 21}\n",
            "{'input': 'question: What is the use of the key prop in React?', 'output': 'The key prop is used to identify which items have changed, are added, or are removed in a list of elements.', '__index_level_0__': 23}\n",
            "{'input': \"question: What is React's lifecycle method?\", 'output': 'Lifecycle methods are hooks that allow you to run code at specific points in a component’s life cycle, such as componentDidMount or componentWillUnmount.', '__index_level_0__': 29}\n",
            "{'input': \"question: What is the purpose of React's useLayoutEffect hook?\", 'output': 'The useLayoutEffect hook is used to perform side effects that require reading layout and synchronously updating the DOM.', '__index_level_0__': 56}\n",
            "{'input': 'question: How do you use ref in React?', 'output': 'Refs are used to access and interact with DOM nodes or React elements directly using the useRef hook or React.createRef.', '__index_level_0__': 44}\n",
            "{'input': 'question: How do you create a state in a React component?', 'output': 'You can create state using the useState hook.', '__index_level_0__': 3}\n",
            "{'input': 'question: What is the difference between useState and useReducer?', 'output': 'useState is used for simple state management, while useReducer is better for managing complex state logic.', '__index_level_0__': 35}\n",
            "{'input': 'question: How do you handle events in React?', 'output': 'Events in React are handled using event handlers that are passed as props to components.', '__index_level_0__': 22}\n",
            "{'input': 'question: How do you optimize performance in a React app?', 'output': 'Performance can be optimized using techniques like memoization, code-splitting, and avoiding unnecessary re-renders.', '__index_level_0__': 33}\n",
            "{'input': 'question: How do you implement a higher-order component in React?', 'output': 'A higher-order component is implemented as a function that takes a component and returns a new component with additional props or behavior.', '__index_level_0__': 55}\n",
            "{'input': 'question: What is the difference between ReactDOM.render and ReactDOM.hydrate?', 'output': 'ReactDOM.render is used to render React elements into the DOM, while ReactDOM.hydrate is used to attach event handlers to server-rendered HTML.', '__index_level_0__': 41}\n",
            "{'input': 'question: What are the trade-offs between using NoSQL and relational databases?', 'output': \"NoSQL databases offer flexible schemas and horizontal scalability, making them suitable for unstructured data and high-volume applications. Relational databases provide strong consistency, ACID transactions, and are well-suited for structured data with complex relationships. The trade-offs include NoSQL's eventual consistency versus relational databases' strict consistency and the schema rigidity of relational databases versus the schema flexibility of NoSQL.\", '__index_level_0__': 10}\n",
            "{'input': 'question: What is a higher-order component?', 'output': 'A higher-order component is a function that takes a component and returns a new component with additional props.', '__index_level_0__': 28}\n",
            "{'input': 'question: What is the purpose of the useMemo hook?', 'output': 'The useMemo hook is used to memoize the results of expensive computations to avoid recalculating them on every render.', '__index_level_0__': 36}\n",
            "{'input': 'question: What is the role of a Content Security Policy (CSP) in web security, and how do you implement it?', 'output': 'A Content Security Policy (CSP) is a security feature that helps prevent various types of attacks, including Cross-Site Scripting (XSS) and data injection attacks, by specifying which content sources are trusted. CSP can be implemented by adding a `Content-Security-Policy` header to HTTP responses, defining directives that control the sources from which scripts, styles, images, and other resources can be loaded.', '__index_level_0__': 18}\n",
            "{'input': \"question: What is the purpose of React's useDeferredValue hook?\", 'output': 'The useDeferredValue hook allows you to defer rendering of a non-urgent update, improving the responsiveness of your app.', '__index_level_0__': 52}\n",
            "{'input': 'question: What are the key differences between the useEffect and useLayoutEffect hooks in React?', 'output': 'The useEffect hook is used for side effects that do not require synchronous execution, such as data fetching or updating the DOM after render. It runs asynchronously after the DOM has been updated. In contrast, useLayoutEffect runs synchronously after all DOM mutations but before the browser has painted, allowing for measurements and layout adjustments before the screen update.', '__index_level_0__': 14}\n",
            "{'input': 'question: How do you implement lazy loading in React?', 'output': \"Lazy loading can be implemented using React's Suspense and lazy functions to dynamically import components only when they are needed.\", '__index_level_0__': 39}\n",
            "{'input': 'question: What is the use of the React.Fragment component?', 'output': 'React.Fragment is used to group multiple elements without adding extra nodes to the DOM.', '__index_level_0__': 25}\n",
            "{'input': 'question: What is the purpose of the useCallback hook?', 'output': 'The useCallback hook is used to memoize callback functions to prevent unnecessary re-renders.', '__index_level_0__': 34}\n",
            "{'input': \"question: What is the purpose of React's useLayoutEffect hook?\", 'output': 'The useLayoutEffect hook is similar to useEffect but runs synchronously after all DOM mutations, allowing you to read layout and trigger re-rendering.', '__index_level_0__': 40}\n",
            "{'input': 'question: How do you pass data between components in React?', 'output': 'You can pass data between components using props.', '__index_level_0__': 6}\n",
            "{'input': 'question: How do you use context in React?', 'output': 'Context provides a way to pass data through the component tree without having to pass props down manually at every level.', '__index_level_0__': 26}\n",
            "{'input': 'question: What is the CAP theorem and how does it relate to distributed databases?', 'output': 'The CAP theorem states that in a distributed data store, you can only achieve two out of the following three guarantees: Consistency, Availability, and Partition Tolerance. Consistency ensures that all nodes see the same data at the same time, Availability ensures that every request receives a response, and Partition Tolerance means the system continues to operate despite network partitions.', '__index_level_0__': 8}\n",
            "{'input': 'question: What is the virtual DOM?', 'output': 'The virtual DOM is a lightweight copy of the actual DOM that React uses to improve performance.', '__index_level_0__': 4}\n",
            "{'input': \"question: What is React's context API?\", 'output': 'The context API allows you to share values between components without having to explicitly pass props through every level of the component tree.', '__index_level_0__': 50}\n",
            "{'input': 'question: How do you handle form validation in React?', 'output': 'Form validation can be handled using controlled components, validation libraries like Formik or React Hook Form, or custom validation functions.', '__index_level_0__': 58}\n",
            "{'input': 'question: What is the purpose of the useReducer hook?', 'output': 'The useReducer hook is used for managing complex state logic in functional components, similar to Redux.', '__index_level_0__': 31}\n",
            "{'input': 'question: How do you manage side effects in a functional component?', 'output': 'Side effects are managed using the useEffect hook.', '__index_level_0__': 37}\n",
            "{'input': 'question: What is a Man-in-the-Middle (MitM) attack and how can it be mitigated?', 'output': 'A Man-in-the-Middle (MitM) attack involves an attacker intercepting and potentially altering communications between two parties without their knowledge. MitM attacks can be mitigated using encryption protocols like HTTPS, employing certificate pinning to verify the authenticity of certificates, and utilizing secure channels for sensitive communications.', '__index_level_0__': 16}\n",
            "{'input': \"question: How do you use React's forwardRef?\", 'output': 'React.forwardRef is used to forward refs to a child component, allowing parent components to access child component DOM nodes.', '__index_level_0__': 53}\n",
            "{'input': 'question: How do you manage global state in a React application?', 'output': 'Global state can be managed using context API, state management libraries like Redux, or third-party libraries like Recoil.', '__index_level_0__': 49}\n",
            "{'input': 'question: What is the purpose of React.StrictMode?', 'output': 'React.StrictMode is a wrapper that helps identify potential problems in an application by activating additional checks and warnings.', '__index_level_0__': 38}\n",
            "{'input': 'question: What is a custom hook in React?', 'output': 'A custom hook is a reusable function that encapsulates and shares logic between components.', '__index_level_0__': 54}\n",
            "{'input': 'question: What is a component in React?', 'output': 'A component is a reusable piece of code that represents a part of a user interface.', '__index_level_0__': 1}\n",
            "{'input': 'question: How do you conditionally render components in React?', 'output': 'You can conditionally render components using conditional operators or the ternary operator.', '__index_level_0__': 24}\n",
            "{'input': 'question: How does database sharding work?', 'output': 'Database sharding involves dividing a large database into smaller, more manageable pieces, called shards, which are distributed across multiple servers. Each shard holds a subset of the data, and queries are routed to the appropriate shard based on the data being accessed.', '__index_level_0__': 7}\n"
          ]
        }
      ],
      "source": [
        "import pandas as pd\n",
        "from sklearn.model_selection import train_test_split\n",
        "from datasets import Dataset\n",
        "\n",
        "\n",
        "\n",
        "data = [\n",
        "\n",
        "    {\"input\": \"question: What is React?\", \"output\": \"React is a JavaScript library for building user interfaces.\"},\n",
        "    {\"input\": \"question: What is a component in React?\", \"output\": \"A component is a reusable piece of code that represents a part of a user interface.\"},\n",
        "    {\"input\": \"question: What is JSX?\", \"output\": \"JSX is a syntax extension for JavaScript that looks similar to XML or HTML.\"},\n",
        "    {\"input\": \"question: How do you create a state in a React component?\", \"output\": \"You can create state using the useState hook.\"},\n",
        "    {\"input\": \"question: What is the virtual DOM?\", \"output\": \"The virtual DOM is a lightweight copy of the actual DOM that React uses to improve performance.\"},\n",
        "    {\"input\": \"question: What is a React Hook?\", \"output\": \"Hooks are functions that let you use state and other React features without writing a class.\"},\n",
        "    {\"input\": \"question: How do you pass data between components in React?\", \"output\": \"You can pass data between components using props.\"},\n",
        "    {\"input\": \"question: How does database sharding work?\", \"output\": \"Database sharding involves dividing a large database into smaller, more manageable pieces, called shards, which are distributed across multiple servers. Each shard holds a subset of the data, and queries are routed to the appropriate shard based on the data being accessed.\"},\n",
        "    {\"input\": \"question: What is the CAP theorem and how does it relate to distributed databases?\", \"output\": \"The CAP theorem states that in a distributed data store, you can only achieve two out of the following three guarantees: Consistency, Availability, and Partition Tolerance. Consistency ensures that all nodes see the same data at the same time, Availability ensures that every request receives a response, and Partition Tolerance means the system continues to operate despite network partitions.\"},\n",
        "    {\"input\": \"question: How does the use of database indexes affect write performance?\", \"output\": \"While database indexes significantly improve read performance by allowing faster data retrieval, they can negatively impact write performance. Each time a write operation occurs, the index must be updated, which can add overhead and slow down insert, update, and delete operations.\"},\n",
        "    {\"input\": \"question: What are the trade-offs between using NoSQL and relational databases?\", \"output\": \"NoSQL databases offer flexible schemas and horizontal scalability, making them suitable for unstructured data and high-volume applications. Relational databases provide strong consistency, ACID transactions, and are well-suited for structured data with complex relationships. The trade-offs include NoSQL's eventual consistency versus relational databases' strict consistency and the schema rigidity of relational databases versus the schema flexibility of NoSQL.\"},\n",
        "    {\"input\": \"question: What is the role of the Event Loop in Node.js, and how does it handle asynchronous operations?\", \"output\": \"The Event Loop in Node.js is a mechanism that handles asynchronous operations by delegating them to background workers and continuing to process other tasks in the main thread. When an asynchronous operation completes, a callback or promise resolution is added to the event queue, and the Event Loop processes these callbacks in turn, allowing Node.js to perform non-blocking I/O operations.\"},\n",
        "    {\"input\": \"question: How can you achieve high availability and fault tolerance in a Node.js application?\", \"output\": \"High availability and fault tolerance can be achieved in Node.js applications through strategies such as clustering, which allows multiple instances of the application to run across different CPU cores or servers, load balancing to distribute traffic evenly, and using monitoring tools to detect and handle failures. Additionally, deploying applications in containerized environments with orchestrators like Kubernetes can further enhance reliability and manageability.\"},\n",
        "    {\"input\": \"question: What are some advanced techniques for managing state in large-scale React applications?\", \"output\": \"Advanced state management techniques in large-scale React applications include using state management libraries like Redux or MobX for global state, employing React's Context API for prop drilling avoidance, and combining it with tools like React Query for server-state management. Additionally, utilizing middleware for side effects, optimizing performance with memoization and lazy loading, and organizing state logic with custom hooks can help manage complexity.\"},\n",
        "    {\"input\": \"question: What are the key differences between the useEffect and useLayoutEffect hooks in React?\", \"output\": \"The useEffect hook is used for side effects that do not require synchronous execution, such as data fetching or updating the DOM after render. It runs asynchronously after the DOM has been updated. In contrast, useLayoutEffect runs synchronously after all DOM mutations but before the browser has painted, allowing for measurements and layout adjustments before the screen update.\"},\n",
        "    {\"input\": \"question: How does SQL injection occur, and what are effective strategies to prevent it?\", \"output\": \"SQL injection occurs when an attacker inserts malicious SQL code into a query, exploiting vulnerabilities in applications that improperly handle user input. Effective prevention strategies include using parameterized queries or prepared statements, employing ORM libraries that abstract SQL generation, validating and sanitizing user inputs, and implementing least privilege principles for database access.\"},\n",
        "    {\"input\": \"question: What is a Man-in-the-Middle (MitM) attack and how can it be mitigated?\", \"output\": \"A Man-in-the-Middle (MitM) attack involves an attacker intercepting and potentially altering communications between two parties without their knowledge. MitM attacks can be mitigated using encryption protocols like HTTPS, employing certificate pinning to verify the authenticity of certificates, and utilizing secure channels for sensitive communications.\"},\n",
        "    {\"input\": \"question: How do you implement rate limiting in a Node.js application, and why is it important?\", \"output\": \"Rate limiting is implemented in a Node.js application using middleware like `express-rate-limit` to restrict the number of requests a user can make to the server within a specified time frame. This helps prevent abuse, such as denial-of-service (DoS) attacks and ensures fair usage of resources. Rate limits can be set based on IP addresses or API keys, and can be enforced at various levels of the application stack.\"},\n",
        "    {\"input\": \"question: What is the role of a Content Security Policy (CSP) in web security, and how do you implement it?\", \"output\": \"A Content Security Policy (CSP) is a security feature that helps prevent various types of attacks, including Cross-Site Scripting (XSS) and data injection attacks, by specifying which content sources are trusted. CSP can be implemented by adding a `Content-Security-Policy` header to HTTP responses, defining directives that control the sources from which scripts, styles, images, and other resources can be loaded.\"},\n",
        "    {\"input\": \"question: What is the purpose of the useEffect hook?\", \"output\": \"The useEffect hook lets you perform side effects in functional components, such as fetching data or updating the DOM.\"},\n",
        "    {\"input\": \"question: What is a controlled component?\", \"output\": \"A controlled component is a component whose form data is handled by the state of the component.\"},\n",
        "    {\"input\": \"question: What is the difference between state and props?\", \"output\": \"State is managed within the component, while props are passed from parent to child components.\"},\n",
        "    {\"input\": \"question: How do you handle events in React?\", \"output\": \"Events in React are handled using event handlers that are passed as props to components.\"},\n",
        "    {\"input\": \"question: What is the use of the key prop in React?\", \"output\": \"The key prop is used to identify which items have changed, are added, or are removed in a list of elements.\"},\n",
        "    {\"input\": \"question: How do you conditionally render components in React?\", \"output\": \"You can conditionally render components using conditional operators or the ternary operator.\"},\n",
        "    {\"input\": \"question: What is the use of the React.Fragment component?\", \"output\": \"React.Fragment is used to group multiple elements without adding extra nodes to the DOM.\"},\n",
        "    {\"input\": \"question: How do you use context in React?\", \"output\": \"Context provides a way to pass data through the component tree without having to pass props down manually at every level.\"},\n",
        "    {\"input\": \"question: What is the purpose of React Router?\", \"output\": \"React Router is used to handle routing and navigation in React applications.\"},\n",
        "    {\"input\": \"question: What is a higher-order component?\", \"output\": \"A higher-order component is a function that takes a component and returns a new component with additional props.\"},\n",
        "    {\"input\": \"question: What is React's lifecycle method?\", \"output\": \"Lifecycle methods are hooks that allow you to run code at specific points in a component’s life cycle, such as componentDidMount or componentWillUnmount.\"},\n",
        "    {\"input\": \"question: How do you handle form submissions in React?\", \"output\": \"Form submissions in React are typically handled using controlled components and event handlers.\"},\n",
        "    {\"input\": \"question: What is the purpose of the useReducer hook?\", \"output\": \"The useReducer hook is used for managing complex state logic in functional components, similar to Redux.\"},\n",
        "    {\"input\": \"question: What are pure components?\", \"output\": \"Pure components are components that do not re-render if their props and state have not changed.\"},\n",
        "    {\"input\": \"question: How do you optimize performance in a React app?\", \"output\": \"Performance can be optimized using techniques like memoization, code-splitting, and avoiding unnecessary re-renders.\"},\n",
        "    {\"input\": \"question: What is the purpose of the useCallback hook?\", \"output\": \"The useCallback hook is used to memoize callback functions to prevent unnecessary re-renders.\"},\n",
        "    {\"input\": \"question: What is the difference between useState and useReducer?\", \"output\": \"useState is used for simple state management, while useReducer is better for managing complex state logic.\"},\n",
        "    {\"input\": \"question: What is the purpose of the useMemo hook?\", \"output\": \"The useMemo hook is used to memoize the results of expensive computations to avoid recalculating them on every render.\"},\n",
        "    {\"input\": \"question: How do you manage side effects in a functional component?\", \"output\": \"Side effects are managed using the useEffect hook.\"},\n",
        "    {\"input\": \"question: What is the purpose of React.StrictMode?\", \"output\": \"React.StrictMode is a wrapper that helps identify potential problems in an application by activating additional checks and warnings.\"},\n",
        "    {\"input\": \"question: How do you implement lazy loading in React?\", \"output\": \"Lazy loading can be implemented using React's Suspense and lazy functions to dynamically import components only when they are needed.\"},\n",
        "    {\"input\": \"question: What is the purpose of React's useLayoutEffect hook?\", \"output\": \"The useLayoutEffect hook is similar to useEffect but runs synchronously after all DOM mutations, allowing you to read layout and trigger re-rendering.\"},\n",
        "    {\"input\": \"question: What is the difference between ReactDOM.render and ReactDOM.hydrate?\", \"output\": \"ReactDOM.render is used to render React elements into the DOM, while ReactDOM.hydrate is used to attach event handlers to server-rendered HTML.\"},\n",
        "    {\"input\": \"question: How do you handle errors in React components?\", \"output\": \"Errors in React components can be handled using error boundaries, which catch JavaScript errors anywhere in their child component tree.\"},\n",
        "    {\"input\": \"question: What is the purpose of the React.memo function?\", \"output\": \"React.memo is a higher-order component that memoizes a component to prevent unnecessary re-renders when its props have not changed.\"},\n",
        "    {\"input\": \"question: How do you use ref in React?\", \"output\": \"Refs are used to access and interact with DOM nodes or React elements directly using the useRef hook or React.createRef.\"},\n",
        "    {\"input\": \"question: What are controlled and uncontrolled components?\", \"output\": \"Controlled components have their form data controlled by the React state, while uncontrolled components store form data in the DOM.\"},\n",
        "    {\"input\": \"question: What is the purpose of the useImperativeHandle hook?\", \"output\": \"The useImperativeHandle hook customizes the instance value that is exposed when using React.forwardRef.\"},\n",
        "    {\"input\": \"question: How do you implement routing in a React application?\", \"output\": \"Routing is implemented using libraries like React Router, which provide components and hooks for handling navigation.\"},\n",
        "    {\"input\": \"question: What is the purpose of React's useTransition hook?\", \"output\": \"The useTransition hook helps manage concurrent updates and provides a way to indicate loading states for UI transitions.\"},\n",
        "    {\"input\": \"question: How do you manage global state in a React application?\", \"output\": \"Global state can be managed using context API, state management libraries like Redux, or third-party libraries like Recoil.\"},\n",
        "    {\"input\": \"question: What is React's context API?\", \"output\": \"The context API allows you to share values between components without having to explicitly pass props through every level of the component tree.\"},\n",
        "    {\"input\": \"question: How do you handle asynchronous data fetching in React?\", \"output\": \"Asynchronous data fetching is commonly handled using useEffect in functional components or lifecycle methods in class components.\"},\n",
        "    {\"input\": \"question: What is the purpose of React's useDeferredValue hook?\", \"output\": \"The useDeferredValue hook allows you to defer rendering of a non-urgent update, improving the responsiveness of your app.\"},\n",
        "    {\"input\": \"question: How do you use React's forwardRef?\", \"output\": \"React.forwardRef is used to forward refs to a child component, allowing parent components to access child component DOM nodes.\"},\n",
        "    {\"input\": \"question: What is a custom hook in React?\", \"output\": \"A custom hook is a reusable function that encapsulates and shares logic between components.\"},\n",
        "    {\"input\": \"question: How do you implement a higher-order component in React?\", \"output\": \"A higher-order component is implemented as a function that takes a component and returns a new component with additional props or behavior.\"},\n",
        "    {\"input\": \"question: What is the purpose of React's useLayoutEffect hook?\", \"output\": \"The useLayoutEffect hook is used to perform side effects that require reading layout and synchronously updating the DOM.\"},\n",
        "    {\"input\": \"question: What are fragment components in React?\", \"output\": \"Fragment components allow you to group multiple elements without adding extra nodes to the DOM.\"},\n",
        "    {\"input\": \"question: How do you handle form validation in React?\", \"output\": \"Form validation can be handled using controlled components, validation libraries like Formik or React Hook Form, or custom validation functions.\"}\n",
        "\n",
        "]\n",
        "\n",
        "df= pd.DataFrame(data)\n",
        "print(df.head())\n",
        "\n",
        "\n",
        "train_df_data , val_df_data = train_test_split(df  ,test_size = 0.1)\n",
        "\n",
        "train_data  = Dataset.from_pandas(train_df_data)\n",
        "\n",
        "validation_data = Dataset.from_pandas(val_df_data)\n",
        "\n",
        "\n",
        "\n",
        "for i in train_data:\n",
        "   print(i)"
      ]
    },
    {
      "cell_type": "code",
      "execution_count": null,
      "metadata": {
        "id": "O9v3_RVuepJ3"
      },
      "outputs": [],
      "source": []
    },
    {
      "cell_type": "code",
      "execution_count": 6,
      "metadata": {
        "colab": {
          "base_uri": "https://localhost:8080/",
          "height": 1000,
          "referenced_widgets": [
            "51e7381a523440d8aae52944475c9306",
            "3401b01843cd4cc192b2c19417839a6b",
            "aad9ce1318ac456cb550e0049cd1413a",
            "5c0a3825afc4488dae820993d224cc41",
            "1cfce51cc8314adca9b8ee6951d1388e",
            "1ac8dad4f60e4a3fb9bc9f93f7eb08a7",
            "1968d762f27b41a88c259ccae8e4a1b8",
            "ecd8099ac96744569a83975d0b31bca0",
            "7898311a60da4268a6aca4d5ed36549c",
            "e7bbfa27df97458aa74e020f94ff81c2",
            "9ff99452e0ab478f8573a2a977f6cb11",
            "fe82073007b84b4ab1edf2ee62382cff",
            "4825fed03e8b44f199543d3f025d9d2c",
            "84d4d8adc56041fc982d8c604b7d45c0",
            "5476da842ce044ee88b81be7afff7433",
            "9b439608862c49308dd5990969e90433",
            "d1406df3e5bd4bfbbb60387756601999",
            "80d8bbf3d84442adbb41cbab969222f3",
            "cffde6d141e5424a819ddc1d1f1d3e4e",
            "99e25a55e41847efba94215ecb3a3e49",
            "361393c5823c4869848d2ee70bc95031",
            "baa7781fc3864728b0406a6676fb35fd",
            "589a7b07ba0145d6ac46fb6115b39b3c",
            "20e8789353e547168b839c979b114cc4",
            "76a6ec18fe4744c2a8fae56f72082f05",
            "ac8682ce6e88481c8b07426f6b60b2fb",
            "c1d3128e9ee74796bafb02adda59a10d",
            "6b9968ea24064320b5714594b148f07d",
            "8a28939fc8e34a6fa68ad0c7c96b050b",
            "ba37ef66bc644a8e90ea62909b915b08",
            "f0d2b3a34e604ff2b1fe31e38b934647",
            "e45f8102ec6241cb9845c579fe514280",
            "69ed5bfc0b8743b4ab406bd7ff64dd7f",
            "a0f3a3a966e84a5cbb171310b1412bf8",
            "bef2615c07894bf09a53386e15f96fd4",
            "8bb385716f2d4fd4a9231bb5c6e56cb6",
            "cb039ca3c9e044e3851d517fc6eb609f",
            "ccd1c3ccd48c46268fd487d3c7bf258e",
            "190a5dc0e5d1491a940b1466a1519591",
            "c2c74824abc048968949c4d8b2aa8a7f",
            "de0b7eb835ca40d3a8812398e6189045",
            "848eaffaee14418a989111953577f204",
            "46b97f04dd77404086cce2d3dd5d45a3",
            "ebb24b4784de468a93d56c9d46e551fb",
            "8f05cc7acc65487ebc81d20833794254",
            "b741f56422f8496a9f39d9e5cac49d5c",
            "1722638dd9694f4690affc750be4182f",
            "0753765e62834725b31ed5327680961b",
            "4fd343c6409b4696808e193537a435b3",
            "3611d16102e14065a6496654b882a66a",
            "aa300802d8cc462ebf212896bc7dba93",
            "d398eb4cea5e4d3c834d04ac5320865b",
            "a2368d2e022a4f778728feaf46c5c941",
            "baf85af77b4c4b78a8b9d47407480c17",
            "1acb61d64b304526a52af079e8784fe0",
            "b339920ddd7647a8a24d8407fc48bc59",
            "2c620b303c6c49e1aad0bf8926a635b5",
            "779c467eab974767b07e4f84d96c5113",
            "d6d6fc6041274971bf99deae4bfd8c09",
            "f9e95b4225ac4a128e3fba4b81eb91e5",
            "4c32aa7e940d4dabaee519ea5699d126",
            "ccedd9f60de04398bb08226fa8bc3477",
            "30b89a824e0648eba953a20358469ee6",
            "b1e33a14805c4eaebcce89603247a67a",
            "65802e49049a4cae93b35a59a776543a",
            "1507597754b24f54a3394e052ee09c3a",
            "e8adfef596d641caa0b5231e5ab37f43",
            "462556859a334c9b9201f09feeaa428b",
            "590e87d3ff614bc79d1a6861e87e11e6",
            "b121394053ee4897987a6a3f30e0a4ae",
            "2ddf4350dbf040afab63eb8a5ed374d9",
            "eca58960061e4ec780ff29ccdfbb001a",
            "faa7b22a41964e28a8fd87fe2718cbb6",
            "97c48c8a80504c6e902c24392a2f2622",
            "8daa77317a3b42a8a725296d869bc17b",
            "e5289dd85f3f473297b57a6450d83eec",
            "d8ab2a99bf66406c85564da3f7ae870a",
            "46ffed2c152342c783a4422fd151e454",
            "45d85462c9d34332afefd446882b4954",
            "c0a5d602aea540e38f11e2a6ce2ed87f",
            "d864d721c58f47358e2ad8f28afc97fb",
            "f9abbdd71c4f4e38bc4e03da0d566e06",
            "4b37b81b787a4fa087c1386e0ff65e8f",
            "91d2961cf3bd4f53b4651bca62f17674",
            "0509fba14bfb4c04823daa5eee85841f",
            "9149756b74f443e7aa10b2d6d1b843ec",
            "859b34fe316a4df39f16511e3466b4dc",
            "380b1393a7fc4e63ba5aa6ff5ca5e651"
          ]
        },
        "id": "xnuDa0ObedT0",
        "outputId": "a8bc33e6-6c8c-440e-e7a2-3c4596093f08"
      },
      "outputs": [
        {
          "name": "stderr",
          "output_type": "stream",
          "text": [
            "You are using the default legacy behaviour of the <class 'transformers.models.t5.tokenization_t5.T5Tokenizer'>. This is expected, and simply means that the `legacy` (previous) behavior will be used so nothing changes for you. If you want to use the new behaviour, set `legacy=False`. This should only be set if you understand what it means, and thoroughly read the reason why this was added as explained in https://github.com/huggingface/transformers/pull/24565\n",
            "Map:   0%|          | 0/53 [00:00<?, ? examples/s]C:\\Users\\Asus\\AppData\\Roaming\\Python\\Python311\\site-packages\\transformers\\tokenization_utils_base.py:4126: UserWarning: `as_target_tokenizer` is deprecated and will be removed in v5 of Transformers. You can tokenize your labels by using the argument `text_target` of the regular `__call__` method (either in the same call as your input texts if you use the same keyword arguments, or in a separate call.\n",
            "  warnings.warn(\n",
            "Map: 100%|██████████| 53/53 [00:00<00:00, 1205.63 examples/s]\n"
          ]
        },
        {
          "name": "stdout",
          "output_type": "stream",
          "text": [
            "['SQL injection occurs when an attacker inserts malicious SQL code into a query, exploiting vulnerabilities in applications that improperly handle user input. Effective prevention strategies include using parameterized queries or prepared statements, employing ORM libraries that abstract SQL generation, validating and sanitizing user inputs, and implementing least privilege principles for database access.', 'Form submissions in React are typically handled using controlled components and event handlers.', 'JSX is a syntax extension for JavaScript that looks similar to XML or HTML.', 'The Event Loop in Node.js is a mechanism that handles asynchronous operations by delegating them to background workers and continuing to process other tasks in the main thread. When an asynchronous operation completes, a callback or promise resolution is added to the event queue, and the Event Loop processes these callbacks in turn, allowing Node.js to perform non-blocking I/O operations.', 'The useImperativeHandle hook customizes the instance value that is exposed when using React.forwardRef.', 'Fragment components allow you to group multiple elements without adding extra nodes to the DOM.', 'React Router is used to handle routing and navigation in React applications.', 'Hooks are functions that let you use state and other React features without writing a class.', 'Routing is implemented using libraries like React Router, which provide components and hooks for handling navigation.', \"Advanced state management techniques in large-scale React applications include using state management libraries like Redux or MobX for global state, employing React's Context API for prop drilling avoidance, and combining it with tools like React Query for server-state management. Additionally, utilizing middleware for side effects, optimizing performance with memoization and lazy loading, and organizing state logic with custom hooks can help manage complexity.\", 'While database indexes significantly improve read performance by allowing faster data retrieval, they can negatively impact write performance. Each time a write operation occurs, the index must be updated, which can add overhead and slow down insert, update, and delete operations.', 'High availability and fault tolerance can be achieved in Node.js applications through strategies such as clustering, which allows multiple instances of the application to run across different CPU cores or servers, load balancing to distribute traffic evenly, and using monitoring tools to detect and handle failures. Additionally, deploying applications in containerized environments with orchestrators like Kubernetes can further enhance reliability and manageability.', 'React is a JavaScript library for building user interfaces.', 'The useTransition hook helps manage concurrent updates and provides a way to indicate loading states for UI transitions.', 'Pure components are components that do not re-render if their props and state have not changed.', 'A controlled component is a component whose form data is handled by the state of the component.', 'State is managed within the component, while props are passed from parent to child components.', 'The key prop is used to identify which items have changed, are added, or are removed in a list of elements.', 'Lifecycle methods are hooks that allow you to run code at specific points in a component’s life cycle, such as componentDidMount or componentWillUnmount.', 'The useLayoutEffect hook is used to perform side effects that require reading layout and synchronously updating the DOM.', 'Refs are used to access and interact with DOM nodes or React elements directly using the useRef hook or React.createRef.', 'You can create state using the useState hook.', 'useState is used for simple state management, while useReducer is better for managing complex state logic.', 'Events in React are handled using event handlers that are passed as props to components.', 'Performance can be optimized using techniques like memoization, code-splitting, and avoiding unnecessary re-renders.', 'A higher-order component is implemented as a function that takes a component and returns a new component with additional props or behavior.', 'ReactDOM.render is used to render React elements into the DOM, while ReactDOM.hydrate is used to attach event handlers to server-rendered HTML.', \"NoSQL databases offer flexible schemas and horizontal scalability, making them suitable for unstructured data and high-volume applications. Relational databases provide strong consistency, ACID transactions, and are well-suited for structured data with complex relationships. The trade-offs include NoSQL's eventual consistency versus relational databases' strict consistency and the schema rigidity of relational databases versus the schema flexibility of NoSQL.\", 'A higher-order component is a function that takes a component and returns a new component with additional props.', 'The useMemo hook is used to memoize the results of expensive computations to avoid recalculating them on every render.', 'A Content Security Policy (CSP) is a security feature that helps prevent various types of attacks, including Cross-Site Scripting (XSS) and data injection attacks, by specifying which content sources are trusted. CSP can be implemented by adding a `Content-Security-Policy` header to HTTP responses, defining directives that control the sources from which scripts, styles, images, and other resources can be loaded.', 'The useDeferredValue hook allows you to defer rendering of a non-urgent update, improving the responsiveness of your app.', 'The useEffect hook is used for side effects that do not require synchronous execution, such as data fetching or updating the DOM after render. It runs asynchronously after the DOM has been updated. In contrast, useLayoutEffect runs synchronously after all DOM mutations but before the browser has painted, allowing for measurements and layout adjustments before the screen update.', \"Lazy loading can be implemented using React's Suspense and lazy functions to dynamically import components only when they are needed.\", 'React.Fragment is used to group multiple elements without adding extra nodes to the DOM.', 'The useCallback hook is used to memoize callback functions to prevent unnecessary re-renders.', 'The useLayoutEffect hook is similar to useEffect but runs synchronously after all DOM mutations, allowing you to read layout and trigger re-rendering.', 'You can pass data between components using props.', 'Context provides a way to pass data through the component tree without having to pass props down manually at every level.', 'The CAP theorem states that in a distributed data store, you can only achieve two out of the following three guarantees: Consistency, Availability, and Partition Tolerance. Consistency ensures that all nodes see the same data at the same time, Availability ensures that every request receives a response, and Partition Tolerance means the system continues to operate despite network partitions.', 'The virtual DOM is a lightweight copy of the actual DOM that React uses to improve performance.', 'The context API allows you to share values between components without having to explicitly pass props through every level of the component tree.', 'Form validation can be handled using controlled components, validation libraries like Formik or React Hook Form, or custom validation functions.', 'The useReducer hook is used for managing complex state logic in functional components, similar to Redux.', 'Side effects are managed using the useEffect hook.', 'A Man-in-the-Middle (MitM) attack involves an attacker intercepting and potentially altering communications between two parties without their knowledge. MitM attacks can be mitigated using encryption protocols like HTTPS, employing certificate pinning to verify the authenticity of certificates, and utilizing secure channels for sensitive communications.', 'React.forwardRef is used to forward refs to a child component, allowing parent components to access child component DOM nodes.', 'Global state can be managed using context API, state management libraries like Redux, or third-party libraries like Recoil.', 'React.StrictMode is a wrapper that helps identify potential problems in an application by activating additional checks and warnings.', 'A custom hook is a reusable function that encapsulates and shares logic between components.', 'A component is a reusable piece of code that represents a part of a user interface.', 'You can conditionally render components using conditional operators or the ternary operator.', 'Database sharding involves dividing a large database into smaller, more manageable pieces, called shards, which are distributed across multiple servers. Each shard holds a subset of the data, and queries are routed to the appropriate shard based on the data being accessed.']\n"
          ]
        },
        {
          "name": "stderr",
          "output_type": "stream",
          "text": [
            "Map: 100%|██████████| 6/6 [00:00<00:00, 528.55 examples/s]\n",
            "C:\\Users\\Asus\\AppData\\Roaming\\Python\\Python311\\site-packages\\transformers\\training_args.py:1525: FutureWarning: `evaluation_strategy` is deprecated and will be removed in version 4.46 of 🤗 Transformers. Use `eval_strategy` instead\n",
            "  warnings.warn(\n"
          ]
        },
        {
          "name": "stdout",
          "output_type": "stream",
          "text": [
            "['Controlled components have their form data controlled by the React state, while uncontrolled components store form data in the DOM.', 'Errors in React components can be handled using error boundaries, which catch JavaScript errors anywhere in their child component tree.', 'Asynchronous data fetching is commonly handled using useEffect in functional components or lifecycle methods in class components.', 'React.memo is a higher-order component that memoizes a component to prevent unnecessary re-renders when its props have not changed.', 'The useEffect hook lets you perform side effects in functional components, such as fetching data or updating the DOM.', 'Rate limiting is implemented in a Node.js application using middleware like `express-rate-limit` to restrict the number of requests a user can make to the server within a specified time frame. This helps prevent abuse, such as denial-of-service (DoS) attacks and ensures fair usage of resources. Rate limits can be set based on IP addresses or API keys, and can be enforced at various levels of the application stack.']\n",
            "Dataset({\n",
            "    features: ['input', 'output', '__index_level_0__', 'input_ids', 'attention_mask', 'labels'],\n",
            "    num_rows: 53\n",
            "})\n",
            "Dataset({\n",
            "    features: ['input', 'output', '__index_level_0__', 'input_ids', 'attention_mask', 'labels'],\n",
            "    num_rows: 6\n",
            "})\n",
            "Controlled components have their form data controlled by the React state, while uncontrolled components store form data in the DOM.</s><pad><pad><pad><pad><pad><pad><pad><pad><pad><pad><pad><pad><pad><pad><pad><pad><pad><pad><pad><pad><pad><pad><pad><pad><pad><pad><pad><pad><pad><pad><pad><pad><pad><pad><pad><pad><pad><pad><pad><pad><pad><pad><pad><pad><pad><pad><pad><pad><pad><pad><pad><pad><pad><pad><pad><pad><pad><pad><pad><pad><pad><pad><pad><pad><pad><pad><pad><pad><pad><pad><pad><pad><pad><pad><pad><pad><pad><pad><pad><pad><pad><pad><pad><pad><pad><pad><pad><pad><pad><pad><pad><pad><pad><pad><pad><pad><pad><pad><pad><pad><pad> question: What are controlled and uncontrolled components?</s><pad><pad><pad><pad><pad><pad><pad><pad><pad><pad><pad><pad><pad><pad><pad><pad><pad><pad><pad><pad><pad><pad><pad><pad><pad><pad><pad><pad><pad><pad><pad><pad><pad><pad><pad><pad><pad><pad><pad><pad><pad><pad><pad><pad><pad><pad><pad><pad><pad><pad><pad><pad><pad><pad><pad><pad><pad><pad><pad><pad><pad><pad><pad><pad><pad><pad><pad><pad><pad><pad><pad><pad><pad><pad><pad><pad><pad><pad><pad><pad><pad><pad><pad><pad><pad><pad><pad><pad><pad><pad><pad><pad><pad><pad><pad><pad><pad><pad><pad><pad><pad><pad><pad><pad><pad><pad><pad><pad><pad><pad><pad><pad><pad><pad><pad><pad><pad>\n",
            "Errors in React components can be handled using error boundaries, which catch JavaScript errors anywhere in their child component tree.</s><pad><pad><pad><pad><pad><pad><pad><pad><pad><pad><pad><pad><pad><pad><pad><pad><pad><pad><pad><pad><pad><pad><pad><pad><pad><pad><pad><pad><pad><pad><pad><pad><pad><pad><pad><pad><pad><pad><pad><pad><pad><pad><pad><pad><pad><pad><pad><pad><pad><pad><pad><pad><pad><pad><pad><pad><pad><pad><pad><pad><pad><pad><pad><pad><pad><pad><pad><pad><pad><pad><pad><pad><pad><pad><pad><pad><pad><pad><pad><pad><pad><pad><pad><pad><pad><pad><pad><pad><pad><pad><pad><pad><pad><pad><pad><pad><pad><pad><pad><pad> question: How do you handle errors in React components?</s><pad><pad><pad><pad><pad><pad><pad><pad><pad><pad><pad><pad><pad><pad><pad><pad><pad><pad><pad><pad><pad><pad><pad><pad><pad><pad><pad><pad><pad><pad><pad><pad><pad><pad><pad><pad><pad><pad><pad><pad><pad><pad><pad><pad><pad><pad><pad><pad><pad><pad><pad><pad><pad><pad><pad><pad><pad><pad><pad><pad><pad><pad><pad><pad><pad><pad><pad><pad><pad><pad><pad><pad><pad><pad><pad><pad><pad><pad><pad><pad><pad><pad><pad><pad><pad><pad><pad><pad><pad><pad><pad><pad><pad><pad><pad><pad><pad><pad><pad><pad><pad><pad><pad><pad><pad><pad><pad><pad><pad><pad><pad><pad><pad><pad><pad>\n",
            "Asynchronous data fetching is commonly handled using useEffect in functional components or lifecycle methods in class components.</s><pad><pad><pad><pad><pad><pad><pad><pad><pad><pad><pad><pad><pad><pad><pad><pad><pad><pad><pad><pad><pad><pad><pad><pad><pad><pad><pad><pad><pad><pad><pad><pad><pad><pad><pad><pad><pad><pad><pad><pad><pad><pad><pad><pad><pad><pad><pad><pad><pad><pad><pad><pad><pad><pad><pad><pad><pad><pad><pad><pad><pad><pad><pad><pad><pad><pad><pad><pad><pad><pad><pad><pad><pad><pad><pad><pad><pad><pad><pad><pad><pad><pad><pad><pad><pad><pad><pad><pad><pad><pad><pad><pad><pad><pad><pad><pad><pad><pad><pad><pad><pad><pad><pad> question: How do you handle asynchronous data fetching in React?</s><pad><pad><pad><pad><pad><pad><pad><pad><pad><pad><pad><pad><pad><pad><pad><pad><pad><pad><pad><pad><pad><pad><pad><pad><pad><pad><pad><pad><pad><pad><pad><pad><pad><pad><pad><pad><pad><pad><pad><pad><pad><pad><pad><pad><pad><pad><pad><pad><pad><pad><pad><pad><pad><pad><pad><pad><pad><pad><pad><pad><pad><pad><pad><pad><pad><pad><pad><pad><pad><pad><pad><pad><pad><pad><pad><pad><pad><pad><pad><pad><pad><pad><pad><pad><pad><pad><pad><pad><pad><pad><pad><pad><pad><pad><pad><pad><pad><pad><pad><pad><pad><pad><pad><pad><pad><pad><pad><pad><pad><pad><pad>\n",
            "React.memo is a higher-order component that memoizes a component to prevent unnecessary re-renders when its props have not changed.</s><pad><pad><pad><pad><pad><pad><pad><pad><pad><pad><pad><pad><pad><pad><pad><pad><pad><pad><pad><pad><pad><pad><pad><pad><pad><pad><pad><pad><pad><pad><pad><pad><pad><pad><pad><pad><pad><pad><pad><pad><pad><pad><pad><pad><pad><pad><pad><pad><pad><pad><pad><pad><pad><pad><pad><pad><pad><pad><pad><pad><pad><pad><pad><pad><pad><pad><pad><pad><pad><pad><pad><pad><pad><pad><pad><pad><pad><pad><pad><pad><pad><pad><pad><pad><pad><pad><pad><pad><pad><pad> question: What is the purpose of the React.memo function?</s><pad><pad><pad><pad><pad><pad><pad><pad><pad><pad><pad><pad><pad><pad><pad><pad><pad><pad><pad><pad><pad><pad><pad><pad><pad><pad><pad><pad><pad><pad><pad><pad><pad><pad><pad><pad><pad><pad><pad><pad><pad><pad><pad><pad><pad><pad><pad><pad><pad><pad><pad><pad><pad><pad><pad><pad><pad><pad><pad><pad><pad><pad><pad><pad><pad><pad><pad><pad><pad><pad><pad><pad><pad><pad><pad><pad><pad><pad><pad><pad><pad><pad><pad><pad><pad><pad><pad><pad><pad><pad><pad><pad><pad><pad><pad><pad><pad><pad><pad><pad><pad><pad><pad><pad><pad><pad><pad><pad><pad><pad><pad>\n",
            "The useEffect hook lets you perform side effects in functional components, such as fetching data or updating the DOM.</s><pad><pad><pad><pad><pad><pad><pad><pad><pad><pad><pad><pad><pad><pad><pad><pad><pad><pad><pad><pad><pad><pad><pad><pad><pad><pad><pad><pad><pad><pad><pad><pad><pad><pad><pad><pad><pad><pad><pad><pad><pad><pad><pad><pad><pad><pad><pad><pad><pad><pad><pad><pad><pad><pad><pad><pad><pad><pad><pad><pad><pad><pad><pad><pad><pad><pad><pad><pad><pad><pad><pad><pad><pad><pad><pad><pad><pad><pad><pad><pad><pad><pad><pad><pad><pad><pad><pad><pad><pad><pad><pad><pad><pad><pad><pad><pad><pad><pad><pad><pad><pad> question: What is the purpose of the useEffect hook?</s><pad><pad><pad><pad><pad><pad><pad><pad><pad><pad><pad><pad><pad><pad><pad><pad><pad><pad><pad><pad><pad><pad><pad><pad><pad><pad><pad><pad><pad><pad><pad><pad><pad><pad><pad><pad><pad><pad><pad><pad><pad><pad><pad><pad><pad><pad><pad><pad><pad><pad><pad><pad><pad><pad><pad><pad><pad><pad><pad><pad><pad><pad><pad><pad><pad><pad><pad><pad><pad><pad><pad><pad><pad><pad><pad><pad><pad><pad><pad><pad><pad><pad><pad><pad><pad><pad><pad><pad><pad><pad><pad><pad><pad><pad><pad><pad><pad><pad><pad><pad><pad><pad><pad><pad><pad><pad><pad><pad><pad><pad><pad><pad><pad>\n",
            "Rate limiting is implemented in a Node.js application using middleware like <unk> express-rate-limit<unk> to restrict the number of requests a user can make to the server within a specified time frame. This helps prevent abuse, such as denial-of-service (DoS) attacks and ensures fair usage of resources. Rate limits can be set based on IP addresses or API keys, and can be enforced at various levels of the application stack.</s><pad><pad><pad><pad><pad><pad><pad><pad><pad><pad><pad><pad><pad><pad><pad><pad><pad><pad><pad><pad><pad><pad><pad><pad><pad><pad> question: How do you implement rate limiting in a Node.js application, and why is it important?</s><pad><pad><pad><pad><pad><pad><pad><pad><pad><pad><pad><pad><pad><pad><pad><pad><pad><pad><pad><pad><pad><pad><pad><pad><pad><pad><pad><pad><pad><pad><pad><pad><pad><pad><pad><pad><pad><pad><pad><pad><pad><pad><pad><pad><pad><pad><pad><pad><pad><pad><pad><pad><pad><pad><pad><pad><pad><pad><pad><pad><pad><pad><pad><pad><pad><pad><pad><pad><pad><pad><pad><pad><pad><pad><pad><pad><pad><pad><pad><pad><pad><pad><pad><pad><pad><pad><pad><pad><pad><pad><pad><pad><pad><pad><pad><pad><pad><pad><pad><pad><pad><pad>\n"
          ]
        },
        {
          "name": "stderr",
          "output_type": "stream",
          "text": [
            "  1%|          | 10/1400 [01:01<2:30:34,  6.50s/it]"
          ]
        },
        {
          "name": "stdout",
          "output_type": "stream",
          "text": [
            "{'loss': 12.4183, 'grad_norm': 73.22423553466797, 'learning_rate': 1.0000000000000002e-06, 'epoch': 0.71}\n"
          ]
        },
        {
          "name": "stderr",
          "output_type": "stream",
          "text": [
            "                                                   \n",
            "  1%|          | 14/1400 [01:28<2:09:02,  5.59s/it]"
          ]
        },
        {
          "name": "stdout",
          "output_type": "stream",
          "text": [
            "{'eval_loss': 14.532306671142578, 'eval_runtime': 3.3734, 'eval_samples_per_second': 1.779, 'eval_steps_per_second': 0.593, 'epoch': 1.0}\n"
          ]
        },
        {
          "name": "stderr",
          "output_type": "stream",
          "text": [
            "  1%|▏         | 20/1400 [02:07<2:32:05,  6.61s/it]"
          ]
        },
        {
          "name": "stdout",
          "output_type": "stream",
          "text": [
            "{'loss': 12.2742, 'grad_norm': 51.97539520263672, 'learning_rate': 2.0000000000000003e-06, 'epoch': 1.43}\n"
          ]
        },
        {
          "name": "stderr",
          "output_type": "stream",
          "text": [
            "                                                   \n",
            "  2%|▏         | 28/1400 [02:52<1:40:15,  4.38s/it]"
          ]
        },
        {
          "name": "stdout",
          "output_type": "stream",
          "text": [
            "{'eval_loss': 14.03682804107666, 'eval_runtime': 2.9023, 'eval_samples_per_second': 2.067, 'eval_steps_per_second': 0.689, 'epoch': 2.0}\n"
          ]
        },
        {
          "name": "stderr",
          "output_type": "stream",
          "text": [
            "  2%|▏         | 30/1400 [03:05<2:14:52,  5.91s/it]"
          ]
        },
        {
          "name": "stdout",
          "output_type": "stream",
          "text": [
            "{'loss': 12.2963, 'grad_norm': 60.86533737182617, 'learning_rate': 3e-06, 'epoch': 2.14}\n"
          ]
        },
        {
          "name": "stderr",
          "output_type": "stream",
          "text": [
            "  3%|▎         | 40/1400 [04:04<2:18:56,  6.13s/it]"
          ]
        },
        {
          "name": "stdout",
          "output_type": "stream",
          "text": [
            "{'loss': 11.4923, 'grad_norm': 73.60066223144531, 'learning_rate': 4.000000000000001e-06, 'epoch': 2.86}\n"
          ]
        },
        {
          "name": "stderr",
          "output_type": "stream",
          "text": [
            "                                                   \n",
            "  3%|▎         | 42/1400 [04:17<1:59:54,  5.30s/it]"
          ]
        },
        {
          "name": "stdout",
          "output_type": "stream",
          "text": [
            "{'eval_loss': 13.206623077392578, 'eval_runtime': 3.1704, 'eval_samples_per_second': 1.892, 'eval_steps_per_second': 0.631, 'epoch': 3.0}\n"
          ]
        },
        {
          "name": "stderr",
          "output_type": "stream",
          "text": [
            "  4%|▎         | 50/1400 [05:08<2:26:44,  6.52s/it]"
          ]
        },
        {
          "name": "stdout",
          "output_type": "stream",
          "text": [
            "{'loss': 11.7706, 'grad_norm': 74.09185028076172, 'learning_rate': 5e-06, 'epoch': 3.57}\n"
          ]
        },
        {
          "name": "stderr",
          "output_type": "stream",
          "text": [
            "                                                   \n",
            "  4%|▍         | 56/1400 [05:43<1:53:08,  5.05s/it]"
          ]
        },
        {
          "name": "stdout",
          "output_type": "stream",
          "text": [
            "{'eval_loss': 12.112842559814453, 'eval_runtime': 3.1324, 'eval_samples_per_second': 1.915, 'eval_steps_per_second': 0.638, 'epoch': 4.0}\n"
          ]
        },
        {
          "name": "stderr",
          "output_type": "stream",
          "text": [
            "  4%|▍         | 60/1400 [06:10<2:25:59,  6.54s/it]"
          ]
        },
        {
          "name": "stdout",
          "output_type": "stream",
          "text": [
            "{'loss': 10.916, 'grad_norm': 72.31632232666016, 'learning_rate': 6e-06, 'epoch': 4.29}\n"
          ]
        },
        {
          "name": "stderr",
          "output_type": "stream",
          "text": [
            "  5%|▌         | 70/1400 [07:11<2:02:07,  5.51s/it]"
          ]
        },
        {
          "name": "stdout",
          "output_type": "stream",
          "text": [
            "{'loss': 9.5887, 'grad_norm': 46.94483184814453, 'learning_rate': 7.000000000000001e-06, 'epoch': 5.0}\n"
          ]
        },
        {
          "name": "stderr",
          "output_type": "stream",
          "text": [
            "                                                   \n",
            "  5%|▌         | 70/1400 [07:14<2:02:07,  5.51s/it]"
          ]
        },
        {
          "name": "stdout",
          "output_type": "stream",
          "text": [
            "{'eval_loss': 10.762763977050781, 'eval_runtime': 3.2232, 'eval_samples_per_second': 1.861, 'eval_steps_per_second': 0.62, 'epoch': 5.0}\n"
          ]
        },
        {
          "name": "stderr",
          "output_type": "stream",
          "text": [
            "  6%|▌         | 80/1400 [08:18<2:17:59,  6.27s/it]"
          ]
        },
        {
          "name": "stdout",
          "output_type": "stream",
          "text": [
            "{'loss': 8.8951, 'grad_norm': 56.92794418334961, 'learning_rate': 8.000000000000001e-06, 'epoch': 5.71}\n"
          ]
        },
        {
          "name": "stderr",
          "output_type": "stream",
          "text": [
            "                                                   \n",
            "  6%|▌         | 84/1400 [08:42<1:48:32,  4.95s/it]"
          ]
        },
        {
          "name": "stdout",
          "output_type": "stream",
          "text": [
            "{'eval_loss': 9.105134010314941, 'eval_runtime': 2.2668, 'eval_samples_per_second': 2.647, 'eval_steps_per_second': 0.882, 'epoch': 6.0}\n"
          ]
        },
        {
          "name": "stderr",
          "output_type": "stream",
          "text": [
            "  6%|▋         | 90/1400 [09:19<2:10:02,  5.96s/it]"
          ]
        },
        {
          "name": "stdout",
          "output_type": "stream",
          "text": [
            "{'loss': 7.7354, 'grad_norm': 60.768497467041016, 'learning_rate': 9e-06, 'epoch': 6.43}\n"
          ]
        },
        {
          "name": "stderr",
          "output_type": "stream",
          "text": [
            "                                                   \n",
            "  7%|▋         | 98/1400 [10:06<1:47:02,  4.93s/it]"
          ]
        },
        {
          "name": "stdout",
          "output_type": "stream",
          "text": [
            "{'eval_loss': 7.318566799163818, 'eval_runtime': 3.0372, 'eval_samples_per_second': 1.976, 'eval_steps_per_second': 0.659, 'epoch': 7.0}\n"
          ]
        },
        {
          "name": "stderr",
          "output_type": "stream",
          "text": [
            "  7%|▋         | 100/1400 [10:18<2:12:43,  6.13s/it]"
          ]
        },
        {
          "name": "stdout",
          "output_type": "stream",
          "text": [
            "{'loss': 7.3244, 'grad_norm': 103.06005859375, 'learning_rate': 1e-05, 'epoch': 7.14}\n"
          ]
        },
        {
          "name": "stderr",
          "output_type": "stream",
          "text": [
            "  8%|▊         | 110/1400 [11:17<1:54:55,  5.35s/it]"
          ]
        },
        {
          "name": "stdout",
          "output_type": "stream",
          "text": [
            "{'loss': 5.8677, 'grad_norm': 74.06170654296875, 'learning_rate': 1.1000000000000001e-05, 'epoch': 7.86}\n"
          ]
        },
        {
          "name": "stderr",
          "output_type": "stream",
          "text": [
            "                                                    \n",
            "  8%|▊         | 112/1400 [11:29<1:40:34,  4.69s/it]"
          ]
        },
        {
          "name": "stdout",
          "output_type": "stream",
          "text": [
            "{'eval_loss': 5.275111675262451, 'eval_runtime': 3.1804, 'eval_samples_per_second': 1.887, 'eval_steps_per_second': 0.629, 'epoch': 8.0}\n"
          ]
        },
        {
          "name": "stderr",
          "output_type": "stream",
          "text": [
            "  9%|▊         | 120/1400 [12:21<2:18:11,  6.48s/it]"
          ]
        },
        {
          "name": "stdout",
          "output_type": "stream",
          "text": [
            "{'loss': 5.2279, 'grad_norm': 58.71238708496094, 'learning_rate': 1.2e-05, 'epoch': 8.57}\n"
          ]
        },
        {
          "name": "stderr",
          "output_type": "stream",
          "text": [
            "                                                    \n",
            "  9%|▉         | 126/1400 [13:00<1:57:03,  5.51s/it]"
          ]
        },
        {
          "name": "stdout",
          "output_type": "stream",
          "text": [
            "{'eval_loss': 3.183198928833008, 'eval_runtime': 3.4369, 'eval_samples_per_second': 1.746, 'eval_steps_per_second': 0.582, 'epoch': 9.0}\n"
          ]
        },
        {
          "name": "stderr",
          "output_type": "stream",
          "text": [
            "  9%|▉         | 130/1400 [13:24<2:13:24,  6.30s/it]"
          ]
        },
        {
          "name": "stdout",
          "output_type": "stream",
          "text": [
            "{'loss': 4.3049, 'grad_norm': 55.526676177978516, 'learning_rate': 1.3000000000000001e-05, 'epoch': 9.29}\n"
          ]
        },
        {
          "name": "stderr",
          "output_type": "stream",
          "text": [
            " 10%|█         | 140/1400 [14:22<1:43:58,  4.95s/it]"
          ]
        },
        {
          "name": "stdout",
          "output_type": "stream",
          "text": [
            "{'loss': 3.4111, 'grad_norm': 59.73063659667969, 'learning_rate': 1.4000000000000001e-05, 'epoch': 10.0}\n"
          ]
        },
        {
          "name": "stderr",
          "output_type": "stream",
          "text": [
            "                                                    \n",
            " 10%|█         | 140/1400 [14:25<1:43:58,  4.95s/it]"
          ]
        },
        {
          "name": "stdout",
          "output_type": "stream",
          "text": [
            "{'eval_loss': 1.9701532125473022, 'eval_runtime': 2.9663, 'eval_samples_per_second': 2.023, 'eval_steps_per_second': 0.674, 'epoch': 10.0}\n"
          ]
        },
        {
          "name": "stderr",
          "output_type": "stream",
          "text": [
            " 11%|█         | 150/1400 [15:14<2:03:28,  5.93s/it]"
          ]
        },
        {
          "name": "stdout",
          "output_type": "stream",
          "text": [
            "{'loss': 2.7683, 'grad_norm': 9.16773796081543, 'learning_rate': 1.5e-05, 'epoch': 10.71}\n"
          ]
        },
        {
          "name": "stderr",
          "output_type": "stream",
          "text": [
            "                                                    \n",
            " 11%|█         | 154/1400 [15:41<1:54:36,  5.52s/it]"
          ]
        },
        {
          "name": "stdout",
          "output_type": "stream",
          "text": [
            "{'eval_loss': 1.5037590265274048, 'eval_runtime': 3.2874, 'eval_samples_per_second': 1.825, 'eval_steps_per_second': 0.608, 'epoch': 11.0}\n"
          ]
        },
        {
          "name": "stderr",
          "output_type": "stream",
          "text": [
            " 11%|█▏        | 160/1400 [16:20<2:17:04,  6.63s/it]"
          ]
        },
        {
          "name": "stdout",
          "output_type": "stream",
          "text": [
            "{'loss': 2.6187, 'grad_norm': 11.398687362670898, 'learning_rate': 1.6000000000000003e-05, 'epoch': 11.43}\n"
          ]
        },
        {
          "name": "stderr",
          "output_type": "stream",
          "text": [
            "                                                    \n",
            " 12%|█▏        | 168/1400 [17:12<1:51:35,  5.43s/it]"
          ]
        },
        {
          "name": "stdout",
          "output_type": "stream",
          "text": [
            "{'eval_loss': 1.408289909362793, 'eval_runtime': 3.0904, 'eval_samples_per_second': 1.942, 'eval_steps_per_second': 0.647, 'epoch': 12.0}\n"
          ]
        },
        {
          "name": "stderr",
          "output_type": "stream",
          "text": [
            " 12%|█▏        | 170/1400 [17:24<2:14:49,  6.58s/it]"
          ]
        },
        {
          "name": "stdout",
          "output_type": "stream",
          "text": [
            "{'loss': 2.4257, 'grad_norm': 9.3168363571167, 'learning_rate': 1.7000000000000003e-05, 'epoch': 12.14}\n"
          ]
        },
        {
          "name": "stderr",
          "output_type": "stream",
          "text": [
            " 13%|█▎        | 180/1400 [18:29<2:05:20,  6.16s/it]"
          ]
        },
        {
          "name": "stdout",
          "output_type": "stream",
          "text": [
            "{'loss': 2.2184, 'grad_norm': 4.459304332733154, 'learning_rate': 1.8e-05, 'epoch': 12.86}\n"
          ]
        },
        {
          "name": "stderr",
          "output_type": "stream",
          "text": [
            "                                                    \n",
            " 13%|█▎        | 182/1400 [18:42<1:47:44,  5.31s/it]"
          ]
        },
        {
          "name": "stdout",
          "output_type": "stream",
          "text": [
            "{'eval_loss': 1.3657673597335815, 'eval_runtime': 3.4509, 'eval_samples_per_second': 1.739, 'eval_steps_per_second': 0.58, 'epoch': 13.0}\n"
          ]
        },
        {
          "name": "stderr",
          "output_type": "stream",
          "text": [
            " 14%|█▎        | 190/1400 [50:49<47:37:36, 141.70s/it] "
          ]
        },
        {
          "name": "stdout",
          "output_type": "stream",
          "text": [
            "{'loss': 2.0349, 'grad_norm': 4.216493129730225, 'learning_rate': 1.9e-05, 'epoch': 13.57}\n"
          ]
        },
        {
          "name": "stderr",
          "output_type": "stream",
          "text": [
            "                                                      \n",
            " 14%|█▍        | 196/1400 [50:58<5:55:21, 17.71s/it]"
          ]
        },
        {
          "name": "stdout",
          "output_type": "stream",
          "text": [
            "{'eval_loss': 1.3288861513137817, 'eval_runtime': 0.65, 'eval_samples_per_second': 9.231, 'eval_steps_per_second': 3.077, 'epoch': 14.0}\n"
          ]
        },
        {
          "name": "stderr",
          "output_type": "stream",
          "text": [
            " 14%|█▍        | 200/1400 [51:03<1:46:11,  5.31s/it]"
          ]
        },
        {
          "name": "stdout",
          "output_type": "stream",
          "text": [
            "{'loss': 1.7615, 'grad_norm': 4.758270263671875, 'learning_rate': 2e-05, 'epoch': 14.29}\n"
          ]
        },
        {
          "name": "stderr",
          "output_type": "stream",
          "text": [
            " 15%|█▌        | 210/1400 [51:25<1:01:17,  3.09s/it]"
          ]
        },
        {
          "name": "stdout",
          "output_type": "stream",
          "text": [
            "{'loss': 1.4929, 'grad_norm': 3.683056592941284, 'learning_rate': 2.1e-05, 'epoch': 15.0}\n"
          ]
        },
        {
          "name": "stderr",
          "output_type": "stream",
          "text": [
            "                                                    \n",
            " 15%|█▌        | 210/1400 [51:28<1:01:17,  3.09s/it]"
          ]
        },
        {
          "name": "stdout",
          "output_type": "stream",
          "text": [
            "{'eval_loss': 1.313961386680603, 'eval_runtime': 2.8215, 'eval_samples_per_second': 2.126, 'eval_steps_per_second': 0.709, 'epoch': 15.0}\n"
          ]
        },
        {
          "name": "stderr",
          "output_type": "stream",
          "text": [
            " 16%|█▌        | 220/1400 [52:30<1:58:24,  6.02s/it]"
          ]
        },
        {
          "name": "stdout",
          "output_type": "stream",
          "text": [
            "{'loss': 1.544, 'grad_norm': 2.519740104675293, 'learning_rate': 2.2000000000000003e-05, 'epoch': 15.71}\n"
          ]
        },
        {
          "name": "stderr",
          "output_type": "stream",
          "text": [
            "                                                    \n",
            " 16%|█▌        | 224/1400 [52:55<1:44:10,  5.31s/it]"
          ]
        },
        {
          "name": "stdout",
          "output_type": "stream",
          "text": [
            "{'eval_loss': 1.3051382303237915, 'eval_runtime': 3.231, 'eval_samples_per_second': 1.857, 'eval_steps_per_second': 0.619, 'epoch': 16.0}\n"
          ]
        },
        {
          "name": "stderr",
          "output_type": "stream",
          "text": [
            " 16%|█▋        | 230/1400 [53:34<2:06:55,  6.51s/it]"
          ]
        },
        {
          "name": "stdout",
          "output_type": "stream",
          "text": [
            "{'loss': 1.4573, 'grad_norm': 2.4879729747772217, 'learning_rate': 2.3000000000000003e-05, 'epoch': 16.43}\n"
          ]
        },
        {
          "name": "stderr",
          "output_type": "stream",
          "text": [
            "                                                    \n",
            " 17%|█▋        | 238/1400 [54:20<1:33:56,  4.85s/it]"
          ]
        },
        {
          "name": "stdout",
          "output_type": "stream",
          "text": [
            "{'eval_loss': 1.293372631072998, 'eval_runtime': 2.78, 'eval_samples_per_second': 2.158, 'eval_steps_per_second': 0.719, 'epoch': 17.0}\n"
          ]
        },
        {
          "name": "stderr",
          "output_type": "stream",
          "text": [
            " 17%|█▋        | 240/1400 [54:31<1:51:30,  5.77s/it]"
          ]
        },
        {
          "name": "stdout",
          "output_type": "stream",
          "text": [
            "{'loss': 1.4305, 'grad_norm': 2.0589759349823, 'learning_rate': 2.4e-05, 'epoch': 17.14}\n"
          ]
        },
        {
          "name": "stderr",
          "output_type": "stream",
          "text": [
            " 18%|█▊        | 250/1400 [55:28<1:51:46,  5.83s/it]"
          ]
        },
        {
          "name": "stdout",
          "output_type": "stream",
          "text": [
            "{'loss': 1.2636, 'grad_norm': 2.710421562194824, 'learning_rate': 2.5e-05, 'epoch': 17.86}\n"
          ]
        },
        {
          "name": "stderr",
          "output_type": "stream",
          "text": [
            "                                                    \n",
            " 18%|█▊        | 252/1400 [55:41<1:36:39,  5.05s/it]"
          ]
        },
        {
          "name": "stdout",
          "output_type": "stream",
          "text": [
            "{'eval_loss': 1.2714656591415405, 'eval_runtime': 3.0253, 'eval_samples_per_second': 1.983, 'eval_steps_per_second': 0.661, 'epoch': 18.0}\n"
          ]
        },
        {
          "name": "stderr",
          "output_type": "stream",
          "text": [
            " 19%|█▊        | 260/1400 [56:27<1:48:43,  5.72s/it]"
          ]
        },
        {
          "name": "stdout",
          "output_type": "stream",
          "text": [
            "{'loss': 1.2402, 'grad_norm': 2.063709020614624, 'learning_rate': 2.6000000000000002e-05, 'epoch': 18.57}\n"
          ]
        },
        {
          "name": "stderr",
          "output_type": "stream",
          "text": [
            "                                                    \n",
            " 19%|█▉        | 266/1400 [57:01<1:33:09,  4.93s/it]"
          ]
        },
        {
          "name": "stdout",
          "output_type": "stream",
          "text": [
            "{'eval_loss': 1.2457199096679688, 'eval_runtime': 1.764, 'eval_samples_per_second': 3.401, 'eval_steps_per_second': 1.134, 'epoch': 19.0}\n"
          ]
        },
        {
          "name": "stderr",
          "output_type": "stream",
          "text": [
            " 19%|█▉        | 270/1400 [57:06<46:34,  2.47s/it]  "
          ]
        },
        {
          "name": "stdout",
          "output_type": "stream",
          "text": [
            "{'loss': 1.1985, 'grad_norm': 2.215228319168091, 'learning_rate': 2.7000000000000002e-05, 'epoch': 19.29}\n"
          ]
        },
        {
          "name": "stderr",
          "output_type": "stream",
          "text": [
            " 20%|██        | 280/1400 [57:20<24:03,  1.29s/it]"
          ]
        },
        {
          "name": "stdout",
          "output_type": "stream",
          "text": [
            "{'loss': 1.1858, 'grad_norm': 3.317380905151367, 'learning_rate': 2.8000000000000003e-05, 'epoch': 20.0}\n"
          ]
        },
        {
          "name": "stderr",
          "output_type": "stream",
          "text": [
            "                                                  \n",
            " 20%|██        | 280/1400 [57:21<24:03,  1.29s/it]"
          ]
        },
        {
          "name": "stdout",
          "output_type": "stream",
          "text": [
            "{'eval_loss': 1.224171757698059, 'eval_runtime': 0.6634, 'eval_samples_per_second': 9.044, 'eval_steps_per_second': 3.015, 'epoch': 20.0}\n"
          ]
        },
        {
          "name": "stderr",
          "output_type": "stream",
          "text": [
            " 21%|██        | 290/1400 [57:36<26:38,  1.44s/it]"
          ]
        },
        {
          "name": "stdout",
          "output_type": "stream",
          "text": [
            "{'loss': 1.1643, 'grad_norm': 1.269448161125183, 'learning_rate': 2.9e-05, 'epoch': 20.71}\n"
          ]
        },
        {
          "name": "stderr",
          "output_type": "stream",
          "text": [
            "                                                  \n",
            " 21%|██        | 294/1400 [57:41<23:21,  1.27s/it]"
          ]
        },
        {
          "name": "stdout",
          "output_type": "stream",
          "text": [
            "{'eval_loss': 1.2065156698226929, 'eval_runtime': 0.7257, 'eval_samples_per_second': 8.268, 'eval_steps_per_second': 2.756, 'epoch': 21.0}\n"
          ]
        },
        {
          "name": "stderr",
          "output_type": "stream",
          "text": [
            " 21%|██▏       | 300/1400 [57:50<27:20,  1.49s/it]"
          ]
        },
        {
          "name": "stdout",
          "output_type": "stream",
          "text": [
            "{'loss': 1.2361, 'grad_norm': 1.5753366947174072, 'learning_rate': 3e-05, 'epoch': 21.43}\n"
          ]
        },
        {
          "name": "stderr",
          "output_type": "stream",
          "text": [
            "                                                  \n",
            " 22%|██▏       | 308/1400 [58:02<22:17,  1.23s/it]"
          ]
        },
        {
          "name": "stdout",
          "output_type": "stream",
          "text": [
            "{'eval_loss': 1.1917113065719604, 'eval_runtime': 0.6586, 'eval_samples_per_second': 9.111, 'eval_steps_per_second': 3.037, 'epoch': 22.0}\n"
          ]
        },
        {
          "name": "stderr",
          "output_type": "stream",
          "text": [
            " 22%|██▏       | 310/1400 [58:05<27:01,  1.49s/it]"
          ]
        },
        {
          "name": "stdout",
          "output_type": "stream",
          "text": [
            "{'loss': 1.2048, 'grad_norm': 1.5017300844192505, 'learning_rate': 3.1e-05, 'epoch': 22.14}\n"
          ]
        },
        {
          "name": "stderr",
          "output_type": "stream",
          "text": [
            " 23%|██▎       | 320/1400 [58:18<23:47,  1.32s/it]"
          ]
        },
        {
          "name": "stdout",
          "output_type": "stream",
          "text": [
            "{'loss': 1.1537, 'grad_norm': 7.814693450927734, 'learning_rate': 3.2000000000000005e-05, 'epoch': 22.86}\n"
          ]
        },
        {
          "name": "stderr",
          "output_type": "stream",
          "text": [
            "                                                  \n",
            " 23%|██▎       | 322/1400 [58:21<20:24,  1.14s/it]"
          ]
        },
        {
          "name": "stdout",
          "output_type": "stream",
          "text": [
            "{'eval_loss': 1.1734415292739868, 'eval_runtime': 0.6842, 'eval_samples_per_second': 8.77, 'eval_steps_per_second': 2.923, 'epoch': 23.0}\n"
          ]
        },
        {
          "name": "stderr",
          "output_type": "stream",
          "text": [
            " 24%|██▎       | 330/1400 [58:32<24:25,  1.37s/it]"
          ]
        },
        {
          "name": "stdout",
          "output_type": "stream",
          "text": [
            "{'loss': 1.0221, 'grad_norm': 1.5097994804382324, 'learning_rate': 3.3e-05, 'epoch': 23.57}\n"
          ]
        },
        {
          "name": "stderr",
          "output_type": "stream",
          "text": [
            "                                                  \n",
            " 24%|██▍       | 336/1400 [58:41<22:10,  1.25s/it]"
          ]
        },
        {
          "name": "stdout",
          "output_type": "stream",
          "text": [
            "{'eval_loss': 1.156978964805603, 'eval_runtime': 0.6298, 'eval_samples_per_second': 9.527, 'eval_steps_per_second': 3.176, 'epoch': 24.0}\n"
          ]
        },
        {
          "name": "stderr",
          "output_type": "stream",
          "text": [
            " 24%|██▍       | 340/1400 [58:46<25:35,  1.45s/it]"
          ]
        },
        {
          "name": "stdout",
          "output_type": "stream",
          "text": [
            "{'loss': 0.9016, 'grad_norm': 1.4426460266113281, 'learning_rate': 3.4000000000000007e-05, 'epoch': 24.29}\n"
          ]
        },
        {
          "name": "stderr",
          "output_type": "stream",
          "text": [
            " 25%|██▌       | 350/1400 [59:00<21:55,  1.25s/it]"
          ]
        },
        {
          "name": "stdout",
          "output_type": "stream",
          "text": [
            "{'loss': 1.1361, 'grad_norm': 3.0872294902801514, 'learning_rate': 3.5e-05, 'epoch': 25.0}\n"
          ]
        },
        {
          "name": "stderr",
          "output_type": "stream",
          "text": [
            "                                                  \n",
            " 25%|██▌       | 350/1400 [59:01<21:55,  1.25s/it]"
          ]
        },
        {
          "name": "stdout",
          "output_type": "stream",
          "text": [
            "{'eval_loss': 1.138360857963562, 'eval_runtime': 0.7157, 'eval_samples_per_second': 8.383, 'eval_steps_per_second': 2.794, 'epoch': 25.0}\n"
          ]
        },
        {
          "name": "stderr",
          "output_type": "stream",
          "text": [
            " 26%|██▌       | 360/1400 [59:15<24:59,  1.44s/it]"
          ]
        },
        {
          "name": "stdout",
          "output_type": "stream",
          "text": [
            "{'loss': 0.9945, 'grad_norm': 0.907581090927124, 'learning_rate': 3.6e-05, 'epoch': 25.71}\n"
          ]
        },
        {
          "name": "stderr",
          "output_type": "stream",
          "text": [
            "                                                  \n",
            " 26%|██▌       | 364/1400 [59:21<22:09,  1.28s/it]"
          ]
        },
        {
          "name": "stdout",
          "output_type": "stream",
          "text": [
            "{'eval_loss': 1.1097626686096191, 'eval_runtime': 0.646, 'eval_samples_per_second': 9.289, 'eval_steps_per_second': 3.096, 'epoch': 26.0}\n"
          ]
        },
        {
          "name": "stderr",
          "output_type": "stream",
          "text": [
            " 26%|██▋       | 370/1400 [59:30<24:53,  1.45s/it]"
          ]
        },
        {
          "name": "stdout",
          "output_type": "stream",
          "text": [
            "{'loss': 1.0623, 'grad_norm': 4.849266529083252, 'learning_rate': 3.7e-05, 'epoch': 26.43}\n"
          ]
        },
        {
          "name": "stderr",
          "output_type": "stream",
          "text": [
            "                                                  \n",
            " 27%|██▋       | 378/1400 [59:42<20:10,  1.18s/it]"
          ]
        },
        {
          "name": "stdout",
          "output_type": "stream",
          "text": [
            "{'eval_loss': 1.1047347784042358, 'eval_runtime': 0.6185, 'eval_samples_per_second': 9.701, 'eval_steps_per_second': 3.234, 'epoch': 27.0}\n"
          ]
        },
        {
          "name": "stderr",
          "output_type": "stream",
          "text": [
            " 27%|██▋       | 380/1400 [59:44<23:06,  1.36s/it]"
          ]
        },
        {
          "name": "stdout",
          "output_type": "stream",
          "text": [
            "{'loss': 0.9035, 'grad_norm': 1.3942737579345703, 'learning_rate': 3.8e-05, 'epoch': 27.14}\n"
          ]
        },
        {
          "name": "stderr",
          "output_type": "stream",
          "text": [
            " 28%|██▊       | 390/1400 [59:58<23:13,  1.38s/it]"
          ]
        },
        {
          "name": "stdout",
          "output_type": "stream",
          "text": [
            "{'loss': 0.9819, 'grad_norm': 0.9741142392158508, 'learning_rate': 3.9000000000000006e-05, 'epoch': 27.86}\n"
          ]
        },
        {
          "name": "stderr",
          "output_type": "stream",
          "text": [
            "                                                    \n",
            " 28%|██▊       | 392/1400 [1:00:01<19:34,  1.16s/it]"
          ]
        },
        {
          "name": "stdout",
          "output_type": "stream",
          "text": [
            "{'eval_loss': 1.0849238634109497, 'eval_runtime': 0.7576, 'eval_samples_per_second': 7.92, 'eval_steps_per_second': 2.64, 'epoch': 28.0}\n"
          ]
        },
        {
          "name": "stderr",
          "output_type": "stream",
          "text": [
            " 29%|██▊       | 400/1400 [1:00:11<22:44,  1.36s/it]"
          ]
        },
        {
          "name": "stdout",
          "output_type": "stream",
          "text": [
            "{'loss': 0.8964, 'grad_norm': 5.301508903503418, 'learning_rate': 4e-05, 'epoch': 28.57}\n"
          ]
        },
        {
          "name": "stderr",
          "output_type": "stream",
          "text": [
            "                                                    \n",
            " 29%|██▉       | 406/1400 [1:00:20<19:40,  1.19s/it]"
          ]
        },
        {
          "name": "stdout",
          "output_type": "stream",
          "text": [
            "{'eval_loss': 1.0781033039093018, 'eval_runtime': 0.644, 'eval_samples_per_second': 9.316, 'eval_steps_per_second': 3.105, 'epoch': 29.0}\n"
          ]
        },
        {
          "name": "stderr",
          "output_type": "stream",
          "text": [
            " 29%|██▉       | 410/1400 [1:00:25<23:42,  1.44s/it]"
          ]
        },
        {
          "name": "stdout",
          "output_type": "stream",
          "text": [
            "{'loss': 1.0487, 'grad_norm': 2.341904401779175, 'learning_rate': 4.1e-05, 'epoch': 29.29}\n"
          ]
        },
        {
          "name": "stderr",
          "output_type": "stream",
          "text": [
            " 30%|███       | 420/1400 [1:00:38<18:54,  1.16s/it]"
          ]
        },
        {
          "name": "stdout",
          "output_type": "stream",
          "text": [
            "{'loss': 0.8345, 'grad_norm': 1.136486530303955, 'learning_rate': 4.2e-05, 'epoch': 30.0}\n"
          ]
        },
        {
          "name": "stderr",
          "output_type": "stream",
          "text": [
            "                                                    \n",
            " 30%|███       | 420/1400 [1:00:39<18:54,  1.16s/it]"
          ]
        },
        {
          "name": "stdout",
          "output_type": "stream",
          "text": [
            "{'eval_loss': 1.0681196451187134, 'eval_runtime': 0.6665, 'eval_samples_per_second': 9.003, 'eval_steps_per_second': 3.001, 'epoch': 30.0}\n"
          ]
        },
        {
          "name": "stderr",
          "output_type": "stream",
          "text": [
            " 31%|███       | 430/1400 [1:01:26<1:34:55,  5.87s/it]"
          ]
        },
        {
          "name": "stdout",
          "output_type": "stream",
          "text": [
            "{'loss': 0.9801, 'grad_norm': 1.6530019044876099, 'learning_rate': 4.3e-05, 'epoch': 30.71}\n"
          ]
        },
        {
          "name": "stderr",
          "output_type": "stream",
          "text": [
            "                                                      \n",
            " 31%|███       | 434/1400 [1:01:50<1:20:47,  5.02s/it]"
          ]
        },
        {
          "name": "stdout",
          "output_type": "stream",
          "text": [
            "{'eval_loss': 1.045595407485962, 'eval_runtime': 3.1305, 'eval_samples_per_second': 1.917, 'eval_steps_per_second': 0.639, 'epoch': 31.0}\n"
          ]
        },
        {
          "name": "stderr",
          "output_type": "stream",
          "text": [
            " 31%|███▏      | 440/1400 [1:02:10<44:01,  2.75s/it]  "
          ]
        },
        {
          "name": "stdout",
          "output_type": "stream",
          "text": [
            "{'loss': 0.6836, 'grad_norm': 3.1032655239105225, 'learning_rate': 4.4000000000000006e-05, 'epoch': 31.43}\n"
          ]
        },
        {
          "name": "stderr",
          "output_type": "stream",
          "text": [
            "                                                      \n",
            " 32%|███▏      | 448/1400 [1:02:30<48:12,  3.04s/it]"
          ]
        },
        {
          "name": "stdout",
          "output_type": "stream",
          "text": [
            "{'eval_loss': 1.036423683166504, 'eval_runtime': 0.8863, 'eval_samples_per_second': 6.769, 'eval_steps_per_second': 2.256, 'epoch': 32.0}\n"
          ]
        },
        {
          "name": "stderr",
          "output_type": "stream",
          "text": [
            " 32%|███▏      | 450/1400 [1:02:33<37:16,  2.35s/it]"
          ]
        },
        {
          "name": "stdout",
          "output_type": "stream",
          "text": [
            "{'loss': 0.9764, 'grad_norm': 14.974079132080078, 'learning_rate': 4.5e-05, 'epoch': 32.14}\n"
          ]
        },
        {
          "name": "stderr",
          "output_type": "stream",
          "text": [
            " 33%|███▎      | 460/1400 [1:02:49<25:09,  1.61s/it]"
          ]
        },
        {
          "name": "stdout",
          "output_type": "stream",
          "text": [
            "{'loss': 0.8602, 'grad_norm': 1.476976752281189, 'learning_rate': 4.600000000000001e-05, 'epoch': 32.86}\n"
          ]
        },
        {
          "name": "stderr",
          "output_type": "stream",
          "text": [
            "                                                    \n",
            " 33%|███▎      | 462/1400 [1:02:52<20:42,  1.32s/it]"
          ]
        },
        {
          "name": "stdout",
          "output_type": "stream",
          "text": [
            "{'eval_loss': 1.0264854431152344, 'eval_runtime': 0.6493, 'eval_samples_per_second': 9.24, 'eval_steps_per_second': 3.08, 'epoch': 33.0}\n"
          ]
        },
        {
          "name": "stderr",
          "output_type": "stream",
          "text": [
            " 34%|███▎      | 470/1400 [1:03:04<24:31,  1.58s/it]"
          ]
        },
        {
          "name": "stdout",
          "output_type": "stream",
          "text": [
            "{'loss': 1.0336, 'grad_norm': 1.3546897172927856, 'learning_rate': 4.7e-05, 'epoch': 33.57}\n"
          ]
        },
        {
          "name": "stderr",
          "output_type": "stream",
          "text": [
            "                                                    \n",
            " 34%|███▍      | 476/1400 [1:03:13<19:01,  1.24s/it]"
          ]
        },
        {
          "name": "stdout",
          "output_type": "stream",
          "text": [
            "{'eval_loss': 1.0144991874694824, 'eval_runtime': 0.6675, 'eval_samples_per_second': 8.989, 'eval_steps_per_second': 2.996, 'epoch': 34.0}\n"
          ]
        },
        {
          "name": "stderr",
          "output_type": "stream",
          "text": [
            " 34%|███▍      | 480/1400 [1:03:18<21:07,  1.38s/it]"
          ]
        },
        {
          "name": "stdout",
          "output_type": "stream",
          "text": [
            "{'loss': 0.7427, 'grad_norm': 2.164093255996704, 'learning_rate': 4.8e-05, 'epoch': 34.29}\n"
          ]
        },
        {
          "name": "stderr",
          "output_type": "stream",
          "text": [
            " 35%|███▌      | 490/1400 [1:03:31<17:45,  1.17s/it]"
          ]
        },
        {
          "name": "stdout",
          "output_type": "stream",
          "text": [
            "{'loss': 0.8484, 'grad_norm': 1.5493742227554321, 'learning_rate': 4.9e-05, 'epoch': 35.0}\n"
          ]
        },
        {
          "name": "stderr",
          "output_type": "stream",
          "text": [
            "                                                    \n",
            " 35%|███▌      | 490/1400 [1:03:32<17:45,  1.17s/it]"
          ]
        },
        {
          "name": "stdout",
          "output_type": "stream",
          "text": [
            "{'eval_loss': 1.0020520687103271, 'eval_runtime': 0.7055, 'eval_samples_per_second': 8.505, 'eval_steps_per_second': 2.835, 'epoch': 35.0}\n"
          ]
        },
        {
          "name": "stderr",
          "output_type": "stream",
          "text": [
            " 36%|███▌      | 500/1400 [1:03:45<19:17,  1.29s/it]"
          ]
        },
        {
          "name": "stdout",
          "output_type": "stream",
          "text": [
            "{'loss': 0.7988, 'grad_norm': 1.3079997301101685, 'learning_rate': 5e-05, 'epoch': 35.71}\n"
          ]
        },
        {
          "name": "stderr",
          "output_type": "stream",
          "text": [
            "                                                    \n",
            " 36%|███▌      | 504/1400 [1:03:54<23:08,  1.55s/it]"
          ]
        },
        {
          "name": "stdout",
          "output_type": "stream",
          "text": [
            "{'eval_loss': 0.9920434355735779, 'eval_runtime': 0.638, 'eval_samples_per_second': 9.404, 'eval_steps_per_second': 3.135, 'epoch': 36.0}\n"
          ]
        },
        {
          "name": "stderr",
          "output_type": "stream",
          "text": [
            " 36%|███▋      | 510/1400 [1:04:02<19:51,  1.34s/it]"
          ]
        },
        {
          "name": "stdout",
          "output_type": "stream",
          "text": [
            "{'loss': 0.8445, 'grad_norm': 0.8714171648025513, 'learning_rate': 4.9444444444444446e-05, 'epoch': 36.43}\n"
          ]
        },
        {
          "name": "stderr",
          "output_type": "stream",
          "text": [
            "                                                    \n",
            " 37%|███▋      | 518/1400 [1:04:13<18:04,  1.23s/it]"
          ]
        },
        {
          "name": "stdout",
          "output_type": "stream",
          "text": [
            "{'eval_loss': 0.9818642139434814, 'eval_runtime': 0.7091, 'eval_samples_per_second': 8.462, 'eval_steps_per_second': 2.821, 'epoch': 37.0}\n"
          ]
        },
        {
          "name": "stderr",
          "output_type": "stream",
          "text": [
            " 37%|███▋      | 520/1400 [1:04:16<20:32,  1.40s/it]"
          ]
        },
        {
          "name": "stdout",
          "output_type": "stream",
          "text": [
            "{'loss': 0.696, 'grad_norm': 1.0079033374786377, 'learning_rate': 4.888888888888889e-05, 'epoch': 37.14}\n"
          ]
        },
        {
          "name": "stderr",
          "output_type": "stream",
          "text": [
            " 38%|███▊      | 530/1400 [1:04:29<18:57,  1.31s/it]"
          ]
        },
        {
          "name": "stdout",
          "output_type": "stream",
          "text": [
            "{'loss': 0.7706, 'grad_norm': 1.2084449529647827, 'learning_rate': 4.8333333333333334e-05, 'epoch': 37.86}\n"
          ]
        },
        {
          "name": "stderr",
          "output_type": "stream",
          "text": [
            "                                                    \n",
            " 38%|███▊      | 532/1400 [1:04:36<27:34,  1.91s/it]"
          ]
        },
        {
          "name": "stdout",
          "output_type": "stream",
          "text": [
            "{'eval_loss': 0.9766290783882141, 'eval_runtime': 3.0095, 'eval_samples_per_second': 1.994, 'eval_steps_per_second': 0.665, 'epoch': 38.0}\n"
          ]
        },
        {
          "name": "stderr",
          "output_type": "stream",
          "text": [
            " 39%|███▊      | 540/1400 [1:04:59<28:34,  1.99s/it]  "
          ]
        },
        {
          "name": "stdout",
          "output_type": "stream",
          "text": [
            "{'loss': 0.7611, 'grad_norm': 1.048964500427246, 'learning_rate': 4.7777777777777784e-05, 'epoch': 38.57}\n"
          ]
        },
        {
          "name": "stderr",
          "output_type": "stream",
          "text": [
            "                                                    \n",
            " 39%|███▉      | 546/1400 [1:05:09<19:11,  1.35s/it]"
          ]
        },
        {
          "name": "stdout",
          "output_type": "stream",
          "text": [
            "{'eval_loss': 0.9749818444252014, 'eval_runtime': 0.8673, 'eval_samples_per_second': 6.918, 'eval_steps_per_second': 2.306, 'epoch': 39.0}\n"
          ]
        },
        {
          "name": "stderr",
          "output_type": "stream",
          "text": [
            " 39%|███▉      | 550/1400 [1:05:16<25:36,  1.81s/it]"
          ]
        },
        {
          "name": "stdout",
          "output_type": "stream",
          "text": [
            "{'loss': 0.8324, 'grad_norm': 1.3711751699447632, 'learning_rate': 4.722222222222222e-05, 'epoch': 39.29}\n"
          ]
        },
        {
          "name": "stderr",
          "output_type": "stream",
          "text": [
            " 40%|████      | 560/1400 [1:05:33<21:00,  1.50s/it]"
          ]
        },
        {
          "name": "stdout",
          "output_type": "stream",
          "text": [
            "{'loss': 0.6801, 'grad_norm': 2.3051161766052246, 'learning_rate': 4.666666666666667e-05, 'epoch': 40.0}\n"
          ]
        },
        {
          "name": "stderr",
          "output_type": "stream",
          "text": [
            "                                                    \n",
            " 40%|████      | 560/1400 [1:05:33<21:00,  1.50s/it]"
          ]
        },
        {
          "name": "stdout",
          "output_type": "stream",
          "text": [
            "{'eval_loss': 0.9683176875114441, 'eval_runtime': 0.5754, 'eval_samples_per_second': 10.428, 'eval_steps_per_second': 3.476, 'epoch': 40.0}\n"
          ]
        },
        {
          "name": "stderr",
          "output_type": "stream",
          "text": [
            " 41%|████      | 570/1400 [1:05:47<19:12,  1.39s/it]"
          ]
        },
        {
          "name": "stdout",
          "output_type": "stream",
          "text": [
            "{'loss': 0.7219, 'grad_norm': 1.3717948198318481, 'learning_rate': 4.6111111111111115e-05, 'epoch': 40.71}\n"
          ]
        },
        {
          "name": "stderr",
          "output_type": "stream",
          "text": [
            "                                                    \n",
            " 41%|████      | 574/1400 [1:05:53<17:41,  1.29s/it]"
          ]
        },
        {
          "name": "stdout",
          "output_type": "stream",
          "text": [
            "{'eval_loss': 0.9690634608268738, 'eval_runtime': 0.6922, 'eval_samples_per_second': 8.668, 'eval_steps_per_second': 2.889, 'epoch': 41.0}\n"
          ]
        },
        {
          "name": "stderr",
          "output_type": "stream",
          "text": [
            " 41%|████▏     | 580/1400 [1:06:02<19:47,  1.45s/it]"
          ]
        },
        {
          "name": "stdout",
          "output_type": "stream",
          "text": [
            "{'loss': 0.6378, 'grad_norm': 1.0909260511398315, 'learning_rate': 4.555555555555556e-05, 'epoch': 41.43}\n"
          ]
        },
        {
          "name": "stderr",
          "output_type": "stream",
          "text": [
            "                                                    \n",
            " 42%|████▏     | 588/1400 [1:06:14<16:53,  1.25s/it]"
          ]
        },
        {
          "name": "stdout",
          "output_type": "stream",
          "text": [
            "{'eval_loss': 0.9663737416267395, 'eval_runtime': 0.6557, 'eval_samples_per_second': 9.151, 'eval_steps_per_second': 3.05, 'epoch': 42.0}\n"
          ]
        },
        {
          "name": "stderr",
          "output_type": "stream",
          "text": [
            " 42%|████▏     | 590/1400 [1:06:17<19:19,  1.43s/it]"
          ]
        },
        {
          "name": "stdout",
          "output_type": "stream",
          "text": [
            "{'loss': 0.6593, 'grad_norm': 1.0884404182434082, 'learning_rate': 4.5e-05, 'epoch': 42.14}\n"
          ]
        },
        {
          "name": "stderr",
          "output_type": "stream",
          "text": [
            " 43%|████▎     | 600/1400 [1:06:31<19:06,  1.43s/it]"
          ]
        },
        {
          "name": "stdout",
          "output_type": "stream",
          "text": [
            "{'loss': 0.6998, 'grad_norm': 0.8267189860343933, 'learning_rate': 4.4444444444444447e-05, 'epoch': 42.86}\n"
          ]
        },
        {
          "name": "stderr",
          "output_type": "stream",
          "text": [
            "                                                    \n",
            " 43%|████▎     | 602/1400 [1:06:34<16:22,  1.23s/it]"
          ]
        },
        {
          "name": "stdout",
          "output_type": "stream",
          "text": [
            "{'eval_loss': 0.9626206755638123, 'eval_runtime': 0.7556, 'eval_samples_per_second': 7.941, 'eval_steps_per_second': 2.647, 'epoch': 43.0}\n"
          ]
        },
        {
          "name": "stderr",
          "output_type": "stream",
          "text": [
            " 44%|████▎     | 610/1400 [1:06:45<17:34,  1.33s/it]"
          ]
        },
        {
          "name": "stdout",
          "output_type": "stream",
          "text": [
            "{'loss': 0.7357, 'grad_norm': 1.4910964965820312, 'learning_rate': 4.388888888888889e-05, 'epoch': 43.57}\n"
          ]
        },
        {
          "name": "stderr",
          "output_type": "stream",
          "text": [
            "                                                    \n",
            " 44%|████▍     | 616/1400 [1:06:52<14:13,  1.09s/it]"
          ]
        },
        {
          "name": "stdout",
          "output_type": "stream",
          "text": [
            "{'eval_loss': 0.9639824032783508, 'eval_runtime': 0.6302, 'eval_samples_per_second': 9.521, 'eval_steps_per_second': 3.174, 'epoch': 44.0}\n"
          ]
        },
        {
          "name": "stderr",
          "output_type": "stream",
          "text": [
            " 44%|████▍     | 620/1400 [1:06:58<17:14,  1.33s/it]"
          ]
        },
        {
          "name": "stdout",
          "output_type": "stream",
          "text": [
            "{'loss': 0.5824, 'grad_norm': 1.5907275676727295, 'learning_rate': 4.3333333333333334e-05, 'epoch': 44.29}\n"
          ]
        },
        {
          "name": "stderr",
          "output_type": "stream",
          "text": [
            " 45%|████▌     | 630/1400 [1:07:11<15:12,  1.19s/it]"
          ]
        },
        {
          "name": "stdout",
          "output_type": "stream",
          "text": [
            "{'loss': 0.6348, 'grad_norm': 1.457772970199585, 'learning_rate': 4.277777777777778e-05, 'epoch': 45.0}\n"
          ]
        },
        {
          "name": "stderr",
          "output_type": "stream",
          "text": [
            "                                                    \n",
            " 45%|████▌     | 630/1400 [1:07:12<15:12,  1.19s/it]"
          ]
        },
        {
          "name": "stdout",
          "output_type": "stream",
          "text": [
            "{'eval_loss': 0.964139997959137, 'eval_runtime': 0.6532, 'eval_samples_per_second': 9.186, 'eval_steps_per_second': 3.062, 'epoch': 45.0}\n"
          ]
        },
        {
          "name": "stderr",
          "output_type": "stream",
          "text": [
            " 46%|████▌     | 640/1400 [1:07:25<18:19,  1.45s/it]"
          ]
        },
        {
          "name": "stdout",
          "output_type": "stream",
          "text": [
            "{'loss': 0.6414, 'grad_norm': 1.056049108505249, 'learning_rate': 4.222222222222222e-05, 'epoch': 45.71}\n"
          ]
        },
        {
          "name": "stderr",
          "output_type": "stream",
          "text": [
            "                                                    \n",
            " 46%|████▌     | 644/1400 [1:07:32<16:32,  1.31s/it]"
          ]
        },
        {
          "name": "stdout",
          "output_type": "stream",
          "text": [
            "{'eval_loss': 0.9610691070556641, 'eval_runtime': 0.6929, 'eval_samples_per_second': 8.66, 'eval_steps_per_second': 2.887, 'epoch': 46.0}\n"
          ]
        },
        {
          "name": "stderr",
          "output_type": "stream",
          "text": [
            " 46%|████▋     | 650/1400 [1:07:40<18:34,  1.49s/it]"
          ]
        },
        {
          "name": "stdout",
          "output_type": "stream",
          "text": [
            "{'loss': 0.6433, 'grad_norm': 1.0189322233200073, 'learning_rate': 4.166666666666667e-05, 'epoch': 46.43}\n"
          ]
        },
        {
          "name": "stderr",
          "output_type": "stream",
          "text": [
            "                                                    \n",
            " 47%|████▋     | 658/1400 [1:07:52<15:31,  1.26s/it]"
          ]
        },
        {
          "name": "stdout",
          "output_type": "stream",
          "text": [
            "{'eval_loss': 0.9616568684577942, 'eval_runtime': 0.7199, 'eval_samples_per_second': 8.334, 'eval_steps_per_second': 2.778, 'epoch': 47.0}\n"
          ]
        },
        {
          "name": "stderr",
          "output_type": "stream",
          "text": [
            " 47%|████▋     | 660/1400 [1:07:55<18:06,  1.47s/it]"
          ]
        },
        {
          "name": "stdout",
          "output_type": "stream",
          "text": [
            "{'loss': 0.656, 'grad_norm': 0.9908969402313232, 'learning_rate': 4.111111111111111e-05, 'epoch': 47.14}\n"
          ]
        },
        {
          "name": "stderr",
          "output_type": "stream",
          "text": [
            " 48%|████▊     | 670/1400 [1:08:09<17:42,  1.46s/it]"
          ]
        },
        {
          "name": "stdout",
          "output_type": "stream",
          "text": [
            "{'loss': 0.6049, 'grad_norm': 0.7269750833511353, 'learning_rate': 4.055555555555556e-05, 'epoch': 47.86}\n"
          ]
        },
        {
          "name": "stderr",
          "output_type": "stream",
          "text": [
            "                                                    \n",
            " 48%|████▊     | 672/1400 [1:08:12<15:58,  1.32s/it]"
          ]
        },
        {
          "name": "stdout",
          "output_type": "stream",
          "text": [
            "{'eval_loss': 0.9618808627128601, 'eval_runtime': 0.6909, 'eval_samples_per_second': 8.685, 'eval_steps_per_second': 2.895, 'epoch': 48.0}\n"
          ]
        },
        {
          "name": "stderr",
          "output_type": "stream",
          "text": [
            " 49%|████▊     | 680/1400 [1:08:26<21:15,  1.77s/it]"
          ]
        },
        {
          "name": "stdout",
          "output_type": "stream",
          "text": [
            "{'loss': 0.678, 'grad_norm': 2.292933225631714, 'learning_rate': 4e-05, 'epoch': 48.57}\n"
          ]
        },
        {
          "name": "stderr",
          "output_type": "stream",
          "text": [
            "                                                      \n",
            " 49%|████▉     | 686/1400 [1:08:57<48:34,  4.08s/it]"
          ]
        },
        {
          "name": "stdout",
          "output_type": "stream",
          "text": [
            "{'eval_loss': 0.9582822918891907, 'eval_runtime': 0.9488, 'eval_samples_per_second': 6.324, 'eval_steps_per_second': 2.108, 'epoch': 49.0}\n"
          ]
        },
        {
          "name": "stderr",
          "output_type": "stream",
          "text": [
            " 49%|████▉     | 690/1400 [1:09:07<36:57,  3.12s/it]"
          ]
        },
        {
          "name": "stdout",
          "output_type": "stream",
          "text": [
            "{'loss': 0.5161, 'grad_norm': 1.36029052734375, 'learning_rate': 3.944444444444445e-05, 'epoch': 49.29}\n"
          ]
        },
        {
          "name": "stderr",
          "output_type": "stream",
          "text": [
            " 50%|█████     | 700/1400 [1:09:32<22:53,  1.96s/it]"
          ]
        },
        {
          "name": "stdout",
          "output_type": "stream",
          "text": [
            "{'loss': 0.6442, 'grad_norm': 2.0118939876556396, 'learning_rate': 3.888888888888889e-05, 'epoch': 50.0}\n"
          ]
        },
        {
          "name": "stderr",
          "output_type": "stream",
          "text": [
            "                                                    \n",
            " 50%|█████     | 700/1400 [1:09:33<22:53,  1.96s/it]"
          ]
        },
        {
          "name": "stdout",
          "output_type": "stream",
          "text": [
            "{'eval_loss': 0.9588602185249329, 'eval_runtime': 1.1592, 'eval_samples_per_second': 5.176, 'eval_steps_per_second': 1.725, 'epoch': 50.0}\n"
          ]
        },
        {
          "name": "stderr",
          "output_type": "stream",
          "text": [
            " 51%|█████     | 710/1400 [1:09:54<22:54,  1.99s/it]"
          ]
        },
        {
          "name": "stdout",
          "output_type": "stream",
          "text": [
            "{'loss': 0.6136, 'grad_norm': 0.9799475073814392, 'learning_rate': 3.8333333333333334e-05, 'epoch': 50.71}\n"
          ]
        },
        {
          "name": "stderr",
          "output_type": "stream",
          "text": [
            "                                                    \n",
            " 51%|█████     | 714/1400 [1:10:01<17:04,  1.49s/it]"
          ]
        },
        {
          "name": "stdout",
          "output_type": "stream",
          "text": [
            "{'eval_loss': 0.9596154093742371, 'eval_runtime': 0.6869, 'eval_samples_per_second': 8.735, 'eval_steps_per_second': 2.912, 'epoch': 51.0}\n"
          ]
        },
        {
          "name": "stderr",
          "output_type": "stream",
          "text": [
            " 51%|█████▏    | 720/1400 [1:10:10<18:08,  1.60s/it]"
          ]
        },
        {
          "name": "stdout",
          "output_type": "stream",
          "text": [
            "{'loss': 0.5574, 'grad_norm': 1.0188283920288086, 'learning_rate': 3.777777777777778e-05, 'epoch': 51.43}\n"
          ]
        },
        {
          "name": "stderr",
          "output_type": "stream",
          "text": [
            "                                                    \n",
            " 52%|█████▏    | 728/1400 [1:10:22<14:39,  1.31s/it]"
          ]
        },
        {
          "name": "stdout",
          "output_type": "stream",
          "text": [
            "{'eval_loss': 0.9705397486686707, 'eval_runtime': 0.7271, 'eval_samples_per_second': 8.252, 'eval_steps_per_second': 2.751, 'epoch': 52.0}\n"
          ]
        },
        {
          "name": "stderr",
          "output_type": "stream",
          "text": [
            " 52%|█████▏    | 730/1400 [1:10:25<17:22,  1.56s/it]"
          ]
        },
        {
          "name": "stdout",
          "output_type": "stream",
          "text": [
            "{'loss': 0.5248, 'grad_norm': 0.6874971389770508, 'learning_rate': 3.722222222222222e-05, 'epoch': 52.14}\n"
          ]
        },
        {
          "name": "stderr",
          "output_type": "stream",
          "text": [
            " 53%|█████▎    | 740/1400 [1:10:40<16:24,  1.49s/it]"
          ]
        },
        {
          "name": "stdout",
          "output_type": "stream",
          "text": [
            "{'loss': 0.5932, 'grad_norm': 1.394203782081604, 'learning_rate': 3.6666666666666666e-05, 'epoch': 52.86}\n"
          ]
        },
        {
          "name": "stderr",
          "output_type": "stream",
          "text": [
            "                                                    \n",
            " 53%|█████▎    | 742/1400 [1:10:43<14:14,  1.30s/it]"
          ]
        },
        {
          "name": "stdout",
          "output_type": "stream",
          "text": [
            "{'eval_loss': 0.9719142913818359, 'eval_runtime': 0.8642, 'eval_samples_per_second': 6.943, 'eval_steps_per_second': 2.314, 'epoch': 53.0}\n"
          ]
        },
        {
          "name": "stderr",
          "output_type": "stream",
          "text": [
            " 54%|█████▎    | 750/1400 [1:11:18<58:29,  5.40s/it]"
          ]
        },
        {
          "name": "stdout",
          "output_type": "stream",
          "text": [
            "{'loss': 0.6954, 'grad_norm': 1.054587483406067, 'learning_rate': 3.611111111111111e-05, 'epoch': 53.57}\n"
          ]
        },
        {
          "name": "stderr",
          "output_type": "stream",
          "text": [
            "                                                      \n",
            " 54%|█████▍    | 756/1400 [1:11:54<46:56,  4.37s/it]"
          ]
        },
        {
          "name": "stdout",
          "output_type": "stream",
          "text": [
            "{'eval_loss': 0.9716413021087646, 'eval_runtime': 0.7347, 'eval_samples_per_second': 8.166, 'eval_steps_per_second': 2.722, 'epoch': 54.0}\n"
          ]
        },
        {
          "name": "stderr",
          "output_type": "stream",
          "text": [
            " 54%|█████▍    | 760/1400 [1:11:59<23:50,  2.24s/it]"
          ]
        },
        {
          "name": "stdout",
          "output_type": "stream",
          "text": [
            "{'loss': 0.5256, 'grad_norm': 0.9878869652748108, 'learning_rate': 3.555555555555556e-05, 'epoch': 54.29}\n"
          ]
        },
        {
          "name": "stderr",
          "output_type": "stream",
          "text": [
            " 55%|█████▌    | 770/1400 [1:12:34<40:48,  3.89s/it]"
          ]
        },
        {
          "name": "stdout",
          "output_type": "stream",
          "text": [
            "{'loss': 0.5448, 'grad_norm': 2.067505121231079, 'learning_rate': 3.5e-05, 'epoch': 55.0}\n"
          ]
        },
        {
          "name": "stderr",
          "output_type": "stream",
          "text": [
            "                                                    \n",
            " 55%|█████▌    | 770/1400 [1:12:37<40:48,  3.89s/it]"
          ]
        },
        {
          "name": "stdout",
          "output_type": "stream",
          "text": [
            "{'eval_loss': 0.969554603099823, 'eval_runtime': 3.2415, 'eval_samples_per_second': 1.851, 'eval_steps_per_second': 0.617, 'epoch': 55.0}\n"
          ]
        },
        {
          "name": "stderr",
          "output_type": "stream",
          "text": [
            " 56%|█████▌    | 780/1400 [1:13:15<23:53,  2.31s/it]  "
          ]
        },
        {
          "name": "stdout",
          "output_type": "stream",
          "text": [
            "{'loss': 0.4413, 'grad_norm': 0.933753490447998, 'learning_rate': 3.444444444444445e-05, 'epoch': 55.71}\n"
          ]
        },
        {
          "name": "stderr",
          "output_type": "stream",
          "text": [
            "                                                    \n",
            " 56%|█████▌    | 784/1400 [1:13:21<15:44,  1.53s/it]"
          ]
        },
        {
          "name": "stdout",
          "output_type": "stream",
          "text": [
            "{'eval_loss': 0.9704572558403015, 'eval_runtime': 0.7413, 'eval_samples_per_second': 8.094, 'eval_steps_per_second': 2.698, 'epoch': 56.0}\n"
          ]
        },
        {
          "name": "stderr",
          "output_type": "stream",
          "text": [
            " 56%|█████▋    | 790/1400 [1:13:31<16:38,  1.64s/it]"
          ]
        },
        {
          "name": "stdout",
          "output_type": "stream",
          "text": [
            "{'loss': 0.662, 'grad_norm': 1.457637071609497, 'learning_rate': 3.388888888888889e-05, 'epoch': 56.43}\n"
          ]
        },
        {
          "name": "stderr",
          "output_type": "stream",
          "text": [
            "                                                    \n",
            " 57%|█████▋    | 798/1400 [1:13:44<14:08,  1.41s/it]"
          ]
        },
        {
          "name": "stdout",
          "output_type": "stream",
          "text": [
            "{'eval_loss': 0.9704046249389648, 'eval_runtime': 0.7788, 'eval_samples_per_second': 7.704, 'eval_steps_per_second': 2.568, 'epoch': 57.0}\n"
          ]
        },
        {
          "name": "stderr",
          "output_type": "stream",
          "text": [
            " 57%|█████▋    | 800/1400 [1:13:48<16:52,  1.69s/it]"
          ]
        },
        {
          "name": "stdout",
          "output_type": "stream",
          "text": [
            "{'loss': 0.5041, 'grad_norm': 0.9522690176963806, 'learning_rate': 3.3333333333333335e-05, 'epoch': 57.14}\n"
          ]
        },
        {
          "name": "stderr",
          "output_type": "stream",
          "text": [
            " 58%|█████▊    | 810/1400 [1:14:04<15:36,  1.59s/it]"
          ]
        },
        {
          "name": "stdout",
          "output_type": "stream",
          "text": [
            "{'loss': 0.5577, 'grad_norm': 0.6774297952651978, 'learning_rate': 3.277777777777778e-05, 'epoch': 57.86}\n"
          ]
        },
        {
          "name": "stderr",
          "output_type": "stream",
          "text": [
            "                                                    \n",
            " 58%|█████▊    | 812/1400 [1:14:07<13:15,  1.35s/it]"
          ]
        },
        {
          "name": "stdout",
          "output_type": "stream",
          "text": [
            "{'eval_loss': 0.9751656651496887, 'eval_runtime': 0.7505, 'eval_samples_per_second': 7.995, 'eval_steps_per_second': 2.665, 'epoch': 58.0}\n"
          ]
        },
        {
          "name": "stderr",
          "output_type": "stream",
          "text": [
            " 59%|█████▊    | 820/1400 [1:14:20<15:32,  1.61s/it]"
          ]
        },
        {
          "name": "stdout",
          "output_type": "stream",
          "text": [
            "{'loss': 0.4695, 'grad_norm': 1.6897778511047363, 'learning_rate': 3.222222222222223e-05, 'epoch': 58.57}\n"
          ]
        },
        {
          "name": "stderr",
          "output_type": "stream",
          "text": [
            "                                                    \n",
            " 59%|█████▉    | 826/1400 [1:14:29<12:57,  1.36s/it]"
          ]
        },
        {
          "name": "stdout",
          "output_type": "stream",
          "text": [
            "{'eval_loss': 0.9822023510932922, 'eval_runtime': 0.6816, 'eval_samples_per_second': 8.803, 'eval_steps_per_second': 2.934, 'epoch': 59.0}\n"
          ]
        },
        {
          "name": "stderr",
          "output_type": "stream",
          "text": [
            " 59%|█████▉    | 830/1400 [1:14:35<15:05,  1.59s/it]"
          ]
        },
        {
          "name": "stdout",
          "output_type": "stream",
          "text": [
            "{'loss': 0.4763, 'grad_norm': 0.9455742239952087, 'learning_rate': 3.1666666666666666e-05, 'epoch': 59.29}\n"
          ]
        },
        {
          "name": "stderr",
          "output_type": "stream",
          "text": [
            " 60%|██████    | 840/1400 [1:15:11<43:45,  4.69s/it]"
          ]
        },
        {
          "name": "stdout",
          "output_type": "stream",
          "text": [
            "{'loss': 0.5323, 'grad_norm': 1.4339381456375122, 'learning_rate': 3.111111111111111e-05, 'epoch': 60.0}\n"
          ]
        },
        {
          "name": "stderr",
          "output_type": "stream",
          "text": [
            "                                                    \n",
            " 60%|██████    | 840/1400 [1:15:14<43:45,  4.69s/it]"
          ]
        },
        {
          "name": "stdout",
          "output_type": "stream",
          "text": [
            "{'eval_loss': 0.9840505123138428, 'eval_runtime': 2.9616, 'eval_samples_per_second': 2.026, 'eval_steps_per_second': 0.675, 'epoch': 60.0}\n"
          ]
        },
        {
          "name": "stderr",
          "output_type": "stream",
          "text": [
            " 61%|██████    | 850/1400 [1:15:49<19:20,  2.11s/it]"
          ]
        },
        {
          "name": "stdout",
          "output_type": "stream",
          "text": [
            "{'loss': 0.5303, 'grad_norm': 1.1175858974456787, 'learning_rate': 3.055555555555556e-05, 'epoch': 60.71}\n"
          ]
        },
        {
          "name": "stderr",
          "output_type": "stream",
          "text": [
            "                                                    \n",
            " 61%|██████    | 854/1400 [1:15:55<13:03,  1.44s/it]"
          ]
        },
        {
          "name": "stdout",
          "output_type": "stream",
          "text": [
            "{'eval_loss': 0.9817472100257874, 'eval_runtime': 0.8003, 'eval_samples_per_second': 7.497, 'eval_steps_per_second': 2.499, 'epoch': 61.0}\n"
          ]
        },
        {
          "name": "stderr",
          "output_type": "stream",
          "text": [
            " 61%|██████▏   | 860/1400 [1:16:05<14:34,  1.62s/it]"
          ]
        },
        {
          "name": "stdout",
          "output_type": "stream",
          "text": [
            "{'loss': 0.4308, 'grad_norm': 0.8512652516365051, 'learning_rate': 3e-05, 'epoch': 61.43}\n"
          ]
        },
        {
          "name": "stderr",
          "output_type": "stream",
          "text": [
            "                                                    \n",
            " 62%|██████▏   | 868/1400 [1:16:18<11:57,  1.35s/it]"
          ]
        },
        {
          "name": "stdout",
          "output_type": "stream",
          "text": [
            "{'eval_loss': 0.9811217188835144, 'eval_runtime': 0.8299, 'eval_samples_per_second': 7.23, 'eval_steps_per_second': 2.41, 'epoch': 62.0}\n"
          ]
        },
        {
          "name": "stderr",
          "output_type": "stream",
          "text": [
            " 62%|██████▏   | 870/1400 [1:16:21<14:51,  1.68s/it]"
          ]
        },
        {
          "name": "stdout",
          "output_type": "stream",
          "text": [
            "{'loss': 0.5846, 'grad_norm': 1.7579089403152466, 'learning_rate': 2.9444444444444448e-05, 'epoch': 62.14}\n"
          ]
        },
        {
          "name": "stderr",
          "output_type": "stream",
          "text": [
            " 63%|██████▎   | 880/1400 [1:16:37<13:45,  1.59s/it]"
          ]
        },
        {
          "name": "stdout",
          "output_type": "stream",
          "text": [
            "{'loss': 0.4089, 'grad_norm': 0.8638910055160522, 'learning_rate': 2.8888888888888888e-05, 'epoch': 62.86}\n"
          ]
        },
        {
          "name": "stderr",
          "output_type": "stream",
          "text": [
            "                                                    \n",
            " 63%|██████▎   | 882/1400 [1:16:40<11:55,  1.38s/it]"
          ]
        },
        {
          "name": "stdout",
          "output_type": "stream",
          "text": [
            "{'eval_loss': 0.9802119135856628, 'eval_runtime': 0.7826, 'eval_samples_per_second': 7.667, 'eval_steps_per_second': 2.556, 'epoch': 63.0}\n"
          ]
        },
        {
          "name": "stderr",
          "output_type": "stream",
          "text": [
            " 64%|██████▎   | 890/1400 [1:16:53<13:18,  1.56s/it]"
          ]
        },
        {
          "name": "stdout",
          "output_type": "stream",
          "text": [
            "{'loss': 0.5214, 'grad_norm': 1.04777991771698, 'learning_rate': 2.8333333333333335e-05, 'epoch': 63.57}\n"
          ]
        },
        {
          "name": "stderr",
          "output_type": "stream",
          "text": [
            "                                                    \n",
            " 64%|██████▍   | 896/1400 [1:17:09<19:16,  2.30s/it]"
          ]
        },
        {
          "name": "stdout",
          "output_type": "stream",
          "text": [
            "{'eval_loss': 0.9830200672149658, 'eval_runtime': 3.5126, 'eval_samples_per_second': 1.708, 'eval_steps_per_second': 0.569, 'epoch': 64.0}\n"
          ]
        },
        {
          "name": "stderr",
          "output_type": "stream",
          "text": [
            " 64%|██████▍   | 900/1400 [1:17:44<59:38,  7.16s/it]  "
          ]
        },
        {
          "name": "stdout",
          "output_type": "stream",
          "text": [
            "{'loss': 0.4626, 'grad_norm': 0.8554621338844299, 'learning_rate': 2.777777777777778e-05, 'epoch': 64.29}\n"
          ]
        },
        {
          "name": "stderr",
          "output_type": "stream",
          "text": [
            " 65%|██████▌   | 910/1400 [1:18:02<14:06,  1.73s/it]"
          ]
        },
        {
          "name": "stdout",
          "output_type": "stream",
          "text": [
            "{'loss': 0.4958, 'grad_norm': 2.4648141860961914, 'learning_rate': 2.7222222222222223e-05, 'epoch': 65.0}\n"
          ]
        },
        {
          "name": "stderr",
          "output_type": "stream",
          "text": [
            "                                                    \n",
            " 65%|██████▌   | 910/1400 [1:18:03<14:06,  1.73s/it]"
          ]
        },
        {
          "name": "stdout",
          "output_type": "stream",
          "text": [
            "{'eval_loss': 0.9845867156982422, 'eval_runtime': 1.0305, 'eval_samples_per_second': 5.822, 'eval_steps_per_second': 1.941, 'epoch': 65.0}\n"
          ]
        },
        {
          "name": "stderr",
          "output_type": "stream",
          "text": [
            " 66%|██████▌   | 920/1400 [1:18:23<16:45,  2.09s/it]"
          ]
        },
        {
          "name": "stdout",
          "output_type": "stream",
          "text": [
            "{'loss': 0.5168, 'grad_norm': 1.5523285865783691, 'learning_rate': 2.6666666666666667e-05, 'epoch': 65.71}\n"
          ]
        },
        {
          "name": "stderr",
          "output_type": "stream",
          "text": [
            "                                                    \n",
            " 66%|██████▌   | 924/1400 [1:18:31<12:58,  1.64s/it]"
          ]
        },
        {
          "name": "stdout",
          "output_type": "stream",
          "text": [
            "{'eval_loss': 0.98532634973526, 'eval_runtime': 0.6875, 'eval_samples_per_second': 8.727, 'eval_steps_per_second': 2.909, 'epoch': 66.0}\n"
          ]
        },
        {
          "name": "stderr",
          "output_type": "stream",
          "text": [
            " 66%|██████▋   | 930/1400 [1:18:40<12:18,  1.57s/it]"
          ]
        },
        {
          "name": "stdout",
          "output_type": "stream",
          "text": [
            "{'loss': 0.3988, 'grad_norm': 0.8663015365600586, 'learning_rate': 2.6111111111111114e-05, 'epoch': 66.43}\n"
          ]
        },
        {
          "name": "stderr",
          "output_type": "stream",
          "text": [
            "                                                    \n",
            " 67%|██████▋   | 938/1400 [1:18:59<16:01,  2.08s/it]"
          ]
        },
        {
          "name": "stdout",
          "output_type": "stream",
          "text": [
            "{'eval_loss': 0.9834998250007629, 'eval_runtime': 5.0436, 'eval_samples_per_second': 1.19, 'eval_steps_per_second': 0.397, 'epoch': 67.0}\n"
          ]
        },
        {
          "name": "stderr",
          "output_type": "stream",
          "text": [
            " 67%|██████▋   | 940/1400 [1:19:06<28:16,  3.69s/it]"
          ]
        },
        {
          "name": "stdout",
          "output_type": "stream",
          "text": [
            "{'loss': 0.5974, 'grad_norm': 1.30644690990448, 'learning_rate': 2.5555555555555554e-05, 'epoch': 67.14}\n"
          ]
        },
        {
          "name": "stderr",
          "output_type": "stream",
          "text": [
            " 68%|██████▊   | 950/1400 [1:19:26<16:49,  2.24s/it]"
          ]
        },
        {
          "name": "stdout",
          "output_type": "stream",
          "text": [
            "{'loss': 0.4491, 'grad_norm': 0.7208401560783386, 'learning_rate': 2.5e-05, 'epoch': 67.86}\n"
          ]
        },
        {
          "name": "stderr",
          "output_type": "stream",
          "text": [
            "                                                    \n",
            " 68%|██████▊   | 952/1400 [1:19:29<12:38,  1.69s/it]"
          ]
        },
        {
          "name": "stdout",
          "output_type": "stream",
          "text": [
            "{'eval_loss': 0.9828124642372131, 'eval_runtime': 0.6605, 'eval_samples_per_second': 9.083, 'eval_steps_per_second': 3.028, 'epoch': 68.0}\n"
          ]
        },
        {
          "name": "stderr",
          "output_type": "stream",
          "text": [
            " 69%|██████▊   | 960/1400 [1:19:42<11:59,  1.64s/it]"
          ]
        },
        {
          "name": "stdout",
          "output_type": "stream",
          "text": [
            "{'loss': 0.439, 'grad_norm': 0.8867029547691345, 'learning_rate': 2.4444444444444445e-05, 'epoch': 68.57}\n"
          ]
        },
        {
          "name": "stderr",
          "output_type": "stream",
          "text": [
            "                                                    \n",
            " 69%|██████▉   | 966/1400 [1:19:52<10:02,  1.39s/it]"
          ]
        },
        {
          "name": "stdout",
          "output_type": "stream",
          "text": [
            "{'eval_loss': 0.9824236035346985, 'eval_runtime': 0.795, 'eval_samples_per_second': 7.547, 'eval_steps_per_second': 2.516, 'epoch': 69.0}\n"
          ]
        },
        {
          "name": "stderr",
          "output_type": "stream",
          "text": [
            " 69%|██████▉   | 970/1400 [1:19:58<11:23,  1.59s/it]"
          ]
        },
        {
          "name": "stdout",
          "output_type": "stream",
          "text": [
            "{'loss': 0.4542, 'grad_norm': 1.5149034261703491, 'learning_rate': 2.3888888888888892e-05, 'epoch': 69.29}\n"
          ]
        },
        {
          "name": "stderr",
          "output_type": "stream",
          "text": [
            " 70%|███████   | 980/1400 [1:20:13<09:14,  1.32s/it]"
          ]
        },
        {
          "name": "stdout",
          "output_type": "stream",
          "text": [
            "{'loss': 0.4513, 'grad_norm': 3.405048131942749, 'learning_rate': 2.3333333333333336e-05, 'epoch': 70.0}\n"
          ]
        },
        {
          "name": "stderr",
          "output_type": "stream",
          "text": [
            "                                                    \n",
            " 70%|███████   | 980/1400 [1:20:14<09:14,  1.32s/it]"
          ]
        },
        {
          "name": "stdout",
          "output_type": "stream",
          "text": [
            "{'eval_loss': 0.9835129380226135, 'eval_runtime': 0.7216, 'eval_samples_per_second': 8.315, 'eval_steps_per_second': 2.772, 'epoch': 70.0}\n"
          ]
        },
        {
          "name": "stderr",
          "output_type": "stream",
          "text": [
            " 71%|███████   | 990/1400 [1:20:29<10:45,  1.57s/it]"
          ]
        },
        {
          "name": "stdout",
          "output_type": "stream",
          "text": [
            "{'loss': 0.4336, 'grad_norm': 0.8322688341140747, 'learning_rate': 2.277777777777778e-05, 'epoch': 70.71}\n"
          ]
        },
        {
          "name": "stderr",
          "output_type": "stream",
          "text": [
            "                                                    \n",
            " 71%|███████   | 994/1400 [1:20:36<09:20,  1.38s/it]"
          ]
        },
        {
          "name": "stdout",
          "output_type": "stream",
          "text": [
            "{'eval_loss': 0.9860263466835022, 'eval_runtime': 0.7522, 'eval_samples_per_second': 7.976, 'eval_steps_per_second': 2.659, 'epoch': 71.0}\n"
          ]
        },
        {
          "name": "stderr",
          "output_type": "stream",
          "text": [
            " 71%|███████▏  | 1000/1400 [1:20:42<07:45,  1.16s/it]"
          ]
        },
        {
          "name": "stdout",
          "output_type": "stream",
          "text": [
            "{'loss': 0.4626, 'grad_norm': 1.0094573497772217, 'learning_rate': 2.2222222222222223e-05, 'epoch': 71.43}\n"
          ]
        },
        {
          "name": "stderr",
          "output_type": "stream",
          "text": [
            "                                                     \n",
            " 72%|███████▏  | 1008/1400 [1:20:52<06:22,  1.02it/s]"
          ]
        },
        {
          "name": "stdout",
          "output_type": "stream",
          "text": [
            "{'eval_loss': 0.9886126518249512, 'eval_runtime': 0.5807, 'eval_samples_per_second': 10.332, 'eval_steps_per_second': 3.444, 'epoch': 72.0}\n"
          ]
        },
        {
          "name": "stderr",
          "output_type": "stream",
          "text": [
            " 72%|███████▏  | 1010/1400 [1:20:54<07:27,  1.15s/it]"
          ]
        },
        {
          "name": "stdout",
          "output_type": "stream",
          "text": [
            "{'loss': 0.5246, 'grad_norm': 6.6790876388549805, 'learning_rate': 2.1666666666666667e-05, 'epoch': 72.14}\n"
          ]
        },
        {
          "name": "stderr",
          "output_type": "stream",
          "text": [
            " 73%|███████▎  | 1020/1400 [1:21:06<07:55,  1.25s/it]"
          ]
        },
        {
          "name": "stdout",
          "output_type": "stream",
          "text": [
            "{'loss': 0.4057, 'grad_norm': 1.35110604763031, 'learning_rate': 2.111111111111111e-05, 'epoch': 72.86}\n"
          ]
        },
        {
          "name": "stderr",
          "output_type": "stream",
          "text": [
            "                                                     \n",
            " 73%|███████▎  | 1022/1400 [1:21:09<06:43,  1.07s/it]"
          ]
        },
        {
          "name": "stdout",
          "output_type": "stream",
          "text": [
            "{'eval_loss': 0.9930180907249451, 'eval_runtime': 0.6014, 'eval_samples_per_second': 9.976, 'eval_steps_per_second': 3.325, 'epoch': 73.0}\n"
          ]
        },
        {
          "name": "stderr",
          "output_type": "stream",
          "text": [
            " 74%|███████▎  | 1030/1400 [1:21:18<06:54,  1.12s/it]"
          ]
        },
        {
          "name": "stdout",
          "output_type": "stream",
          "text": [
            "{'loss': 0.3725, 'grad_norm': 1.1004321575164795, 'learning_rate': 2.0555555555555555e-05, 'epoch': 73.57}\n"
          ]
        },
        {
          "name": "stderr",
          "output_type": "stream",
          "text": [
            "                                                     \n",
            " 74%|███████▍  | 1036/1400 [1:21:25<05:51,  1.04it/s]"
          ]
        },
        {
          "name": "stdout",
          "output_type": "stream",
          "text": [
            "{'eval_loss': 0.9946539998054504, 'eval_runtime': 0.5484, 'eval_samples_per_second': 10.94, 'eval_steps_per_second': 3.647, 'epoch': 74.0}\n"
          ]
        },
        {
          "name": "stderr",
          "output_type": "stream",
          "text": [
            " 74%|███████▍  | 1040/1400 [1:21:29<06:41,  1.12s/it]"
          ]
        },
        {
          "name": "stdout",
          "output_type": "stream",
          "text": [
            "{'loss': 0.4457, 'grad_norm': 0.837960958480835, 'learning_rate': 2e-05, 'epoch': 74.29}\n"
          ]
        },
        {
          "name": "stderr",
          "output_type": "stream",
          "text": [
            " 75%|███████▌  | 1050/1400 [1:21:51<15:53,  2.72s/it]"
          ]
        },
        {
          "name": "stdout",
          "output_type": "stream",
          "text": [
            "{'loss': 0.43, 'grad_norm': 0.6514373421669006, 'learning_rate': 1.9444444444444445e-05, 'epoch': 75.0}\n"
          ]
        },
        {
          "name": "stderr",
          "output_type": "stream",
          "text": [
            "                                                     \n",
            " 75%|███████▌  | 1050/1400 [1:21:54<15:53,  2.72s/it]"
          ]
        },
        {
          "name": "stdout",
          "output_type": "stream",
          "text": [
            "{'eval_loss': 0.9923579692840576, 'eval_runtime': 2.1211, 'eval_samples_per_second': 2.829, 'eval_steps_per_second': 0.943, 'epoch': 75.0}\n"
          ]
        },
        {
          "name": "stderr",
          "output_type": "stream",
          "text": [
            " 76%|███████▌  | 1060/1400 [1:22:36<22:13,  3.92s/it]"
          ]
        },
        {
          "name": "stdout",
          "output_type": "stream",
          "text": [
            "{'loss': 0.4361, 'grad_norm': 1.251067876815796, 'learning_rate': 1.888888888888889e-05, 'epoch': 75.71}\n"
          ]
        },
        {
          "name": "stderr",
          "output_type": "stream",
          "text": [
            "                                                     \n",
            " 76%|███████▌  | 1064/1400 [1:22:51<18:34,  3.32s/it]"
          ]
        },
        {
          "name": "stdout",
          "output_type": "stream",
          "text": [
            "{'eval_loss': 0.9918636679649353, 'eval_runtime': 1.9186, 'eval_samples_per_second': 3.127, 'eval_steps_per_second': 1.042, 'epoch': 76.0}\n"
          ]
        },
        {
          "name": "stderr",
          "output_type": "stream",
          "text": [
            " 76%|███████▋  | 1070/1400 [1:23:15<22:02,  4.01s/it]"
          ]
        },
        {
          "name": "stdout",
          "output_type": "stream",
          "text": [
            "{'loss': 0.3846, 'grad_norm': 0.9815109372138977, 'learning_rate': 1.8333333333333333e-05, 'epoch': 76.43}\n"
          ]
        },
        {
          "name": "stderr",
          "output_type": "stream",
          "text": [
            "                                                     \n",
            " 77%|███████▋  | 1078/1400 [1:23:48<19:19,  3.60s/it]"
          ]
        },
        {
          "name": "stdout",
          "output_type": "stream",
          "text": [
            "{'eval_loss': 0.9942968487739563, 'eval_runtime': 2.2709, 'eval_samples_per_second': 2.642, 'eval_steps_per_second': 0.881, 'epoch': 77.0}\n"
          ]
        },
        {
          "name": "stderr",
          "output_type": "stream",
          "text": [
            " 77%|███████▋  | 1080/1400 [1:23:57<24:46,  4.65s/it]"
          ]
        },
        {
          "name": "stdout",
          "output_type": "stream",
          "text": [
            "{'loss': 0.4406, 'grad_norm': 1.3757166862487793, 'learning_rate': 1.777777777777778e-05, 'epoch': 77.14}\n"
          ]
        },
        {
          "name": "stderr",
          "output_type": "stream",
          "text": [
            " 78%|███████▊  | 1090/1400 [1:24:40<22:19,  4.32s/it]"
          ]
        },
        {
          "name": "stdout",
          "output_type": "stream",
          "text": [
            "{'loss': 0.423, 'grad_norm': 0.9697372913360596, 'learning_rate': 1.7222222222222224e-05, 'epoch': 77.86}\n"
          ]
        },
        {
          "name": "stderr",
          "output_type": "stream",
          "text": [
            "                                                     \n",
            " 78%|███████▊  | 1092/1400 [1:24:48<18:52,  3.68s/it]"
          ]
        },
        {
          "name": "stdout",
          "output_type": "stream",
          "text": [
            "{'eval_loss': 0.9977984428405762, 'eval_runtime': 2.1243, 'eval_samples_per_second': 2.824, 'eval_steps_per_second': 0.941, 'epoch': 78.0}\n"
          ]
        },
        {
          "name": "stderr",
          "output_type": "stream",
          "text": [
            " 79%|███████▊  | 1100/1400 [1:25:23<20:51,  4.17s/it]"
          ]
        },
        {
          "name": "stdout",
          "output_type": "stream",
          "text": [
            "{'loss': 0.46, 'grad_norm': 2.0964012145996094, 'learning_rate': 1.6666666666666667e-05, 'epoch': 78.57}\n"
          ]
        },
        {
          "name": "stderr",
          "output_type": "stream",
          "text": [
            "                                                     \n",
            " 79%|███████▉  | 1106/1400 [1:25:48<18:08,  3.70s/it]"
          ]
        },
        {
          "name": "stdout",
          "output_type": "stream",
          "text": [
            "{'eval_loss': 0.9997655749320984, 'eval_runtime': 2.0365, 'eval_samples_per_second': 2.946, 'eval_steps_per_second': 0.982, 'epoch': 79.0}\n"
          ]
        },
        {
          "name": "stderr",
          "output_type": "stream",
          "text": [
            " 79%|███████▉  | 1110/1400 [1:25:59<13:21,  2.76s/it]"
          ]
        },
        {
          "name": "stdout",
          "output_type": "stream",
          "text": [
            "{'loss': 0.3723, 'grad_norm': 0.9919317364692688, 'learning_rate': 1.6111111111111115e-05, 'epoch': 79.29}\n"
          ]
        },
        {
          "name": "stderr",
          "output_type": "stream",
          "text": [
            " 80%|████████  | 1120/1400 [1:26:10<04:50,  1.04s/it]"
          ]
        },
        {
          "name": "stdout",
          "output_type": "stream",
          "text": [
            "{'loss': 0.3985, 'grad_norm': 1.8687379360198975, 'learning_rate': 1.5555555555555555e-05, 'epoch': 80.0}\n"
          ]
        },
        {
          "name": "stderr",
          "output_type": "stream",
          "text": [
            "                                                     \n",
            " 80%|████████  | 1120/1400 [1:26:10<04:50,  1.04s/it]"
          ]
        },
        {
          "name": "stdout",
          "output_type": "stream",
          "text": [
            "{'eval_loss': 1.0000370740890503, 'eval_runtime': 0.4982, 'eval_samples_per_second': 12.043, 'eval_steps_per_second': 4.014, 'epoch': 80.0}\n"
          ]
        },
        {
          "name": "stderr",
          "output_type": "stream",
          "text": [
            " 81%|████████  | 1130/1400 [1:26:21<04:59,  1.11s/it]"
          ]
        },
        {
          "name": "stdout",
          "output_type": "stream",
          "text": [
            "{'loss': 0.4195, 'grad_norm': 1.045064926147461, 'learning_rate': 1.5e-05, 'epoch': 80.71}\n"
          ]
        },
        {
          "name": "stderr",
          "output_type": "stream",
          "text": [
            "                                                     \n",
            " 81%|████████  | 1134/1400 [1:26:26<04:09,  1.07it/s]"
          ]
        },
        {
          "name": "stdout",
          "output_type": "stream",
          "text": [
            "{'eval_loss': 0.9995455145835876, 'eval_runtime': 0.4928, 'eval_samples_per_second': 12.175, 'eval_steps_per_second': 4.058, 'epoch': 81.0}\n"
          ]
        },
        {
          "name": "stderr",
          "output_type": "stream",
          "text": [
            " 81%|████████▏ | 1140/1400 [1:26:32<04:38,  1.07s/it]"
          ]
        },
        {
          "name": "stdout",
          "output_type": "stream",
          "text": [
            "{'loss': 0.4006, 'grad_norm': 0.7423883080482483, 'learning_rate': 1.4444444444444444e-05, 'epoch': 81.43}\n"
          ]
        },
        {
          "name": "stderr",
          "output_type": "stream",
          "text": [
            "                                                     \n",
            " 82%|████████▏ | 1148/1400 [1:26:41<04:02,  1.04it/s]"
          ]
        },
        {
          "name": "stdout",
          "output_type": "stream",
          "text": [
            "{'eval_loss': 0.9988811612129211, 'eval_runtime': 0.5329, 'eval_samples_per_second': 11.26, 'eval_steps_per_second': 3.753, 'epoch': 82.0}\n"
          ]
        },
        {
          "name": "stderr",
          "output_type": "stream",
          "text": [
            " 82%|████████▏ | 1150/1400 [1:26:43<04:50,  1.16s/it]"
          ]
        },
        {
          "name": "stdout",
          "output_type": "stream",
          "text": [
            "{'loss': 0.4212, 'grad_norm': 1.3888723850250244, 'learning_rate': 1.388888888888889e-05, 'epoch': 82.14}\n"
          ]
        },
        {
          "name": "stderr",
          "output_type": "stream",
          "text": [
            " 83%|████████▎ | 1160/1400 [1:26:54<04:23,  1.10s/it]"
          ]
        },
        {
          "name": "stdout",
          "output_type": "stream",
          "text": [
            "{'loss': 0.419, 'grad_norm': 1.2176170349121094, 'learning_rate': 1.3333333333333333e-05, 'epoch': 82.86}\n"
          ]
        },
        {
          "name": "stderr",
          "output_type": "stream",
          "text": [
            "                                                     \n",
            " 83%|████████▎ | 1162/1400 [1:26:56<03:41,  1.07it/s]"
          ]
        },
        {
          "name": "stdout",
          "output_type": "stream",
          "text": [
            "{'eval_loss': 0.9989018440246582, 'eval_runtime': 0.5345, 'eval_samples_per_second': 11.226, 'eval_steps_per_second': 3.742, 'epoch': 83.0}\n"
          ]
        },
        {
          "name": "stderr",
          "output_type": "stream",
          "text": [
            " 84%|████████▎ | 1170/1400 [1:27:05<04:16,  1.12s/it]"
          ]
        },
        {
          "name": "stdout",
          "output_type": "stream",
          "text": [
            "{'loss': 0.4123, 'grad_norm': 1.3476078510284424, 'learning_rate': 1.2777777777777777e-05, 'epoch': 83.57}\n"
          ]
        },
        {
          "name": "stderr",
          "output_type": "stream",
          "text": [
            "                                                     \n",
            " 84%|████████▍ | 1176/1400 [1:27:12<03:31,  1.06it/s]"
          ]
        },
        {
          "name": "stdout",
          "output_type": "stream",
          "text": [
            "{'eval_loss': 0.9991980195045471, 'eval_runtime': 0.4976, 'eval_samples_per_second': 12.058, 'eval_steps_per_second': 4.019, 'epoch': 84.0}\n"
          ]
        },
        {
          "name": "stderr",
          "output_type": "stream",
          "text": [
            " 84%|████████▍ | 1180/1400 [1:27:16<04:07,  1.13s/it]"
          ]
        },
        {
          "name": "stdout",
          "output_type": "stream",
          "text": [
            "{'loss': 0.4248, 'grad_norm': 1.3229799270629883, 'learning_rate': 1.2222222222222222e-05, 'epoch': 84.29}\n"
          ]
        },
        {
          "name": "stderr",
          "output_type": "stream",
          "text": [
            " 85%|████████▌ | 1190/1400 [1:27:27<03:18,  1.06it/s]"
          ]
        },
        {
          "name": "stdout",
          "output_type": "stream",
          "text": [
            "{'loss': 0.3344, 'grad_norm': 0.883397102355957, 'learning_rate': 1.1666666666666668e-05, 'epoch': 85.0}\n"
          ]
        },
        {
          "name": "stderr",
          "output_type": "stream",
          "text": [
            "                                                     \n",
            " 85%|████████▌ | 1190/1400 [1:27:28<03:18,  1.06it/s]"
          ]
        },
        {
          "name": "stdout",
          "output_type": "stream",
          "text": [
            "{'eval_loss': 0.9997134208679199, 'eval_runtime': 0.4815, 'eval_samples_per_second': 12.46, 'eval_steps_per_second': 4.153, 'epoch': 85.0}\n"
          ]
        },
        {
          "name": "stderr",
          "output_type": "stream",
          "text": [
            " 86%|████████▌ | 1200/1400 [1:27:39<03:42,  1.11s/it]"
          ]
        },
        {
          "name": "stdout",
          "output_type": "stream",
          "text": [
            "{'loss': 0.3957, 'grad_norm': 0.9485828280448914, 'learning_rate': 1.1111111111111112e-05, 'epoch': 85.71}\n"
          ]
        },
        {
          "name": "stderr",
          "output_type": "stream",
          "text": [
            "                                                     \n",
            " 86%|████████▌ | 1204/1400 [1:27:43<03:03,  1.07it/s]"
          ]
        },
        {
          "name": "stdout",
          "output_type": "stream",
          "text": [
            "{'eval_loss': 1.0002261400222778, 'eval_runtime': 0.4878, 'eval_samples_per_second': 12.3, 'eval_steps_per_second': 4.1, 'epoch': 86.0}\n"
          ]
        },
        {
          "name": "stderr",
          "output_type": "stream",
          "text": [
            " 86%|████████▋ | 1210/1400 [1:27:49<03:21,  1.06s/it]"
          ]
        },
        {
          "name": "stdout",
          "output_type": "stream",
          "text": [
            "{'loss': 0.4397, 'grad_norm': 0.8603914380073547, 'learning_rate': 1.0555555555555555e-05, 'epoch': 86.43}\n"
          ]
        },
        {
          "name": "stderr",
          "output_type": "stream",
          "text": [
            "                                                     \n",
            " 87%|████████▋ | 1218/1400 [1:27:58<02:45,  1.10it/s]"
          ]
        },
        {
          "name": "stdout",
          "output_type": "stream",
          "text": [
            "{'eval_loss': 0.999692440032959, 'eval_runtime': 0.5248, 'eval_samples_per_second': 11.433, 'eval_steps_per_second': 3.811, 'epoch': 87.0}\n"
          ]
        },
        {
          "name": "stderr",
          "output_type": "stream",
          "text": [
            " 87%|████████▋ | 1220/1400 [1:28:00<03:21,  1.12s/it]"
          ]
        },
        {
          "name": "stdout",
          "output_type": "stream",
          "text": [
            "{'loss': 0.4587, 'grad_norm': 1.3040927648544312, 'learning_rate': 1e-05, 'epoch': 87.14}\n"
          ]
        },
        {
          "name": "stderr",
          "output_type": "stream",
          "text": [
            " 88%|████████▊ | 1230/1400 [1:28:11<03:07,  1.10s/it]"
          ]
        },
        {
          "name": "stdout",
          "output_type": "stream",
          "text": [
            "{'loss': 0.3931, 'grad_norm': 1.0481138229370117, 'learning_rate': 9.444444444444445e-06, 'epoch': 87.86}\n"
          ]
        },
        {
          "name": "stderr",
          "output_type": "stream",
          "text": [
            "                                                     \n",
            " 88%|████████▊ | 1232/1400 [1:28:13<02:34,  1.09it/s]"
          ]
        },
        {
          "name": "stdout",
          "output_type": "stream",
          "text": [
            "{'eval_loss': 0.9999255537986755, 'eval_runtime': 0.4905, 'eval_samples_per_second': 12.232, 'eval_steps_per_second': 4.077, 'epoch': 88.0}\n"
          ]
        },
        {
          "name": "stderr",
          "output_type": "stream",
          "text": [
            " 89%|████████▊ | 1240/1400 [1:28:22<02:53,  1.09s/it]"
          ]
        },
        {
          "name": "stdout",
          "output_type": "stream",
          "text": [
            "{'loss': 0.4011, 'grad_norm': 2.093522310256958, 'learning_rate': 8.88888888888889e-06, 'epoch': 88.57}\n"
          ]
        },
        {
          "name": "stderr",
          "output_type": "stream",
          "text": [
            "                                                     \n",
            " 89%|████████▉ | 1246/1400 [1:28:28<02:22,  1.08it/s]"
          ]
        },
        {
          "name": "stdout",
          "output_type": "stream",
          "text": [
            "{'eval_loss': 0.9988589286804199, 'eval_runtime': 0.521, 'eval_samples_per_second': 11.517, 'eval_steps_per_second': 3.839, 'epoch': 89.0}\n"
          ]
        },
        {
          "name": "stderr",
          "output_type": "stream",
          "text": [
            " 89%|████████▉ | 1250/1400 [1:28:33<02:50,  1.14s/it]"
          ]
        },
        {
          "name": "stdout",
          "output_type": "stream",
          "text": [
            "{'loss': 0.3978, 'grad_norm': 1.3127213716506958, 'learning_rate': 8.333333333333334e-06, 'epoch': 89.29}\n"
          ]
        },
        {
          "name": "stderr",
          "output_type": "stream",
          "text": [
            " 90%|█████████ | 1260/1400 [1:28:43<02:09,  1.08it/s]"
          ]
        },
        {
          "name": "stdout",
          "output_type": "stream",
          "text": [
            "{'loss': 0.4139, 'grad_norm': 1.5510848760604858, 'learning_rate': 7.777777777777777e-06, 'epoch': 90.0}\n"
          ]
        },
        {
          "name": "stderr",
          "output_type": "stream",
          "text": [
            "                                                     \n",
            " 90%|█████████ | 1260/1400 [1:28:44<02:09,  1.08it/s]"
          ]
        },
        {
          "name": "stdout",
          "output_type": "stream",
          "text": [
            "{'eval_loss': 0.9983072280883789, 'eval_runtime': 0.5206, 'eval_samples_per_second': 11.524, 'eval_steps_per_second': 3.841, 'epoch': 90.0}\n"
          ]
        },
        {
          "name": "stderr",
          "output_type": "stream",
          "text": [
            " 91%|█████████ | 1270/1400 [1:29:23<07:36,  3.51s/it]"
          ]
        },
        {
          "name": "stdout",
          "output_type": "stream",
          "text": [
            "{'loss': 0.4321, 'grad_norm': 1.0759779214859009, 'learning_rate': 7.222222222222222e-06, 'epoch': 90.71}\n"
          ]
        },
        {
          "name": "stderr",
          "output_type": "stream",
          "text": [
            "                                                     \n",
            " 91%|█████████ | 1274/1400 [1:29:41<07:37,  3.63s/it]"
          ]
        },
        {
          "name": "stdout",
          "output_type": "stream",
          "text": [
            "{'eval_loss': 0.998612105846405, 'eval_runtime': 1.9511, 'eval_samples_per_second': 3.075, 'eval_steps_per_second': 1.025, 'epoch': 91.0}\n"
          ]
        },
        {
          "name": "stderr",
          "output_type": "stream",
          "text": [
            " 91%|█████████▏| 1280/1400 [1:29:50<03:19,  1.66s/it]"
          ]
        },
        {
          "name": "stdout",
          "output_type": "stream",
          "text": [
            "{'loss': 0.3066, 'grad_norm': 1.2888169288635254, 'learning_rate': 6.666666666666667e-06, 'epoch': 91.43}\n"
          ]
        },
        {
          "name": "stderr",
          "output_type": "stream",
          "text": [
            "                                                     \n",
            " 92%|█████████▏| 1288/1400 [1:29:59<01:51,  1.01it/s]"
          ]
        },
        {
          "name": "stdout",
          "output_type": "stream",
          "text": [
            "{'eval_loss': 0.9987373352050781, 'eval_runtime': 0.5355, 'eval_samples_per_second': 11.204, 'eval_steps_per_second': 3.735, 'epoch': 92.0}\n"
          ]
        },
        {
          "name": "stderr",
          "output_type": "stream",
          "text": [
            " 92%|█████████▏| 1290/1400 [1:30:01<02:09,  1.18s/it]"
          ]
        },
        {
          "name": "stdout",
          "output_type": "stream",
          "text": [
            "{'loss': 0.478, 'grad_norm': 1.255121111869812, 'learning_rate': 6.111111111111111e-06, 'epoch': 92.14}\n"
          ]
        },
        {
          "name": "stderr",
          "output_type": "stream",
          "text": [
            " 93%|█████████▎| 1300/1400 [1:30:39<06:47,  4.08s/it]"
          ]
        },
        {
          "name": "stdout",
          "output_type": "stream",
          "text": [
            "{'loss': 0.3719, 'grad_norm': 2.6222424507141113, 'learning_rate': 5.555555555555556e-06, 'epoch': 92.86}\n"
          ]
        },
        {
          "name": "stderr",
          "output_type": "stream",
          "text": [
            "                                                     \n",
            " 93%|█████████▎| 1302/1400 [1:30:48<06:02,  3.69s/it]"
          ]
        },
        {
          "name": "stdout",
          "output_type": "stream",
          "text": [
            "{'eval_loss': 0.9995229244232178, 'eval_runtime': 2.4107, 'eval_samples_per_second': 2.489, 'eval_steps_per_second': 0.83, 'epoch': 93.0}\n"
          ]
        },
        {
          "name": "stderr",
          "output_type": "stream",
          "text": [
            " 94%|█████████▎| 1310/1400 [1:31:22<06:19,  4.22s/it]"
          ]
        },
        {
          "name": "stdout",
          "output_type": "stream",
          "text": [
            "{'loss': 0.3764, 'grad_norm': 1.4388177394866943, 'learning_rate': 5e-06, 'epoch': 93.57}\n"
          ]
        },
        {
          "name": "stderr",
          "output_type": "stream",
          "text": [
            "                                                     \n",
            " 94%|█████████▍| 1316/1400 [1:31:47<04:50,  3.46s/it]"
          ]
        },
        {
          "name": "stdout",
          "output_type": "stream",
          "text": [
            "{'eval_loss': 1.0004152059555054, 'eval_runtime': 0.9224, 'eval_samples_per_second': 6.505, 'eval_steps_per_second': 2.168, 'epoch': 94.0}\n"
          ]
        },
        {
          "name": "stderr",
          "output_type": "stream",
          "text": [
            " 94%|█████████▍| 1320/1400 [1:31:52<02:31,  1.90s/it]"
          ]
        },
        {
          "name": "stdout",
          "output_type": "stream",
          "text": [
            "{'loss': 0.3841, 'grad_norm': 1.1013103723526, 'learning_rate': 4.444444444444445e-06, 'epoch': 94.29}\n"
          ]
        },
        {
          "name": "stderr",
          "output_type": "stream",
          "text": [
            " 95%|█████████▌| 1330/1400 [1:32:03<01:06,  1.06it/s]"
          ]
        },
        {
          "name": "stdout",
          "output_type": "stream",
          "text": [
            "{'loss': 0.4233, 'grad_norm': 2.056882858276367, 'learning_rate': 3.888888888888889e-06, 'epoch': 95.0}\n"
          ]
        },
        {
          "name": "stderr",
          "output_type": "stream",
          "text": [
            "                                                     \n",
            " 95%|█████████▌| 1330/1400 [1:32:03<01:06,  1.06it/s]"
          ]
        },
        {
          "name": "stdout",
          "output_type": "stream",
          "text": [
            "{'eval_loss': 1.0008867979049683, 'eval_runtime': 0.5524, 'eval_samples_per_second': 10.862, 'eval_steps_per_second': 3.621, 'epoch': 95.0}\n"
          ]
        },
        {
          "name": "stderr",
          "output_type": "stream",
          "text": [
            " 96%|█████████▌| 1340/1400 [1:32:53<06:08,  6.14s/it]"
          ]
        },
        {
          "name": "stdout",
          "output_type": "stream",
          "text": [
            "{'loss': 0.3732, 'grad_norm': 1.5459023714065552, 'learning_rate': 3.3333333333333333e-06, 'epoch': 95.71}\n"
          ]
        },
        {
          "name": "stderr",
          "output_type": "stream",
          "text": [
            "                                                     \n",
            " 96%|█████████▌| 1344/1400 [1:33:21<05:27,  5.85s/it]"
          ]
        },
        {
          "name": "stdout",
          "output_type": "stream",
          "text": [
            "{'eval_loss': 1.001390814781189, 'eval_runtime': 2.8389, 'eval_samples_per_second': 2.114, 'eval_steps_per_second': 0.705, 'epoch': 96.0}\n"
          ]
        },
        {
          "name": "stderr",
          "output_type": "stream",
          "text": [
            " 96%|█████████▋| 1350/1400 [1:33:36<01:54,  2.30s/it]"
          ]
        },
        {
          "name": "stdout",
          "output_type": "stream",
          "text": [
            "{'loss': 0.4459, 'grad_norm': 1.478925108909607, 'learning_rate': 2.777777777777778e-06, 'epoch': 96.43}\n"
          ]
        },
        {
          "name": "stderr",
          "output_type": "stream",
          "text": [
            "                                                     \n",
            " 97%|█████████▋| 1358/1400 [1:33:47<00:48,  1.16s/it]"
          ]
        },
        {
          "name": "stdout",
          "output_type": "stream",
          "text": [
            "{'eval_loss': 1.0019181966781616, 'eval_runtime': 0.509, 'eval_samples_per_second': 11.787, 'eval_steps_per_second': 3.929, 'epoch': 97.0}\n"
          ]
        },
        {
          "name": "stderr",
          "output_type": "stream",
          "text": [
            " 97%|█████████▋| 1360/1400 [1:33:49<00:54,  1.36s/it]"
          ]
        },
        {
          "name": "stdout",
          "output_type": "stream",
          "text": [
            "{'loss': 0.3792, 'grad_norm': 3.652862310409546, 'learning_rate': 2.2222222222222225e-06, 'epoch': 97.14}\n"
          ]
        },
        {
          "name": "stderr",
          "output_type": "stream",
          "text": [
            " 98%|█████████▊| 1370/1400 [1:34:32<02:16,  4.56s/it]"
          ]
        },
        {
          "name": "stdout",
          "output_type": "stream",
          "text": [
            "{'loss': 0.4102, 'grad_norm': 0.7416133284568787, 'learning_rate': 1.6666666666666667e-06, 'epoch': 97.86}\n"
          ]
        },
        {
          "name": "stderr",
          "output_type": "stream",
          "text": [
            "                                                     \n",
            " 98%|█████████▊| 1372/1400 [1:34:41<01:47,  3.82s/it]"
          ]
        },
        {
          "name": "stdout",
          "output_type": "stream",
          "text": [
            "{'eval_loss': 1.0019546747207642, 'eval_runtime': 2.2701, 'eval_samples_per_second': 2.643, 'eval_steps_per_second': 0.881, 'epoch': 98.0}\n"
          ]
        },
        {
          "name": "stderr",
          "output_type": "stream",
          "text": [
            " 99%|█████████▊| 1380/1400 [1:35:15<01:29,  4.50s/it]"
          ]
        },
        {
          "name": "stdout",
          "output_type": "stream",
          "text": [
            "{'loss': 0.4298, 'grad_norm': 1.490936279296875, 'learning_rate': 1.1111111111111112e-06, 'epoch': 98.57}\n"
          ]
        },
        {
          "name": "stderr",
          "output_type": "stream",
          "text": [
            "                                                     \n",
            " 99%|█████████▉| 1386/1400 [1:35:25<00:20,  1.50s/it]"
          ]
        },
        {
          "name": "stdout",
          "output_type": "stream",
          "text": [
            "{'eval_loss': 1.0021659135818481, 'eval_runtime': 0.5012, 'eval_samples_per_second': 11.97, 'eval_steps_per_second': 3.99, 'epoch': 99.0}\n"
          ]
        },
        {
          "name": "stderr",
          "output_type": "stream",
          "text": [
            " 99%|█████████▉| 1390/1400 [1:35:29<00:12,  1.22s/it]"
          ]
        },
        {
          "name": "stdout",
          "output_type": "stream",
          "text": [
            "{'loss': 0.4645, 'grad_norm': 0.9640223979949951, 'learning_rate': 5.555555555555556e-07, 'epoch': 99.29}\n"
          ]
        },
        {
          "name": "stderr",
          "output_type": "stream",
          "text": [
            "100%|██████████| 1400/1400 [1:35:39<00:00,  1.05it/s]"
          ]
        },
        {
          "name": "stdout",
          "output_type": "stream",
          "text": [
            "{'loss': 0.3858, 'grad_norm': 2.372018337249756, 'learning_rate': 0.0, 'epoch': 100.0}\n"
          ]
        },
        {
          "name": "stderr",
          "output_type": "stream",
          "text": [
            "                                                     \n",
            "100%|██████████| 1400/1400 [1:35:41<00:00,  4.10s/it]\n"
          ]
        },
        {
          "name": "stdout",
          "output_type": "stream",
          "text": [
            "{'eval_loss': 1.0022499561309814, 'eval_runtime': 0.5079, 'eval_samples_per_second': 11.814, 'eval_steps_per_second': 3.938, 'epoch': 100.0}\n",
            "{'train_runtime': 5741.3974, 'train_samples_per_second': 0.923, 'train_steps_per_second': 0.244, 'train_loss': 1.536350506033216, 'epoch': 100.0}\n"
          ]
        },
        {
          "data": {
            "text/plain": [
              "('./t5_nmap_tokenizer\\\\tokenizer_config.json',\n",
              " './t5_nmap_tokenizer\\\\special_tokens_map.json',\n",
              " './t5_nmap_tokenizer\\\\spiece.model',\n",
              " './t5_nmap_tokenizer\\\\added_tokens.json')"
            ]
          },
          "execution_count": 6,
          "metadata": {},
          "output_type": "execute_result"
        }
      ],
      "source": [
        "from transformers import T5Tokenizer , T5ForConditionalGeneration\n",
        "from transformers import TrainingArguments , Trainer\n",
        "\n",
        "tokenizer = T5Tokenizer.from_pretrained('t5-small')\n",
        "\n",
        "model = T5ForConditionalGeneration.from_pretrained('t5-small')\n",
        "def preprocess(datas):\n",
        "\n",
        "  inp = [x for x in datas['input']]\n",
        "\n",
        "  out = [x for x in datas['output']]\n",
        "  print(out)\n",
        "\n",
        "\n",
        "  model_inp = tokenizer(inp , max_length=128 ,truncation=True , padding='max_length')\n",
        "\n",
        "  with tokenizer.as_target_tokenizer():\n",
        "\n",
        "    labels = tokenizer(out ,  max_length=128 ,truncation=True , padding='max_length')\n",
        "  # print(labels)\n",
        "  model_inp[\"labels\"] = labels[\"input_ids\"]\n",
        "  # for input_ids, label_ids in zip(model_inp[\"labels\"], labels[\"input_ids\"]):\n",
        "  #   decoded_input = tokenizer.decode(input_ids, skip_special_tokens=True)\n",
        "  #   decoded_label = tokenizer.decode(label_ids, skip_special_tokens=True)\n",
        "  #   print(f\"Input: {decoded_input} ======>>>> Label: {decoded_label}\")\n",
        "  # # print(labels[\"output\"])\n",
        "  # print(model_inp[\"labels\"])\n",
        "\n",
        "  final_data_for_train = model_inp\n",
        "\n",
        "  return final_data_for_train\n",
        "  # print(final_data_for_train)\n",
        "\n",
        "token_train_data = train_data.map(preprocess , batched=True)\n",
        "\n",
        "token_val_data = validation_data.map(preprocess , batched=True)\n",
        "\n",
        "print(token_train_data)\n",
        "\n",
        "print(token_val_data)\n",
        "\n",
        "# for i in token_train_data:\n",
        "\n",
        "  # for input_ids, label_ids in zip(token_train_data[\"labels\"], token_train_data[\"input_ids\"]):\n",
        "  #   decoded_input = tokenizer.decode(input_ids, skip_special_tokens=True)\n",
        "  #   decoded_label = tokenizer.decode(label_ids, skip_special_tokens=True)\n",
        "  #   print(f\"Input: {decoded_input} ======>>>> Label: {decoded_label}\")\n",
        "\n",
        "\n",
        "\n",
        "for i in token_val_data:\n",
        "\n",
        "  print(tokenizer.decode(i['labels']), tokenizer.decode(i['input_ids']))\n",
        "\n",
        "\n",
        "training_args = TrainingArguments(\n",
        "    output_dir='./results',\n",
        "    num_train_epochs=100,\n",
        "    per_device_train_batch_size=4,\n",
        "    per_device_eval_batch_size=4,\n",
        "    warmup_steps=500,\n",
        "    weight_decay=0.01,\n",
        "    logging_dir='./logs',\n",
        "    logging_steps=10,\n",
        "    evaluation_strategy=\"epoch\",\n",
        "    learning_rate=5e-5\n",
        ")\n",
        "\n",
        "\n",
        "trainer = Trainer(\n",
        "    model = model,\n",
        "    args = training_args,\n",
        "    train_dataset = token_train_data,\n",
        "    eval_dataset = token_val_data\n",
        ")\n",
        "\n",
        "\n",
        "trainer.train()\n",
        "model.save_pretrained(\"./t5_nmap_model\")\n",
        "tokenizer.save_pretrained(\"./t5_nmap_tokenizer\")"
      ]
    },
    {
      "cell_type": "code",
      "execution_count": 7,
      "metadata": {
        "id": "lbZFfV2BonVN"
      },
      "outputs": [],
      "source": [
        "# Put Your Evaluvation function here"
      ]
    },
    {
      "cell_type": "code",
      "execution_count": 8,
      "metadata": {
        "id": "1f2fxw4iexRY"
      },
      "outputs": [
        {
          "name": "stdout",
          "output_type": "stream",
          "text": [
            "Input Query: What is the virtual DOM?\n",
            "Predicted Answer: The virtual DOM is a DOM that looks similar to the actual DOM.\n",
            "\n",
            "Input Query: What is a component in React?\n",
            "Predicted Answer: A component is a reusable component that takes a component and returns a new component to the DOM.\n",
            "\n"
          ]
        }
      ],
      "source": [
        "import torch\n",
        "from transformers import T5Tokenizer, T5ForConditionalGeneration\n",
        "\n",
        "tokenizer = T5Tokenizer.from_pretrained('./t5_nmap_tokenizer')\n",
        "model = T5ForConditionalGeneration.from_pretrained('./t5_nmap_model')\n",
        "\n",
        "\n",
        "questions_dom = [\"What is the virtual DOM?\", \"What is a component in React?\"]\n",
        "\n",
        "for input_query in questions_dom:\n",
        "    inputs = tokenizer.encode(\"question: \" + input_query, return_tensors=\"pt\")\n",
        "    outputs = model.generate(inputs, max_length=128, num_beams=4, early_stopping=True)\n",
        "    predicted_answer = tokenizer.decode(outputs[0], skip_special_tokens=True)\n",
        "    ######################################### Evaluvation function call ##########################\n",
        "    print(f\"Input Query: {input_query}\")\n",
        "    print(f\"Predicted Answer: {predicted_answer}\")\n",
        "    print()\n"
      ]
    },
    {
      "cell_type": "code",
      "execution_count": 9,
      "metadata": {
        "id": "KamaaVs-omYK"
      },
      "outputs": [],
      "source": [
        "# LLm for basic as well as hard"
      ]
    },
    {
      "cell_type": "code",
      "execution_count": null,
      "metadata": {
        "id": "Ybeuiub4e9Qd"
      },
      "outputs": [],
      "source": []
    },
    {
      "cell_type": "code",
      "execution_count": null,
      "metadata": {
        "id": "cZIP26gXe9TR"
      },
      "outputs": [],
      "source": []
    },
    {
      "cell_type": "code",
      "execution_count": 10,
      "metadata": {
        "id": "jCP8YcCHe9VY"
      },
      "outputs": [],
      "source": [
        "# from transformers import AutoModelForCausalLM, AutoTokenizer\n",
        "\n",
        "# model_name = \"EleutherAI/gpt-neo-1.3B\"\n",
        "# model_f = AutoModelForCausalLM.from_pretrained(model_name)\n",
        "# tokenizer_f = AutoTokenizer.from_pretrained(model_name)\n",
        "\n",
        "# def generate_follow_up_question_gpt_neo(previous_answer):\n",
        "\n",
        "#     prompt = (\n",
        "#         \"Given the user's previous answer, generate a relevant follow-up question. \"\n",
        "#         f\"Previous answer: {previous_answer}\\nFollow-up question:\"\n",
        "#     )\n",
        "\n",
        "\n",
        "#     input_ids = tokenizer_f.encode(prompt, return_tensors=\"pt\")\n",
        "\n",
        "#     output = model_f.generate(\n",
        "#         input_ids,\n",
        "#         max_length=100,\n",
        "#         num_beams=5,\n",
        "#         early_stopping=True,\n",
        "#         pad_token_id=tokenizer_f.eos_token_id,\n",
        "#         no_repeat_ngram_size=2,\n",
        "#         temperature=0.7\n",
        "#     )\n",
        "\n",
        "\n",
        "#     follow_up_question = tokenizer_f.decode(output[0], skip_special_tokens=True)\n",
        "\n",
        "#     follow_up_question = follow_up_question[len(prompt):].strip()\n",
        "#     return follow_up_question\n",
        "\n",
        "\n",
        "# previous_answer = \"Iam currently learning devops for deploying the full stack projects and ml\"\n",
        "# follow_up_question = generate_follow_up_question_gpt_neo(previous_answer)\n",
        "# print(f\"Follow-up Question: {follow_up_question}\")\n"
      ]
    }
  ],
  "metadata": {
    "colab": {
      "provenance": []
    },
    "kernelspec": {
      "display_name": "Python 3",
      "name": "python3"
    },
    "language_info": {
      "codemirror_mode": {
        "name": "ipython",
        "version": 3
      },
      "file_extension": ".py",
      "mimetype": "text/x-python",
      "name": "python",
      "nbconvert_exporter": "python",
      "pygments_lexer": "ipython3",
      "version": "3.11.7"
    },
    "widgets": {
      "application/vnd.jupyter.widget-state+json": {
        "0509fba14bfb4c04823daa5eee85841f": {
          "model_module": "@jupyter-widgets/base",
          "model_module_version": "1.2.0",
          "model_name": "LayoutModel",
          "state": {
            "_model_module": "@jupyter-widgets/base",
            "_model_module_version": "1.2.0",
            "_model_name": "LayoutModel",
            "_view_count": null,
            "_view_module": "@jupyter-widgets/base",
            "_view_module_version": "1.2.0",
            "_view_name": "LayoutView",
            "align_content": null,
            "align_items": null,
            "align_self": null,
            "border": null,
            "bottom": null,
            "display": null,
            "flex": null,
            "flex_flow": null,
            "grid_area": null,
            "grid_auto_columns": null,
            "grid_auto_flow": null,
            "grid_auto_rows": null,
            "grid_column": null,
            "grid_gap": null,
            "grid_row": null,
            "grid_template_areas": null,
            "grid_template_columns": null,
            "grid_template_rows": null,
            "height": null,
            "justify_content": null,
            "justify_items": null,
            "left": null,
            "margin": null,
            "max_height": null,
            "max_width": null,
            "min_height": null,
            "min_width": null,
            "object_fit": null,
            "object_position": null,
            "order": null,
            "overflow": null,
            "overflow_x": null,
            "overflow_y": null,
            "padding": null,
            "right": null,
            "top": null,
            "visibility": null,
            "width": null
          }
        },
        "0753765e62834725b31ed5327680961b": {
          "model_module": "@jupyter-widgets/controls",
          "model_module_version": "1.5.0",
          "model_name": "HTMLModel",
          "state": {
            "_dom_classes": [],
            "_model_module": "@jupyter-widgets/controls",
            "_model_module_version": "1.5.0",
            "_model_name": "HTMLModel",
            "_view_count": null,
            "_view_module": "@jupyter-widgets/controls",
            "_view_module_version": "1.5.0",
            "_view_name": "HTMLView",
            "description": "",
            "description_tooltip": null,
            "layout": "IPY_MODEL_baf85af77b4c4b78a8b9d47407480c17",
            "placeholder": "​",
            "style": "IPY_MODEL_1acb61d64b304526a52af079e8784fe0",
            "value": " 242M/242M [00:03&lt;00:00, 88.1MB/s]"
          }
        },
        "1507597754b24f54a3394e052ee09c3a": {
          "model_module": "@jupyter-widgets/controls",
          "model_module_version": "1.5.0",
          "model_name": "DescriptionStyleModel",
          "state": {
            "_model_module": "@jupyter-widgets/controls",
            "_model_module_version": "1.5.0",
            "_model_name": "DescriptionStyleModel",
            "_view_count": null,
            "_view_module": "@jupyter-widgets/base",
            "_view_module_version": "1.2.0",
            "_view_name": "StyleView",
            "description_width": ""
          }
        },
        "1722638dd9694f4690affc750be4182f": {
          "model_module": "@jupyter-widgets/controls",
          "model_module_version": "1.5.0",
          "model_name": "FloatProgressModel",
          "state": {
            "_dom_classes": [],
            "_model_module": "@jupyter-widgets/controls",
            "_model_module_version": "1.5.0",
            "_model_name": "FloatProgressModel",
            "_view_count": null,
            "_view_module": "@jupyter-widgets/controls",
            "_view_module_version": "1.5.0",
            "_view_name": "ProgressView",
            "bar_style": "success",
            "description": "",
            "description_tooltip": null,
            "layout": "IPY_MODEL_d398eb4cea5e4d3c834d04ac5320865b",
            "max": 242043056,
            "min": 0,
            "orientation": "horizontal",
            "style": "IPY_MODEL_a2368d2e022a4f778728feaf46c5c941",
            "value": 242043056
          }
        },
        "190a5dc0e5d1491a940b1466a1519591": {
          "model_module": "@jupyter-widgets/base",
          "model_module_version": "1.2.0",
          "model_name": "LayoutModel",
          "state": {
            "_model_module": "@jupyter-widgets/base",
            "_model_module_version": "1.2.0",
            "_model_name": "LayoutModel",
            "_view_count": null,
            "_view_module": "@jupyter-widgets/base",
            "_view_module_version": "1.2.0",
            "_view_name": "LayoutView",
            "align_content": null,
            "align_items": null,
            "align_self": null,
            "border": null,
            "bottom": null,
            "display": null,
            "flex": null,
            "flex_flow": null,
            "grid_area": null,
            "grid_auto_columns": null,
            "grid_auto_flow": null,
            "grid_auto_rows": null,
            "grid_column": null,
            "grid_gap": null,
            "grid_row": null,
            "grid_template_areas": null,
            "grid_template_columns": null,
            "grid_template_rows": null,
            "height": null,
            "justify_content": null,
            "justify_items": null,
            "left": null,
            "margin": null,
            "max_height": null,
            "max_width": null,
            "min_height": null,
            "min_width": null,
            "object_fit": null,
            "object_position": null,
            "order": null,
            "overflow": null,
            "overflow_x": null,
            "overflow_y": null,
            "padding": null,
            "right": null,
            "top": null,
            "visibility": null,
            "width": null
          }
        },
        "1968d762f27b41a88c259ccae8e4a1b8": {
          "model_module": "@jupyter-widgets/controls",
          "model_module_version": "1.5.0",
          "model_name": "DescriptionStyleModel",
          "state": {
            "_model_module": "@jupyter-widgets/controls",
            "_model_module_version": "1.5.0",
            "_model_name": "DescriptionStyleModel",
            "_view_count": null,
            "_view_module": "@jupyter-widgets/base",
            "_view_module_version": "1.2.0",
            "_view_name": "StyleView",
            "description_width": ""
          }
        },
        "1ac8dad4f60e4a3fb9bc9f93f7eb08a7": {
          "model_module": "@jupyter-widgets/base",
          "model_module_version": "1.2.0",
          "model_name": "LayoutModel",
          "state": {
            "_model_module": "@jupyter-widgets/base",
            "_model_module_version": "1.2.0",
            "_model_name": "LayoutModel",
            "_view_count": null,
            "_view_module": "@jupyter-widgets/base",
            "_view_module_version": "1.2.0",
            "_view_name": "LayoutView",
            "align_content": null,
            "align_items": null,
            "align_self": null,
            "border": null,
            "bottom": null,
            "display": null,
            "flex": null,
            "flex_flow": null,
            "grid_area": null,
            "grid_auto_columns": null,
            "grid_auto_flow": null,
            "grid_auto_rows": null,
            "grid_column": null,
            "grid_gap": null,
            "grid_row": null,
            "grid_template_areas": null,
            "grid_template_columns": null,
            "grid_template_rows": null,
            "height": null,
            "justify_content": null,
            "justify_items": null,
            "left": null,
            "margin": null,
            "max_height": null,
            "max_width": null,
            "min_height": null,
            "min_width": null,
            "object_fit": null,
            "object_position": null,
            "order": null,
            "overflow": null,
            "overflow_x": null,
            "overflow_y": null,
            "padding": null,
            "right": null,
            "top": null,
            "visibility": null,
            "width": null
          }
        },
        "1acb61d64b304526a52af079e8784fe0": {
          "model_module": "@jupyter-widgets/controls",
          "model_module_version": "1.5.0",
          "model_name": "DescriptionStyleModel",
          "state": {
            "_model_module": "@jupyter-widgets/controls",
            "_model_module_version": "1.5.0",
            "_model_name": "DescriptionStyleModel",
            "_view_count": null,
            "_view_module": "@jupyter-widgets/base",
            "_view_module_version": "1.2.0",
            "_view_name": "StyleView",
            "description_width": ""
          }
        },
        "1cfce51cc8314adca9b8ee6951d1388e": {
          "model_module": "@jupyter-widgets/base",
          "model_module_version": "1.2.0",
          "model_name": "LayoutModel",
          "state": {
            "_model_module": "@jupyter-widgets/base",
            "_model_module_version": "1.2.0",
            "_model_name": "LayoutModel",
            "_view_count": null,
            "_view_module": "@jupyter-widgets/base",
            "_view_module_version": "1.2.0",
            "_view_name": "LayoutView",
            "align_content": null,
            "align_items": null,
            "align_self": null,
            "border": null,
            "bottom": null,
            "display": null,
            "flex": null,
            "flex_flow": null,
            "grid_area": null,
            "grid_auto_columns": null,
            "grid_auto_flow": null,
            "grid_auto_rows": null,
            "grid_column": null,
            "grid_gap": null,
            "grid_row": null,
            "grid_template_areas": null,
            "grid_template_columns": null,
            "grid_template_rows": null,
            "height": null,
            "justify_content": null,
            "justify_items": null,
            "left": null,
            "margin": null,
            "max_height": null,
            "max_width": null,
            "min_height": null,
            "min_width": null,
            "object_fit": null,
            "object_position": null,
            "order": null,
            "overflow": null,
            "overflow_x": null,
            "overflow_y": null,
            "padding": null,
            "right": null,
            "top": null,
            "visibility": null,
            "width": null
          }
        },
        "20e8789353e547168b839c979b114cc4": {
          "model_module": "@jupyter-widgets/controls",
          "model_module_version": "1.5.0",
          "model_name": "HTMLModel",
          "state": {
            "_dom_classes": [],
            "_model_module": "@jupyter-widgets/controls",
            "_model_module_version": "1.5.0",
            "_model_name": "HTMLModel",
            "_view_count": null,
            "_view_module": "@jupyter-widgets/controls",
            "_view_module_version": "1.5.0",
            "_view_name": "HTMLView",
            "description": "",
            "description_tooltip": null,
            "layout": "IPY_MODEL_6b9968ea24064320b5714594b148f07d",
            "placeholder": "​",
            "style": "IPY_MODEL_8a28939fc8e34a6fa68ad0c7c96b050b",
            "value": "tokenizer.json: 100%"
          }
        },
        "2c620b303c6c49e1aad0bf8926a635b5": {
          "model_module": "@jupyter-widgets/controls",
          "model_module_version": "1.5.0",
          "model_name": "HTMLModel",
          "state": {
            "_dom_classes": [],
            "_model_module": "@jupyter-widgets/controls",
            "_model_module_version": "1.5.0",
            "_model_name": "HTMLModel",
            "_view_count": null,
            "_view_module": "@jupyter-widgets/controls",
            "_view_module_version": "1.5.0",
            "_view_name": "HTMLView",
            "description": "",
            "description_tooltip": null,
            "layout": "IPY_MODEL_4c32aa7e940d4dabaee519ea5699d126",
            "placeholder": "​",
            "style": "IPY_MODEL_ccedd9f60de04398bb08226fa8bc3477",
            "value": "generation_config.json: 100%"
          }
        },
        "2ddf4350dbf040afab63eb8a5ed374d9": {
          "model_module": "@jupyter-widgets/base",
          "model_module_version": "1.2.0",
          "model_name": "LayoutModel",
          "state": {
            "_model_module": "@jupyter-widgets/base",
            "_model_module_version": "1.2.0",
            "_model_name": "LayoutModel",
            "_view_count": null,
            "_view_module": "@jupyter-widgets/base",
            "_view_module_version": "1.2.0",
            "_view_name": "LayoutView",
            "align_content": null,
            "align_items": null,
            "align_self": null,
            "border": null,
            "bottom": null,
            "display": null,
            "flex": null,
            "flex_flow": null,
            "grid_area": null,
            "grid_auto_columns": null,
            "grid_auto_flow": null,
            "grid_auto_rows": null,
            "grid_column": null,
            "grid_gap": null,
            "grid_row": null,
            "grid_template_areas": null,
            "grid_template_columns": null,
            "grid_template_rows": null,
            "height": null,
            "justify_content": null,
            "justify_items": null,
            "left": null,
            "margin": null,
            "max_height": null,
            "max_width": null,
            "min_height": null,
            "min_width": null,
            "object_fit": null,
            "object_position": null,
            "order": null,
            "overflow": null,
            "overflow_x": null,
            "overflow_y": null,
            "padding": null,
            "right": null,
            "top": null,
            "visibility": null,
            "width": null
          }
        },
        "30b89a824e0648eba953a20358469ee6": {
          "model_module": "@jupyter-widgets/base",
          "model_module_version": "1.2.0",
          "model_name": "LayoutModel",
          "state": {
            "_model_module": "@jupyter-widgets/base",
            "_model_module_version": "1.2.0",
            "_model_name": "LayoutModel",
            "_view_count": null,
            "_view_module": "@jupyter-widgets/base",
            "_view_module_version": "1.2.0",
            "_view_name": "LayoutView",
            "align_content": null,
            "align_items": null,
            "align_self": null,
            "border": null,
            "bottom": null,
            "display": null,
            "flex": null,
            "flex_flow": null,
            "grid_area": null,
            "grid_auto_columns": null,
            "grid_auto_flow": null,
            "grid_auto_rows": null,
            "grid_column": null,
            "grid_gap": null,
            "grid_row": null,
            "grid_template_areas": null,
            "grid_template_columns": null,
            "grid_template_rows": null,
            "height": null,
            "justify_content": null,
            "justify_items": null,
            "left": null,
            "margin": null,
            "max_height": null,
            "max_width": null,
            "min_height": null,
            "min_width": null,
            "object_fit": null,
            "object_position": null,
            "order": null,
            "overflow": null,
            "overflow_x": null,
            "overflow_y": null,
            "padding": null,
            "right": null,
            "top": null,
            "visibility": null,
            "width": null
          }
        },
        "3401b01843cd4cc192b2c19417839a6b": {
          "model_module": "@jupyter-widgets/controls",
          "model_module_version": "1.5.0",
          "model_name": "HTMLModel",
          "state": {
            "_dom_classes": [],
            "_model_module": "@jupyter-widgets/controls",
            "_model_module_version": "1.5.0",
            "_model_name": "HTMLModel",
            "_view_count": null,
            "_view_module": "@jupyter-widgets/controls",
            "_view_module_version": "1.5.0",
            "_view_name": "HTMLView",
            "description": "",
            "description_tooltip": null,
            "layout": "IPY_MODEL_1ac8dad4f60e4a3fb9bc9f93f7eb08a7",
            "placeholder": "​",
            "style": "IPY_MODEL_1968d762f27b41a88c259ccae8e4a1b8",
            "value": "tokenizer_config.json: 100%"
          }
        },
        "3611d16102e14065a6496654b882a66a": {
          "model_module": "@jupyter-widgets/base",
          "model_module_version": "1.2.0",
          "model_name": "LayoutModel",
          "state": {
            "_model_module": "@jupyter-widgets/base",
            "_model_module_version": "1.2.0",
            "_model_name": "LayoutModel",
            "_view_count": null,
            "_view_module": "@jupyter-widgets/base",
            "_view_module_version": "1.2.0",
            "_view_name": "LayoutView",
            "align_content": null,
            "align_items": null,
            "align_self": null,
            "border": null,
            "bottom": null,
            "display": null,
            "flex": null,
            "flex_flow": null,
            "grid_area": null,
            "grid_auto_columns": null,
            "grid_auto_flow": null,
            "grid_auto_rows": null,
            "grid_column": null,
            "grid_gap": null,
            "grid_row": null,
            "grid_template_areas": null,
            "grid_template_columns": null,
            "grid_template_rows": null,
            "height": null,
            "justify_content": null,
            "justify_items": null,
            "left": null,
            "margin": null,
            "max_height": null,
            "max_width": null,
            "min_height": null,
            "min_width": null,
            "object_fit": null,
            "object_position": null,
            "order": null,
            "overflow": null,
            "overflow_x": null,
            "overflow_y": null,
            "padding": null,
            "right": null,
            "top": null,
            "visibility": null,
            "width": null
          }
        },
        "361393c5823c4869848d2ee70bc95031": {
          "model_module": "@jupyter-widgets/base",
          "model_module_version": "1.2.0",
          "model_name": "LayoutModel",
          "state": {
            "_model_module": "@jupyter-widgets/base",
            "_model_module_version": "1.2.0",
            "_model_name": "LayoutModel",
            "_view_count": null,
            "_view_module": "@jupyter-widgets/base",
            "_view_module_version": "1.2.0",
            "_view_name": "LayoutView",
            "align_content": null,
            "align_items": null,
            "align_self": null,
            "border": null,
            "bottom": null,
            "display": null,
            "flex": null,
            "flex_flow": null,
            "grid_area": null,
            "grid_auto_columns": null,
            "grid_auto_flow": null,
            "grid_auto_rows": null,
            "grid_column": null,
            "grid_gap": null,
            "grid_row": null,
            "grid_template_areas": null,
            "grid_template_columns": null,
            "grid_template_rows": null,
            "height": null,
            "justify_content": null,
            "justify_items": null,
            "left": null,
            "margin": null,
            "max_height": null,
            "max_width": null,
            "min_height": null,
            "min_width": null,
            "object_fit": null,
            "object_position": null,
            "order": null,
            "overflow": null,
            "overflow_x": null,
            "overflow_y": null,
            "padding": null,
            "right": null,
            "top": null,
            "visibility": null,
            "width": null
          }
        },
        "380b1393a7fc4e63ba5aa6ff5ca5e651": {
          "model_module": "@jupyter-widgets/controls",
          "model_module_version": "1.5.0",
          "model_name": "DescriptionStyleModel",
          "state": {
            "_model_module": "@jupyter-widgets/controls",
            "_model_module_version": "1.5.0",
            "_model_name": "DescriptionStyleModel",
            "_view_count": null,
            "_view_module": "@jupyter-widgets/base",
            "_view_module_version": "1.2.0",
            "_view_name": "StyleView",
            "description_width": ""
          }
        },
        "45d85462c9d34332afefd446882b4954": {
          "model_module": "@jupyter-widgets/controls",
          "model_module_version": "1.5.0",
          "model_name": "HTMLModel",
          "state": {
            "_dom_classes": [],
            "_model_module": "@jupyter-widgets/controls",
            "_model_module_version": "1.5.0",
            "_model_name": "HTMLModel",
            "_view_count": null,
            "_view_module": "@jupyter-widgets/controls",
            "_view_module_version": "1.5.0",
            "_view_name": "HTMLView",
            "description": "",
            "description_tooltip": null,
            "layout": "IPY_MODEL_4b37b81b787a4fa087c1386e0ff65e8f",
            "placeholder": "​",
            "style": "IPY_MODEL_91d2961cf3bd4f53b4651bca62f17674",
            "value": "Map: 100%"
          }
        },
        "462556859a334c9b9201f09feeaa428b": {
          "model_module": "@jupyter-widgets/controls",
          "model_module_version": "1.5.0",
          "model_name": "HTMLModel",
          "state": {
            "_dom_classes": [],
            "_model_module": "@jupyter-widgets/controls",
            "_model_module_version": "1.5.0",
            "_model_name": "HTMLModel",
            "_view_count": null,
            "_view_module": "@jupyter-widgets/controls",
            "_view_module_version": "1.5.0",
            "_view_name": "HTMLView",
            "description": "",
            "description_tooltip": null,
            "layout": "IPY_MODEL_eca58960061e4ec780ff29ccdfbb001a",
            "placeholder": "​",
            "style": "IPY_MODEL_faa7b22a41964e28a8fd87fe2718cbb6",
            "value": "Map: 100%"
          }
        },
        "46b97f04dd77404086cce2d3dd5d45a3": {
          "model_module": "@jupyter-widgets/base",
          "model_module_version": "1.2.0",
          "model_name": "LayoutModel",
          "state": {
            "_model_module": "@jupyter-widgets/base",
            "_model_module_version": "1.2.0",
            "_model_name": "LayoutModel",
            "_view_count": null,
            "_view_module": "@jupyter-widgets/base",
            "_view_module_version": "1.2.0",
            "_view_name": "LayoutView",
            "align_content": null,
            "align_items": null,
            "align_self": null,
            "border": null,
            "bottom": null,
            "display": null,
            "flex": null,
            "flex_flow": null,
            "grid_area": null,
            "grid_auto_columns": null,
            "grid_auto_flow": null,
            "grid_auto_rows": null,
            "grid_column": null,
            "grid_gap": null,
            "grid_row": null,
            "grid_template_areas": null,
            "grid_template_columns": null,
            "grid_template_rows": null,
            "height": null,
            "justify_content": null,
            "justify_items": null,
            "left": null,
            "margin": null,
            "max_height": null,
            "max_width": null,
            "min_height": null,
            "min_width": null,
            "object_fit": null,
            "object_position": null,
            "order": null,
            "overflow": null,
            "overflow_x": null,
            "overflow_y": null,
            "padding": null,
            "right": null,
            "top": null,
            "visibility": null,
            "width": null
          }
        },
        "46ffed2c152342c783a4422fd151e454": {
          "model_module": "@jupyter-widgets/controls",
          "model_module_version": "1.5.0",
          "model_name": "HBoxModel",
          "state": {
            "_dom_classes": [],
            "_model_module": "@jupyter-widgets/controls",
            "_model_module_version": "1.5.0",
            "_model_name": "HBoxModel",
            "_view_count": null,
            "_view_module": "@jupyter-widgets/controls",
            "_view_module_version": "1.5.0",
            "_view_name": "HBoxView",
            "box_style": "",
            "children": [
              "IPY_MODEL_45d85462c9d34332afefd446882b4954",
              "IPY_MODEL_c0a5d602aea540e38f11e2a6ce2ed87f",
              "IPY_MODEL_d864d721c58f47358e2ad8f28afc97fb"
            ],
            "layout": "IPY_MODEL_f9abbdd71c4f4e38bc4e03da0d566e06"
          }
        },
        "4825fed03e8b44f199543d3f025d9d2c": {
          "model_module": "@jupyter-widgets/controls",
          "model_module_version": "1.5.0",
          "model_name": "HTMLModel",
          "state": {
            "_dom_classes": [],
            "_model_module": "@jupyter-widgets/controls",
            "_model_module_version": "1.5.0",
            "_model_name": "HTMLModel",
            "_view_count": null,
            "_view_module": "@jupyter-widgets/controls",
            "_view_module_version": "1.5.0",
            "_view_name": "HTMLView",
            "description": "",
            "description_tooltip": null,
            "layout": "IPY_MODEL_d1406df3e5bd4bfbbb60387756601999",
            "placeholder": "​",
            "style": "IPY_MODEL_80d8bbf3d84442adbb41cbab969222f3",
            "value": "spiece.model: 100%"
          }
        },
        "4b37b81b787a4fa087c1386e0ff65e8f": {
          "model_module": "@jupyter-widgets/base",
          "model_module_version": "1.2.0",
          "model_name": "LayoutModel",
          "state": {
            "_model_module": "@jupyter-widgets/base",
            "_model_module_version": "1.2.0",
            "_model_name": "LayoutModel",
            "_view_count": null,
            "_view_module": "@jupyter-widgets/base",
            "_view_module_version": "1.2.0",
            "_view_name": "LayoutView",
            "align_content": null,
            "align_items": null,
            "align_self": null,
            "border": null,
            "bottom": null,
            "display": null,
            "flex": null,
            "flex_flow": null,
            "grid_area": null,
            "grid_auto_columns": null,
            "grid_auto_flow": null,
            "grid_auto_rows": null,
            "grid_column": null,
            "grid_gap": null,
            "grid_row": null,
            "grid_template_areas": null,
            "grid_template_columns": null,
            "grid_template_rows": null,
            "height": null,
            "justify_content": null,
            "justify_items": null,
            "left": null,
            "margin": null,
            "max_height": null,
            "max_width": null,
            "min_height": null,
            "min_width": null,
            "object_fit": null,
            "object_position": null,
            "order": null,
            "overflow": null,
            "overflow_x": null,
            "overflow_y": null,
            "padding": null,
            "right": null,
            "top": null,
            "visibility": null,
            "width": null
          }
        },
        "4c32aa7e940d4dabaee519ea5699d126": {
          "model_module": "@jupyter-widgets/base",
          "model_module_version": "1.2.0",
          "model_name": "LayoutModel",
          "state": {
            "_model_module": "@jupyter-widgets/base",
            "_model_module_version": "1.2.0",
            "_model_name": "LayoutModel",
            "_view_count": null,
            "_view_module": "@jupyter-widgets/base",
            "_view_module_version": "1.2.0",
            "_view_name": "LayoutView",
            "align_content": null,
            "align_items": null,
            "align_self": null,
            "border": null,
            "bottom": null,
            "display": null,
            "flex": null,
            "flex_flow": null,
            "grid_area": null,
            "grid_auto_columns": null,
            "grid_auto_flow": null,
            "grid_auto_rows": null,
            "grid_column": null,
            "grid_gap": null,
            "grid_row": null,
            "grid_template_areas": null,
            "grid_template_columns": null,
            "grid_template_rows": null,
            "height": null,
            "justify_content": null,
            "justify_items": null,
            "left": null,
            "margin": null,
            "max_height": null,
            "max_width": null,
            "min_height": null,
            "min_width": null,
            "object_fit": null,
            "object_position": null,
            "order": null,
            "overflow": null,
            "overflow_x": null,
            "overflow_y": null,
            "padding": null,
            "right": null,
            "top": null,
            "visibility": null,
            "width": null
          }
        },
        "4fd343c6409b4696808e193537a435b3": {
          "model_module": "@jupyter-widgets/base",
          "model_module_version": "1.2.0",
          "model_name": "LayoutModel",
          "state": {
            "_model_module": "@jupyter-widgets/base",
            "_model_module_version": "1.2.0",
            "_model_name": "LayoutModel",
            "_view_count": null,
            "_view_module": "@jupyter-widgets/base",
            "_view_module_version": "1.2.0",
            "_view_name": "LayoutView",
            "align_content": null,
            "align_items": null,
            "align_self": null,
            "border": null,
            "bottom": null,
            "display": null,
            "flex": null,
            "flex_flow": null,
            "grid_area": null,
            "grid_auto_columns": null,
            "grid_auto_flow": null,
            "grid_auto_rows": null,
            "grid_column": null,
            "grid_gap": null,
            "grid_row": null,
            "grid_template_areas": null,
            "grid_template_columns": null,
            "grid_template_rows": null,
            "height": null,
            "justify_content": null,
            "justify_items": null,
            "left": null,
            "margin": null,
            "max_height": null,
            "max_width": null,
            "min_height": null,
            "min_width": null,
            "object_fit": null,
            "object_position": null,
            "order": null,
            "overflow": null,
            "overflow_x": null,
            "overflow_y": null,
            "padding": null,
            "right": null,
            "top": null,
            "visibility": null,
            "width": null
          }
        },
        "51e7381a523440d8aae52944475c9306": {
          "model_module": "@jupyter-widgets/controls",
          "model_module_version": "1.5.0",
          "model_name": "HBoxModel",
          "state": {
            "_dom_classes": [],
            "_model_module": "@jupyter-widgets/controls",
            "_model_module_version": "1.5.0",
            "_model_name": "HBoxModel",
            "_view_count": null,
            "_view_module": "@jupyter-widgets/controls",
            "_view_module_version": "1.5.0",
            "_view_name": "HBoxView",
            "box_style": "",
            "children": [
              "IPY_MODEL_3401b01843cd4cc192b2c19417839a6b",
              "IPY_MODEL_aad9ce1318ac456cb550e0049cd1413a",
              "IPY_MODEL_5c0a3825afc4488dae820993d224cc41"
            ],
            "layout": "IPY_MODEL_1cfce51cc8314adca9b8ee6951d1388e"
          }
        },
        "5476da842ce044ee88b81be7afff7433": {
          "model_module": "@jupyter-widgets/controls",
          "model_module_version": "1.5.0",
          "model_name": "HTMLModel",
          "state": {
            "_dom_classes": [],
            "_model_module": "@jupyter-widgets/controls",
            "_model_module_version": "1.5.0",
            "_model_name": "HTMLModel",
            "_view_count": null,
            "_view_module": "@jupyter-widgets/controls",
            "_view_module_version": "1.5.0",
            "_view_name": "HTMLView",
            "description": "",
            "description_tooltip": null,
            "layout": "IPY_MODEL_361393c5823c4869848d2ee70bc95031",
            "placeholder": "​",
            "style": "IPY_MODEL_baa7781fc3864728b0406a6676fb35fd",
            "value": " 792k/792k [00:00&lt;00:00, 2.81MB/s]"
          }
        },
        "589a7b07ba0145d6ac46fb6115b39b3c": {
          "model_module": "@jupyter-widgets/controls",
          "model_module_version": "1.5.0",
          "model_name": "HBoxModel",
          "state": {
            "_dom_classes": [],
            "_model_module": "@jupyter-widgets/controls",
            "_model_module_version": "1.5.0",
            "_model_name": "HBoxModel",
            "_view_count": null,
            "_view_module": "@jupyter-widgets/controls",
            "_view_module_version": "1.5.0",
            "_view_name": "HBoxView",
            "box_style": "",
            "children": [
              "IPY_MODEL_20e8789353e547168b839c979b114cc4",
              "IPY_MODEL_76a6ec18fe4744c2a8fae56f72082f05",
              "IPY_MODEL_ac8682ce6e88481c8b07426f6b60b2fb"
            ],
            "layout": "IPY_MODEL_c1d3128e9ee74796bafb02adda59a10d"
          }
        },
        "590e87d3ff614bc79d1a6861e87e11e6": {
          "model_module": "@jupyter-widgets/controls",
          "model_module_version": "1.5.0",
          "model_name": "FloatProgressModel",
          "state": {
            "_dom_classes": [],
            "_model_module": "@jupyter-widgets/controls",
            "_model_module_version": "1.5.0",
            "_model_name": "FloatProgressModel",
            "_view_count": null,
            "_view_module": "@jupyter-widgets/controls",
            "_view_module_version": "1.5.0",
            "_view_name": "ProgressView",
            "bar_style": "success",
            "description": "",
            "description_tooltip": null,
            "layout": "IPY_MODEL_97c48c8a80504c6e902c24392a2f2622",
            "max": 53,
            "min": 0,
            "orientation": "horizontal",
            "style": "IPY_MODEL_8daa77317a3b42a8a725296d869bc17b",
            "value": 53
          }
        },
        "5c0a3825afc4488dae820993d224cc41": {
          "model_module": "@jupyter-widgets/controls",
          "model_module_version": "1.5.0",
          "model_name": "HTMLModel",
          "state": {
            "_dom_classes": [],
            "_model_module": "@jupyter-widgets/controls",
            "_model_module_version": "1.5.0",
            "_model_name": "HTMLModel",
            "_view_count": null,
            "_view_module": "@jupyter-widgets/controls",
            "_view_module_version": "1.5.0",
            "_view_name": "HTMLView",
            "description": "",
            "description_tooltip": null,
            "layout": "IPY_MODEL_e7bbfa27df97458aa74e020f94ff81c2",
            "placeholder": "​",
            "style": "IPY_MODEL_9ff99452e0ab478f8573a2a977f6cb11",
            "value": " 2.32k/2.32k [00:00&lt;00:00, 33.2kB/s]"
          }
        },
        "65802e49049a4cae93b35a59a776543a": {
          "model_module": "@jupyter-widgets/base",
          "model_module_version": "1.2.0",
          "model_name": "LayoutModel",
          "state": {
            "_model_module": "@jupyter-widgets/base",
            "_model_module_version": "1.2.0",
            "_model_name": "LayoutModel",
            "_view_count": null,
            "_view_module": "@jupyter-widgets/base",
            "_view_module_version": "1.2.0",
            "_view_name": "LayoutView",
            "align_content": null,
            "align_items": null,
            "align_self": null,
            "border": null,
            "bottom": null,
            "display": null,
            "flex": null,
            "flex_flow": null,
            "grid_area": null,
            "grid_auto_columns": null,
            "grid_auto_flow": null,
            "grid_auto_rows": null,
            "grid_column": null,
            "grid_gap": null,
            "grid_row": null,
            "grid_template_areas": null,
            "grid_template_columns": null,
            "grid_template_rows": null,
            "height": null,
            "justify_content": null,
            "justify_items": null,
            "left": null,
            "margin": null,
            "max_height": null,
            "max_width": null,
            "min_height": null,
            "min_width": null,
            "object_fit": null,
            "object_position": null,
            "order": null,
            "overflow": null,
            "overflow_x": null,
            "overflow_y": null,
            "padding": null,
            "right": null,
            "top": null,
            "visibility": null,
            "width": null
          }
        },
        "69ed5bfc0b8743b4ab406bd7ff64dd7f": {
          "model_module": "@jupyter-widgets/controls",
          "model_module_version": "1.5.0",
          "model_name": "DescriptionStyleModel",
          "state": {
            "_model_module": "@jupyter-widgets/controls",
            "_model_module_version": "1.5.0",
            "_model_name": "DescriptionStyleModel",
            "_view_count": null,
            "_view_module": "@jupyter-widgets/base",
            "_view_module_version": "1.2.0",
            "_view_name": "StyleView",
            "description_width": ""
          }
        },
        "6b9968ea24064320b5714594b148f07d": {
          "model_module": "@jupyter-widgets/base",
          "model_module_version": "1.2.0",
          "model_name": "LayoutModel",
          "state": {
            "_model_module": "@jupyter-widgets/base",
            "_model_module_version": "1.2.0",
            "_model_name": "LayoutModel",
            "_view_count": null,
            "_view_module": "@jupyter-widgets/base",
            "_view_module_version": "1.2.0",
            "_view_name": "LayoutView",
            "align_content": null,
            "align_items": null,
            "align_self": null,
            "border": null,
            "bottom": null,
            "display": null,
            "flex": null,
            "flex_flow": null,
            "grid_area": null,
            "grid_auto_columns": null,
            "grid_auto_flow": null,
            "grid_auto_rows": null,
            "grid_column": null,
            "grid_gap": null,
            "grid_row": null,
            "grid_template_areas": null,
            "grid_template_columns": null,
            "grid_template_rows": null,
            "height": null,
            "justify_content": null,
            "justify_items": null,
            "left": null,
            "margin": null,
            "max_height": null,
            "max_width": null,
            "min_height": null,
            "min_width": null,
            "object_fit": null,
            "object_position": null,
            "order": null,
            "overflow": null,
            "overflow_x": null,
            "overflow_y": null,
            "padding": null,
            "right": null,
            "top": null,
            "visibility": null,
            "width": null
          }
        },
        "76a6ec18fe4744c2a8fae56f72082f05": {
          "model_module": "@jupyter-widgets/controls",
          "model_module_version": "1.5.0",
          "model_name": "FloatProgressModel",
          "state": {
            "_dom_classes": [],
            "_model_module": "@jupyter-widgets/controls",
            "_model_module_version": "1.5.0",
            "_model_name": "FloatProgressModel",
            "_view_count": null,
            "_view_module": "@jupyter-widgets/controls",
            "_view_module_version": "1.5.0",
            "_view_name": "ProgressView",
            "bar_style": "success",
            "description": "",
            "description_tooltip": null,
            "layout": "IPY_MODEL_ba37ef66bc644a8e90ea62909b915b08",
            "max": 1389353,
            "min": 0,
            "orientation": "horizontal",
            "style": "IPY_MODEL_f0d2b3a34e604ff2b1fe31e38b934647",
            "value": 1389353
          }
        },
        "779c467eab974767b07e4f84d96c5113": {
          "model_module": "@jupyter-widgets/controls",
          "model_module_version": "1.5.0",
          "model_name": "FloatProgressModel",
          "state": {
            "_dom_classes": [],
            "_model_module": "@jupyter-widgets/controls",
            "_model_module_version": "1.5.0",
            "_model_name": "FloatProgressModel",
            "_view_count": null,
            "_view_module": "@jupyter-widgets/controls",
            "_view_module_version": "1.5.0",
            "_view_name": "ProgressView",
            "bar_style": "success",
            "description": "",
            "description_tooltip": null,
            "layout": "IPY_MODEL_30b89a824e0648eba953a20358469ee6",
            "max": 147,
            "min": 0,
            "orientation": "horizontal",
            "style": "IPY_MODEL_b1e33a14805c4eaebcce89603247a67a",
            "value": 147
          }
        },
        "7898311a60da4268a6aca4d5ed36549c": {
          "model_module": "@jupyter-widgets/controls",
          "model_module_version": "1.5.0",
          "model_name": "ProgressStyleModel",
          "state": {
            "_model_module": "@jupyter-widgets/controls",
            "_model_module_version": "1.5.0",
            "_model_name": "ProgressStyleModel",
            "_view_count": null,
            "_view_module": "@jupyter-widgets/base",
            "_view_module_version": "1.2.0",
            "_view_name": "StyleView",
            "bar_color": null,
            "description_width": ""
          }
        },
        "80d8bbf3d84442adbb41cbab969222f3": {
          "model_module": "@jupyter-widgets/controls",
          "model_module_version": "1.5.0",
          "model_name": "DescriptionStyleModel",
          "state": {
            "_model_module": "@jupyter-widgets/controls",
            "_model_module_version": "1.5.0",
            "_model_name": "DescriptionStyleModel",
            "_view_count": null,
            "_view_module": "@jupyter-widgets/base",
            "_view_module_version": "1.2.0",
            "_view_name": "StyleView",
            "description_width": ""
          }
        },
        "848eaffaee14418a989111953577f204": {
          "model_module": "@jupyter-widgets/controls",
          "model_module_version": "1.5.0",
          "model_name": "ProgressStyleModel",
          "state": {
            "_model_module": "@jupyter-widgets/controls",
            "_model_module_version": "1.5.0",
            "_model_name": "ProgressStyleModel",
            "_view_count": null,
            "_view_module": "@jupyter-widgets/base",
            "_view_module_version": "1.2.0",
            "_view_name": "StyleView",
            "bar_color": null,
            "description_width": ""
          }
        },
        "84d4d8adc56041fc982d8c604b7d45c0": {
          "model_module": "@jupyter-widgets/controls",
          "model_module_version": "1.5.0",
          "model_name": "FloatProgressModel",
          "state": {
            "_dom_classes": [],
            "_model_module": "@jupyter-widgets/controls",
            "_model_module_version": "1.5.0",
            "_model_name": "FloatProgressModel",
            "_view_count": null,
            "_view_module": "@jupyter-widgets/controls",
            "_view_module_version": "1.5.0",
            "_view_name": "ProgressView",
            "bar_style": "success",
            "description": "",
            "description_tooltip": null,
            "layout": "IPY_MODEL_cffde6d141e5424a819ddc1d1f1d3e4e",
            "max": 791656,
            "min": 0,
            "orientation": "horizontal",
            "style": "IPY_MODEL_99e25a55e41847efba94215ecb3a3e49",
            "value": 791656
          }
        },
        "859b34fe316a4df39f16511e3466b4dc": {
          "model_module": "@jupyter-widgets/base",
          "model_module_version": "1.2.0",
          "model_name": "LayoutModel",
          "state": {
            "_model_module": "@jupyter-widgets/base",
            "_model_module_version": "1.2.0",
            "_model_name": "LayoutModel",
            "_view_count": null,
            "_view_module": "@jupyter-widgets/base",
            "_view_module_version": "1.2.0",
            "_view_name": "LayoutView",
            "align_content": null,
            "align_items": null,
            "align_self": null,
            "border": null,
            "bottom": null,
            "display": null,
            "flex": null,
            "flex_flow": null,
            "grid_area": null,
            "grid_auto_columns": null,
            "grid_auto_flow": null,
            "grid_auto_rows": null,
            "grid_column": null,
            "grid_gap": null,
            "grid_row": null,
            "grid_template_areas": null,
            "grid_template_columns": null,
            "grid_template_rows": null,
            "height": null,
            "justify_content": null,
            "justify_items": null,
            "left": null,
            "margin": null,
            "max_height": null,
            "max_width": null,
            "min_height": null,
            "min_width": null,
            "object_fit": null,
            "object_position": null,
            "order": null,
            "overflow": null,
            "overflow_x": null,
            "overflow_y": null,
            "padding": null,
            "right": null,
            "top": null,
            "visibility": null,
            "width": null
          }
        },
        "8a28939fc8e34a6fa68ad0c7c96b050b": {
          "model_module": "@jupyter-widgets/controls",
          "model_module_version": "1.5.0",
          "model_name": "DescriptionStyleModel",
          "state": {
            "_model_module": "@jupyter-widgets/controls",
            "_model_module_version": "1.5.0",
            "_model_name": "DescriptionStyleModel",
            "_view_count": null,
            "_view_module": "@jupyter-widgets/base",
            "_view_module_version": "1.2.0",
            "_view_name": "StyleView",
            "description_width": ""
          }
        },
        "8bb385716f2d4fd4a9231bb5c6e56cb6": {
          "model_module": "@jupyter-widgets/controls",
          "model_module_version": "1.5.0",
          "model_name": "FloatProgressModel",
          "state": {
            "_dom_classes": [],
            "_model_module": "@jupyter-widgets/controls",
            "_model_module_version": "1.5.0",
            "_model_name": "FloatProgressModel",
            "_view_count": null,
            "_view_module": "@jupyter-widgets/controls",
            "_view_module_version": "1.5.0",
            "_view_name": "ProgressView",
            "bar_style": "success",
            "description": "",
            "description_tooltip": null,
            "layout": "IPY_MODEL_de0b7eb835ca40d3a8812398e6189045",
            "max": 1206,
            "min": 0,
            "orientation": "horizontal",
            "style": "IPY_MODEL_848eaffaee14418a989111953577f204",
            "value": 1206
          }
        },
        "8daa77317a3b42a8a725296d869bc17b": {
          "model_module": "@jupyter-widgets/controls",
          "model_module_version": "1.5.0",
          "model_name": "ProgressStyleModel",
          "state": {
            "_model_module": "@jupyter-widgets/controls",
            "_model_module_version": "1.5.0",
            "_model_name": "ProgressStyleModel",
            "_view_count": null,
            "_view_module": "@jupyter-widgets/base",
            "_view_module_version": "1.2.0",
            "_view_name": "StyleView",
            "bar_color": null,
            "description_width": ""
          }
        },
        "8f05cc7acc65487ebc81d20833794254": {
          "model_module": "@jupyter-widgets/controls",
          "model_module_version": "1.5.0",
          "model_name": "HBoxModel",
          "state": {
            "_dom_classes": [],
            "_model_module": "@jupyter-widgets/controls",
            "_model_module_version": "1.5.0",
            "_model_name": "HBoxModel",
            "_view_count": null,
            "_view_module": "@jupyter-widgets/controls",
            "_view_module_version": "1.5.0",
            "_view_name": "HBoxView",
            "box_style": "",
            "children": [
              "IPY_MODEL_b741f56422f8496a9f39d9e5cac49d5c",
              "IPY_MODEL_1722638dd9694f4690affc750be4182f",
              "IPY_MODEL_0753765e62834725b31ed5327680961b"
            ],
            "layout": "IPY_MODEL_4fd343c6409b4696808e193537a435b3"
          }
        },
        "9149756b74f443e7aa10b2d6d1b843ec": {
          "model_module": "@jupyter-widgets/controls",
          "model_module_version": "1.5.0",
          "model_name": "ProgressStyleModel",
          "state": {
            "_model_module": "@jupyter-widgets/controls",
            "_model_module_version": "1.5.0",
            "_model_name": "ProgressStyleModel",
            "_view_count": null,
            "_view_module": "@jupyter-widgets/base",
            "_view_module_version": "1.2.0",
            "_view_name": "StyleView",
            "bar_color": null,
            "description_width": ""
          }
        },
        "91d2961cf3bd4f53b4651bca62f17674": {
          "model_module": "@jupyter-widgets/controls",
          "model_module_version": "1.5.0",
          "model_name": "DescriptionStyleModel",
          "state": {
            "_model_module": "@jupyter-widgets/controls",
            "_model_module_version": "1.5.0",
            "_model_name": "DescriptionStyleModel",
            "_view_count": null,
            "_view_module": "@jupyter-widgets/base",
            "_view_module_version": "1.2.0",
            "_view_name": "StyleView",
            "description_width": ""
          }
        },
        "97c48c8a80504c6e902c24392a2f2622": {
          "model_module": "@jupyter-widgets/base",
          "model_module_version": "1.2.0",
          "model_name": "LayoutModel",
          "state": {
            "_model_module": "@jupyter-widgets/base",
            "_model_module_version": "1.2.0",
            "_model_name": "LayoutModel",
            "_view_count": null,
            "_view_module": "@jupyter-widgets/base",
            "_view_module_version": "1.2.0",
            "_view_name": "LayoutView",
            "align_content": null,
            "align_items": null,
            "align_self": null,
            "border": null,
            "bottom": null,
            "display": null,
            "flex": null,
            "flex_flow": null,
            "grid_area": null,
            "grid_auto_columns": null,
            "grid_auto_flow": null,
            "grid_auto_rows": null,
            "grid_column": null,
            "grid_gap": null,
            "grid_row": null,
            "grid_template_areas": null,
            "grid_template_columns": null,
            "grid_template_rows": null,
            "height": null,
            "justify_content": null,
            "justify_items": null,
            "left": null,
            "margin": null,
            "max_height": null,
            "max_width": null,
            "min_height": null,
            "min_width": null,
            "object_fit": null,
            "object_position": null,
            "order": null,
            "overflow": null,
            "overflow_x": null,
            "overflow_y": null,
            "padding": null,
            "right": null,
            "top": null,
            "visibility": null,
            "width": null
          }
        },
        "99e25a55e41847efba94215ecb3a3e49": {
          "model_module": "@jupyter-widgets/controls",
          "model_module_version": "1.5.0",
          "model_name": "ProgressStyleModel",
          "state": {
            "_model_module": "@jupyter-widgets/controls",
            "_model_module_version": "1.5.0",
            "_model_name": "ProgressStyleModel",
            "_view_count": null,
            "_view_module": "@jupyter-widgets/base",
            "_view_module_version": "1.2.0",
            "_view_name": "StyleView",
            "bar_color": null,
            "description_width": ""
          }
        },
        "9b439608862c49308dd5990969e90433": {
          "model_module": "@jupyter-widgets/base",
          "model_module_version": "1.2.0",
          "model_name": "LayoutModel",
          "state": {
            "_model_module": "@jupyter-widgets/base",
            "_model_module_version": "1.2.0",
            "_model_name": "LayoutModel",
            "_view_count": null,
            "_view_module": "@jupyter-widgets/base",
            "_view_module_version": "1.2.0",
            "_view_name": "LayoutView",
            "align_content": null,
            "align_items": null,
            "align_self": null,
            "border": null,
            "bottom": null,
            "display": null,
            "flex": null,
            "flex_flow": null,
            "grid_area": null,
            "grid_auto_columns": null,
            "grid_auto_flow": null,
            "grid_auto_rows": null,
            "grid_column": null,
            "grid_gap": null,
            "grid_row": null,
            "grid_template_areas": null,
            "grid_template_columns": null,
            "grid_template_rows": null,
            "height": null,
            "justify_content": null,
            "justify_items": null,
            "left": null,
            "margin": null,
            "max_height": null,
            "max_width": null,
            "min_height": null,
            "min_width": null,
            "object_fit": null,
            "object_position": null,
            "order": null,
            "overflow": null,
            "overflow_x": null,
            "overflow_y": null,
            "padding": null,
            "right": null,
            "top": null,
            "visibility": null,
            "width": null
          }
        },
        "9ff99452e0ab478f8573a2a977f6cb11": {
          "model_module": "@jupyter-widgets/controls",
          "model_module_version": "1.5.0",
          "model_name": "DescriptionStyleModel",
          "state": {
            "_model_module": "@jupyter-widgets/controls",
            "_model_module_version": "1.5.0",
            "_model_name": "DescriptionStyleModel",
            "_view_count": null,
            "_view_module": "@jupyter-widgets/base",
            "_view_module_version": "1.2.0",
            "_view_name": "StyleView",
            "description_width": ""
          }
        },
        "a0f3a3a966e84a5cbb171310b1412bf8": {
          "model_module": "@jupyter-widgets/controls",
          "model_module_version": "1.5.0",
          "model_name": "HBoxModel",
          "state": {
            "_dom_classes": [],
            "_model_module": "@jupyter-widgets/controls",
            "_model_module_version": "1.5.0",
            "_model_name": "HBoxModel",
            "_view_count": null,
            "_view_module": "@jupyter-widgets/controls",
            "_view_module_version": "1.5.0",
            "_view_name": "HBoxView",
            "box_style": "",
            "children": [
              "IPY_MODEL_bef2615c07894bf09a53386e15f96fd4",
              "IPY_MODEL_8bb385716f2d4fd4a9231bb5c6e56cb6",
              "IPY_MODEL_cb039ca3c9e044e3851d517fc6eb609f"
            ],
            "layout": "IPY_MODEL_ccd1c3ccd48c46268fd487d3c7bf258e"
          }
        },
        "a2368d2e022a4f778728feaf46c5c941": {
          "model_module": "@jupyter-widgets/controls",
          "model_module_version": "1.5.0",
          "model_name": "ProgressStyleModel",
          "state": {
            "_model_module": "@jupyter-widgets/controls",
            "_model_module_version": "1.5.0",
            "_model_name": "ProgressStyleModel",
            "_view_count": null,
            "_view_module": "@jupyter-widgets/base",
            "_view_module_version": "1.2.0",
            "_view_name": "StyleView",
            "bar_color": null,
            "description_width": ""
          }
        },
        "aa300802d8cc462ebf212896bc7dba93": {
          "model_module": "@jupyter-widgets/controls",
          "model_module_version": "1.5.0",
          "model_name": "DescriptionStyleModel",
          "state": {
            "_model_module": "@jupyter-widgets/controls",
            "_model_module_version": "1.5.0",
            "_model_name": "DescriptionStyleModel",
            "_view_count": null,
            "_view_module": "@jupyter-widgets/base",
            "_view_module_version": "1.2.0",
            "_view_name": "StyleView",
            "description_width": ""
          }
        },
        "aad9ce1318ac456cb550e0049cd1413a": {
          "model_module": "@jupyter-widgets/controls",
          "model_module_version": "1.5.0",
          "model_name": "FloatProgressModel",
          "state": {
            "_dom_classes": [],
            "_model_module": "@jupyter-widgets/controls",
            "_model_module_version": "1.5.0",
            "_model_name": "FloatProgressModel",
            "_view_count": null,
            "_view_module": "@jupyter-widgets/controls",
            "_view_module_version": "1.5.0",
            "_view_name": "ProgressView",
            "bar_style": "success",
            "description": "",
            "description_tooltip": null,
            "layout": "IPY_MODEL_ecd8099ac96744569a83975d0b31bca0",
            "max": 2324,
            "min": 0,
            "orientation": "horizontal",
            "style": "IPY_MODEL_7898311a60da4268a6aca4d5ed36549c",
            "value": 2324
          }
        },
        "ac8682ce6e88481c8b07426f6b60b2fb": {
          "model_module": "@jupyter-widgets/controls",
          "model_module_version": "1.5.0",
          "model_name": "HTMLModel",
          "state": {
            "_dom_classes": [],
            "_model_module": "@jupyter-widgets/controls",
            "_model_module_version": "1.5.0",
            "_model_name": "HTMLModel",
            "_view_count": null,
            "_view_module": "@jupyter-widgets/controls",
            "_view_module_version": "1.5.0",
            "_view_name": "HTMLView",
            "description": "",
            "description_tooltip": null,
            "layout": "IPY_MODEL_e45f8102ec6241cb9845c579fe514280",
            "placeholder": "​",
            "style": "IPY_MODEL_69ed5bfc0b8743b4ab406bd7ff64dd7f",
            "value": " 1.39M/1.39M [00:00&lt;00:00, 9.70MB/s]"
          }
        },
        "b121394053ee4897987a6a3f30e0a4ae": {
          "model_module": "@jupyter-widgets/controls",
          "model_module_version": "1.5.0",
          "model_name": "HTMLModel",
          "state": {
            "_dom_classes": [],
            "_model_module": "@jupyter-widgets/controls",
            "_model_module_version": "1.5.0",
            "_model_name": "HTMLModel",
            "_view_count": null,
            "_view_module": "@jupyter-widgets/controls",
            "_view_module_version": "1.5.0",
            "_view_name": "HTMLView",
            "description": "",
            "description_tooltip": null,
            "layout": "IPY_MODEL_e5289dd85f3f473297b57a6450d83eec",
            "placeholder": "​",
            "style": "IPY_MODEL_d8ab2a99bf66406c85564da3f7ae870a",
            "value": " 53/53 [00:00&lt;00:00, 341.51 examples/s]"
          }
        },
        "b1e33a14805c4eaebcce89603247a67a": {
          "model_module": "@jupyter-widgets/controls",
          "model_module_version": "1.5.0",
          "model_name": "ProgressStyleModel",
          "state": {
            "_model_module": "@jupyter-widgets/controls",
            "_model_module_version": "1.5.0",
            "_model_name": "ProgressStyleModel",
            "_view_count": null,
            "_view_module": "@jupyter-widgets/base",
            "_view_module_version": "1.2.0",
            "_view_name": "StyleView",
            "bar_color": null,
            "description_width": ""
          }
        },
        "b339920ddd7647a8a24d8407fc48bc59": {
          "model_module": "@jupyter-widgets/controls",
          "model_module_version": "1.5.0",
          "model_name": "HBoxModel",
          "state": {
            "_dom_classes": [],
            "_model_module": "@jupyter-widgets/controls",
            "_model_module_version": "1.5.0",
            "_model_name": "HBoxModel",
            "_view_count": null,
            "_view_module": "@jupyter-widgets/controls",
            "_view_module_version": "1.5.0",
            "_view_name": "HBoxView",
            "box_style": "",
            "children": [
              "IPY_MODEL_2c620b303c6c49e1aad0bf8926a635b5",
              "IPY_MODEL_779c467eab974767b07e4f84d96c5113",
              "IPY_MODEL_d6d6fc6041274971bf99deae4bfd8c09"
            ],
            "layout": "IPY_MODEL_f9e95b4225ac4a128e3fba4b81eb91e5"
          }
        },
        "b741f56422f8496a9f39d9e5cac49d5c": {
          "model_module": "@jupyter-widgets/controls",
          "model_module_version": "1.5.0",
          "model_name": "HTMLModel",
          "state": {
            "_dom_classes": [],
            "_model_module": "@jupyter-widgets/controls",
            "_model_module_version": "1.5.0",
            "_model_name": "HTMLModel",
            "_view_count": null,
            "_view_module": "@jupyter-widgets/controls",
            "_view_module_version": "1.5.0",
            "_view_name": "HTMLView",
            "description": "",
            "description_tooltip": null,
            "layout": "IPY_MODEL_3611d16102e14065a6496654b882a66a",
            "placeholder": "​",
            "style": "IPY_MODEL_aa300802d8cc462ebf212896bc7dba93",
            "value": "model.safetensors: 100%"
          }
        },
        "ba37ef66bc644a8e90ea62909b915b08": {
          "model_module": "@jupyter-widgets/base",
          "model_module_version": "1.2.0",
          "model_name": "LayoutModel",
          "state": {
            "_model_module": "@jupyter-widgets/base",
            "_model_module_version": "1.2.0",
            "_model_name": "LayoutModel",
            "_view_count": null,
            "_view_module": "@jupyter-widgets/base",
            "_view_module_version": "1.2.0",
            "_view_name": "LayoutView",
            "align_content": null,
            "align_items": null,
            "align_self": null,
            "border": null,
            "bottom": null,
            "display": null,
            "flex": null,
            "flex_flow": null,
            "grid_area": null,
            "grid_auto_columns": null,
            "grid_auto_flow": null,
            "grid_auto_rows": null,
            "grid_column": null,
            "grid_gap": null,
            "grid_row": null,
            "grid_template_areas": null,
            "grid_template_columns": null,
            "grid_template_rows": null,
            "height": null,
            "justify_content": null,
            "justify_items": null,
            "left": null,
            "margin": null,
            "max_height": null,
            "max_width": null,
            "min_height": null,
            "min_width": null,
            "object_fit": null,
            "object_position": null,
            "order": null,
            "overflow": null,
            "overflow_x": null,
            "overflow_y": null,
            "padding": null,
            "right": null,
            "top": null,
            "visibility": null,
            "width": null
          }
        },
        "baa7781fc3864728b0406a6676fb35fd": {
          "model_module": "@jupyter-widgets/controls",
          "model_module_version": "1.5.0",
          "model_name": "DescriptionStyleModel",
          "state": {
            "_model_module": "@jupyter-widgets/controls",
            "_model_module_version": "1.5.0",
            "_model_name": "DescriptionStyleModel",
            "_view_count": null,
            "_view_module": "@jupyter-widgets/base",
            "_view_module_version": "1.2.0",
            "_view_name": "StyleView",
            "description_width": ""
          }
        },
        "baf85af77b4c4b78a8b9d47407480c17": {
          "model_module": "@jupyter-widgets/base",
          "model_module_version": "1.2.0",
          "model_name": "LayoutModel",
          "state": {
            "_model_module": "@jupyter-widgets/base",
            "_model_module_version": "1.2.0",
            "_model_name": "LayoutModel",
            "_view_count": null,
            "_view_module": "@jupyter-widgets/base",
            "_view_module_version": "1.2.0",
            "_view_name": "LayoutView",
            "align_content": null,
            "align_items": null,
            "align_self": null,
            "border": null,
            "bottom": null,
            "display": null,
            "flex": null,
            "flex_flow": null,
            "grid_area": null,
            "grid_auto_columns": null,
            "grid_auto_flow": null,
            "grid_auto_rows": null,
            "grid_column": null,
            "grid_gap": null,
            "grid_row": null,
            "grid_template_areas": null,
            "grid_template_columns": null,
            "grid_template_rows": null,
            "height": null,
            "justify_content": null,
            "justify_items": null,
            "left": null,
            "margin": null,
            "max_height": null,
            "max_width": null,
            "min_height": null,
            "min_width": null,
            "object_fit": null,
            "object_position": null,
            "order": null,
            "overflow": null,
            "overflow_x": null,
            "overflow_y": null,
            "padding": null,
            "right": null,
            "top": null,
            "visibility": null,
            "width": null
          }
        },
        "bef2615c07894bf09a53386e15f96fd4": {
          "model_module": "@jupyter-widgets/controls",
          "model_module_version": "1.5.0",
          "model_name": "HTMLModel",
          "state": {
            "_dom_classes": [],
            "_model_module": "@jupyter-widgets/controls",
            "_model_module_version": "1.5.0",
            "_model_name": "HTMLModel",
            "_view_count": null,
            "_view_module": "@jupyter-widgets/controls",
            "_view_module_version": "1.5.0",
            "_view_name": "HTMLView",
            "description": "",
            "description_tooltip": null,
            "layout": "IPY_MODEL_190a5dc0e5d1491a940b1466a1519591",
            "placeholder": "​",
            "style": "IPY_MODEL_c2c74824abc048968949c4d8b2aa8a7f",
            "value": "config.json: 100%"
          }
        },
        "c0a5d602aea540e38f11e2a6ce2ed87f": {
          "model_module": "@jupyter-widgets/controls",
          "model_module_version": "1.5.0",
          "model_name": "FloatProgressModel",
          "state": {
            "_dom_classes": [],
            "_model_module": "@jupyter-widgets/controls",
            "_model_module_version": "1.5.0",
            "_model_name": "FloatProgressModel",
            "_view_count": null,
            "_view_module": "@jupyter-widgets/controls",
            "_view_module_version": "1.5.0",
            "_view_name": "ProgressView",
            "bar_style": "success",
            "description": "",
            "description_tooltip": null,
            "layout": "IPY_MODEL_0509fba14bfb4c04823daa5eee85841f",
            "max": 6,
            "min": 0,
            "orientation": "horizontal",
            "style": "IPY_MODEL_9149756b74f443e7aa10b2d6d1b843ec",
            "value": 6
          }
        },
        "c1d3128e9ee74796bafb02adda59a10d": {
          "model_module": "@jupyter-widgets/base",
          "model_module_version": "1.2.0",
          "model_name": "LayoutModel",
          "state": {
            "_model_module": "@jupyter-widgets/base",
            "_model_module_version": "1.2.0",
            "_model_name": "LayoutModel",
            "_view_count": null,
            "_view_module": "@jupyter-widgets/base",
            "_view_module_version": "1.2.0",
            "_view_name": "LayoutView",
            "align_content": null,
            "align_items": null,
            "align_self": null,
            "border": null,
            "bottom": null,
            "display": null,
            "flex": null,
            "flex_flow": null,
            "grid_area": null,
            "grid_auto_columns": null,
            "grid_auto_flow": null,
            "grid_auto_rows": null,
            "grid_column": null,
            "grid_gap": null,
            "grid_row": null,
            "grid_template_areas": null,
            "grid_template_columns": null,
            "grid_template_rows": null,
            "height": null,
            "justify_content": null,
            "justify_items": null,
            "left": null,
            "margin": null,
            "max_height": null,
            "max_width": null,
            "min_height": null,
            "min_width": null,
            "object_fit": null,
            "object_position": null,
            "order": null,
            "overflow": null,
            "overflow_x": null,
            "overflow_y": null,
            "padding": null,
            "right": null,
            "top": null,
            "visibility": null,
            "width": null
          }
        },
        "c2c74824abc048968949c4d8b2aa8a7f": {
          "model_module": "@jupyter-widgets/controls",
          "model_module_version": "1.5.0",
          "model_name": "DescriptionStyleModel",
          "state": {
            "_model_module": "@jupyter-widgets/controls",
            "_model_module_version": "1.5.0",
            "_model_name": "DescriptionStyleModel",
            "_view_count": null,
            "_view_module": "@jupyter-widgets/base",
            "_view_module_version": "1.2.0",
            "_view_name": "StyleView",
            "description_width": ""
          }
        },
        "cb039ca3c9e044e3851d517fc6eb609f": {
          "model_module": "@jupyter-widgets/controls",
          "model_module_version": "1.5.0",
          "model_name": "HTMLModel",
          "state": {
            "_dom_classes": [],
            "_model_module": "@jupyter-widgets/controls",
            "_model_module_version": "1.5.0",
            "_model_name": "HTMLModel",
            "_view_count": null,
            "_view_module": "@jupyter-widgets/controls",
            "_view_module_version": "1.5.0",
            "_view_name": "HTMLView",
            "description": "",
            "description_tooltip": null,
            "layout": "IPY_MODEL_46b97f04dd77404086cce2d3dd5d45a3",
            "placeholder": "​",
            "style": "IPY_MODEL_ebb24b4784de468a93d56c9d46e551fb",
            "value": " 1.21k/1.21k [00:00&lt;00:00, 32.2kB/s]"
          }
        },
        "ccd1c3ccd48c46268fd487d3c7bf258e": {
          "model_module": "@jupyter-widgets/base",
          "model_module_version": "1.2.0",
          "model_name": "LayoutModel",
          "state": {
            "_model_module": "@jupyter-widgets/base",
            "_model_module_version": "1.2.0",
            "_model_name": "LayoutModel",
            "_view_count": null,
            "_view_module": "@jupyter-widgets/base",
            "_view_module_version": "1.2.0",
            "_view_name": "LayoutView",
            "align_content": null,
            "align_items": null,
            "align_self": null,
            "border": null,
            "bottom": null,
            "display": null,
            "flex": null,
            "flex_flow": null,
            "grid_area": null,
            "grid_auto_columns": null,
            "grid_auto_flow": null,
            "grid_auto_rows": null,
            "grid_column": null,
            "grid_gap": null,
            "grid_row": null,
            "grid_template_areas": null,
            "grid_template_columns": null,
            "grid_template_rows": null,
            "height": null,
            "justify_content": null,
            "justify_items": null,
            "left": null,
            "margin": null,
            "max_height": null,
            "max_width": null,
            "min_height": null,
            "min_width": null,
            "object_fit": null,
            "object_position": null,
            "order": null,
            "overflow": null,
            "overflow_x": null,
            "overflow_y": null,
            "padding": null,
            "right": null,
            "top": null,
            "visibility": null,
            "width": null
          }
        },
        "ccedd9f60de04398bb08226fa8bc3477": {
          "model_module": "@jupyter-widgets/controls",
          "model_module_version": "1.5.0",
          "model_name": "DescriptionStyleModel",
          "state": {
            "_model_module": "@jupyter-widgets/controls",
            "_model_module_version": "1.5.0",
            "_model_name": "DescriptionStyleModel",
            "_view_count": null,
            "_view_module": "@jupyter-widgets/base",
            "_view_module_version": "1.2.0",
            "_view_name": "StyleView",
            "description_width": ""
          }
        },
        "cffde6d141e5424a819ddc1d1f1d3e4e": {
          "model_module": "@jupyter-widgets/base",
          "model_module_version": "1.2.0",
          "model_name": "LayoutModel",
          "state": {
            "_model_module": "@jupyter-widgets/base",
            "_model_module_version": "1.2.0",
            "_model_name": "LayoutModel",
            "_view_count": null,
            "_view_module": "@jupyter-widgets/base",
            "_view_module_version": "1.2.0",
            "_view_name": "LayoutView",
            "align_content": null,
            "align_items": null,
            "align_self": null,
            "border": null,
            "bottom": null,
            "display": null,
            "flex": null,
            "flex_flow": null,
            "grid_area": null,
            "grid_auto_columns": null,
            "grid_auto_flow": null,
            "grid_auto_rows": null,
            "grid_column": null,
            "grid_gap": null,
            "grid_row": null,
            "grid_template_areas": null,
            "grid_template_columns": null,
            "grid_template_rows": null,
            "height": null,
            "justify_content": null,
            "justify_items": null,
            "left": null,
            "margin": null,
            "max_height": null,
            "max_width": null,
            "min_height": null,
            "min_width": null,
            "object_fit": null,
            "object_position": null,
            "order": null,
            "overflow": null,
            "overflow_x": null,
            "overflow_y": null,
            "padding": null,
            "right": null,
            "top": null,
            "visibility": null,
            "width": null
          }
        },
        "d1406df3e5bd4bfbbb60387756601999": {
          "model_module": "@jupyter-widgets/base",
          "model_module_version": "1.2.0",
          "model_name": "LayoutModel",
          "state": {
            "_model_module": "@jupyter-widgets/base",
            "_model_module_version": "1.2.0",
            "_model_name": "LayoutModel",
            "_view_count": null,
            "_view_module": "@jupyter-widgets/base",
            "_view_module_version": "1.2.0",
            "_view_name": "LayoutView",
            "align_content": null,
            "align_items": null,
            "align_self": null,
            "border": null,
            "bottom": null,
            "display": null,
            "flex": null,
            "flex_flow": null,
            "grid_area": null,
            "grid_auto_columns": null,
            "grid_auto_flow": null,
            "grid_auto_rows": null,
            "grid_column": null,
            "grid_gap": null,
            "grid_row": null,
            "grid_template_areas": null,
            "grid_template_columns": null,
            "grid_template_rows": null,
            "height": null,
            "justify_content": null,
            "justify_items": null,
            "left": null,
            "margin": null,
            "max_height": null,
            "max_width": null,
            "min_height": null,
            "min_width": null,
            "object_fit": null,
            "object_position": null,
            "order": null,
            "overflow": null,
            "overflow_x": null,
            "overflow_y": null,
            "padding": null,
            "right": null,
            "top": null,
            "visibility": null,
            "width": null
          }
        },
        "d398eb4cea5e4d3c834d04ac5320865b": {
          "model_module": "@jupyter-widgets/base",
          "model_module_version": "1.2.0",
          "model_name": "LayoutModel",
          "state": {
            "_model_module": "@jupyter-widgets/base",
            "_model_module_version": "1.2.0",
            "_model_name": "LayoutModel",
            "_view_count": null,
            "_view_module": "@jupyter-widgets/base",
            "_view_module_version": "1.2.0",
            "_view_name": "LayoutView",
            "align_content": null,
            "align_items": null,
            "align_self": null,
            "border": null,
            "bottom": null,
            "display": null,
            "flex": null,
            "flex_flow": null,
            "grid_area": null,
            "grid_auto_columns": null,
            "grid_auto_flow": null,
            "grid_auto_rows": null,
            "grid_column": null,
            "grid_gap": null,
            "grid_row": null,
            "grid_template_areas": null,
            "grid_template_columns": null,
            "grid_template_rows": null,
            "height": null,
            "justify_content": null,
            "justify_items": null,
            "left": null,
            "margin": null,
            "max_height": null,
            "max_width": null,
            "min_height": null,
            "min_width": null,
            "object_fit": null,
            "object_position": null,
            "order": null,
            "overflow": null,
            "overflow_x": null,
            "overflow_y": null,
            "padding": null,
            "right": null,
            "top": null,
            "visibility": null,
            "width": null
          }
        },
        "d6d6fc6041274971bf99deae4bfd8c09": {
          "model_module": "@jupyter-widgets/controls",
          "model_module_version": "1.5.0",
          "model_name": "HTMLModel",
          "state": {
            "_dom_classes": [],
            "_model_module": "@jupyter-widgets/controls",
            "_model_module_version": "1.5.0",
            "_model_name": "HTMLModel",
            "_view_count": null,
            "_view_module": "@jupyter-widgets/controls",
            "_view_module_version": "1.5.0",
            "_view_name": "HTMLView",
            "description": "",
            "description_tooltip": null,
            "layout": "IPY_MODEL_65802e49049a4cae93b35a59a776543a",
            "placeholder": "​",
            "style": "IPY_MODEL_1507597754b24f54a3394e052ee09c3a",
            "value": " 147/147 [00:00&lt;00:00, 1.55kB/s]"
          }
        },
        "d864d721c58f47358e2ad8f28afc97fb": {
          "model_module": "@jupyter-widgets/controls",
          "model_module_version": "1.5.0",
          "model_name": "HTMLModel",
          "state": {
            "_dom_classes": [],
            "_model_module": "@jupyter-widgets/controls",
            "_model_module_version": "1.5.0",
            "_model_name": "HTMLModel",
            "_view_count": null,
            "_view_module": "@jupyter-widgets/controls",
            "_view_module_version": "1.5.0",
            "_view_name": "HTMLView",
            "description": "",
            "description_tooltip": null,
            "layout": "IPY_MODEL_859b34fe316a4df39f16511e3466b4dc",
            "placeholder": "​",
            "style": "IPY_MODEL_380b1393a7fc4e63ba5aa6ff5ca5e651",
            "value": " 6/6 [00:00&lt;00:00, 62.29 examples/s]"
          }
        },
        "d8ab2a99bf66406c85564da3f7ae870a": {
          "model_module": "@jupyter-widgets/controls",
          "model_module_version": "1.5.0",
          "model_name": "DescriptionStyleModel",
          "state": {
            "_model_module": "@jupyter-widgets/controls",
            "_model_module_version": "1.5.0",
            "_model_name": "DescriptionStyleModel",
            "_view_count": null,
            "_view_module": "@jupyter-widgets/base",
            "_view_module_version": "1.2.0",
            "_view_name": "StyleView",
            "description_width": ""
          }
        },
        "de0b7eb835ca40d3a8812398e6189045": {
          "model_module": "@jupyter-widgets/base",
          "model_module_version": "1.2.0",
          "model_name": "LayoutModel",
          "state": {
            "_model_module": "@jupyter-widgets/base",
            "_model_module_version": "1.2.0",
            "_model_name": "LayoutModel",
            "_view_count": null,
            "_view_module": "@jupyter-widgets/base",
            "_view_module_version": "1.2.0",
            "_view_name": "LayoutView",
            "align_content": null,
            "align_items": null,
            "align_self": null,
            "border": null,
            "bottom": null,
            "display": null,
            "flex": null,
            "flex_flow": null,
            "grid_area": null,
            "grid_auto_columns": null,
            "grid_auto_flow": null,
            "grid_auto_rows": null,
            "grid_column": null,
            "grid_gap": null,
            "grid_row": null,
            "grid_template_areas": null,
            "grid_template_columns": null,
            "grid_template_rows": null,
            "height": null,
            "justify_content": null,
            "justify_items": null,
            "left": null,
            "margin": null,
            "max_height": null,
            "max_width": null,
            "min_height": null,
            "min_width": null,
            "object_fit": null,
            "object_position": null,
            "order": null,
            "overflow": null,
            "overflow_x": null,
            "overflow_y": null,
            "padding": null,
            "right": null,
            "top": null,
            "visibility": null,
            "width": null
          }
        },
        "e45f8102ec6241cb9845c579fe514280": {
          "model_module": "@jupyter-widgets/base",
          "model_module_version": "1.2.0",
          "model_name": "LayoutModel",
          "state": {
            "_model_module": "@jupyter-widgets/base",
            "_model_module_version": "1.2.0",
            "_model_name": "LayoutModel",
            "_view_count": null,
            "_view_module": "@jupyter-widgets/base",
            "_view_module_version": "1.2.0",
            "_view_name": "LayoutView",
            "align_content": null,
            "align_items": null,
            "align_self": null,
            "border": null,
            "bottom": null,
            "display": null,
            "flex": null,
            "flex_flow": null,
            "grid_area": null,
            "grid_auto_columns": null,
            "grid_auto_flow": null,
            "grid_auto_rows": null,
            "grid_column": null,
            "grid_gap": null,
            "grid_row": null,
            "grid_template_areas": null,
            "grid_template_columns": null,
            "grid_template_rows": null,
            "height": null,
            "justify_content": null,
            "justify_items": null,
            "left": null,
            "margin": null,
            "max_height": null,
            "max_width": null,
            "min_height": null,
            "min_width": null,
            "object_fit": null,
            "object_position": null,
            "order": null,
            "overflow": null,
            "overflow_x": null,
            "overflow_y": null,
            "padding": null,
            "right": null,
            "top": null,
            "visibility": null,
            "width": null
          }
        },
        "e5289dd85f3f473297b57a6450d83eec": {
          "model_module": "@jupyter-widgets/base",
          "model_module_version": "1.2.0",
          "model_name": "LayoutModel",
          "state": {
            "_model_module": "@jupyter-widgets/base",
            "_model_module_version": "1.2.0",
            "_model_name": "LayoutModel",
            "_view_count": null,
            "_view_module": "@jupyter-widgets/base",
            "_view_module_version": "1.2.0",
            "_view_name": "LayoutView",
            "align_content": null,
            "align_items": null,
            "align_self": null,
            "border": null,
            "bottom": null,
            "display": null,
            "flex": null,
            "flex_flow": null,
            "grid_area": null,
            "grid_auto_columns": null,
            "grid_auto_flow": null,
            "grid_auto_rows": null,
            "grid_column": null,
            "grid_gap": null,
            "grid_row": null,
            "grid_template_areas": null,
            "grid_template_columns": null,
            "grid_template_rows": null,
            "height": null,
            "justify_content": null,
            "justify_items": null,
            "left": null,
            "margin": null,
            "max_height": null,
            "max_width": null,
            "min_height": null,
            "min_width": null,
            "object_fit": null,
            "object_position": null,
            "order": null,
            "overflow": null,
            "overflow_x": null,
            "overflow_y": null,
            "padding": null,
            "right": null,
            "top": null,
            "visibility": null,
            "width": null
          }
        },
        "e7bbfa27df97458aa74e020f94ff81c2": {
          "model_module": "@jupyter-widgets/base",
          "model_module_version": "1.2.0",
          "model_name": "LayoutModel",
          "state": {
            "_model_module": "@jupyter-widgets/base",
            "_model_module_version": "1.2.0",
            "_model_name": "LayoutModel",
            "_view_count": null,
            "_view_module": "@jupyter-widgets/base",
            "_view_module_version": "1.2.0",
            "_view_name": "LayoutView",
            "align_content": null,
            "align_items": null,
            "align_self": null,
            "border": null,
            "bottom": null,
            "display": null,
            "flex": null,
            "flex_flow": null,
            "grid_area": null,
            "grid_auto_columns": null,
            "grid_auto_flow": null,
            "grid_auto_rows": null,
            "grid_column": null,
            "grid_gap": null,
            "grid_row": null,
            "grid_template_areas": null,
            "grid_template_columns": null,
            "grid_template_rows": null,
            "height": null,
            "justify_content": null,
            "justify_items": null,
            "left": null,
            "margin": null,
            "max_height": null,
            "max_width": null,
            "min_height": null,
            "min_width": null,
            "object_fit": null,
            "object_position": null,
            "order": null,
            "overflow": null,
            "overflow_x": null,
            "overflow_y": null,
            "padding": null,
            "right": null,
            "top": null,
            "visibility": null,
            "width": null
          }
        },
        "e8adfef596d641caa0b5231e5ab37f43": {
          "model_module": "@jupyter-widgets/controls",
          "model_module_version": "1.5.0",
          "model_name": "HBoxModel",
          "state": {
            "_dom_classes": [],
            "_model_module": "@jupyter-widgets/controls",
            "_model_module_version": "1.5.0",
            "_model_name": "HBoxModel",
            "_view_count": null,
            "_view_module": "@jupyter-widgets/controls",
            "_view_module_version": "1.5.0",
            "_view_name": "HBoxView",
            "box_style": "",
            "children": [
              "IPY_MODEL_462556859a334c9b9201f09feeaa428b",
              "IPY_MODEL_590e87d3ff614bc79d1a6861e87e11e6",
              "IPY_MODEL_b121394053ee4897987a6a3f30e0a4ae"
            ],
            "layout": "IPY_MODEL_2ddf4350dbf040afab63eb8a5ed374d9"
          }
        },
        "ebb24b4784de468a93d56c9d46e551fb": {
          "model_module": "@jupyter-widgets/controls",
          "model_module_version": "1.5.0",
          "model_name": "DescriptionStyleModel",
          "state": {
            "_model_module": "@jupyter-widgets/controls",
            "_model_module_version": "1.5.0",
            "_model_name": "DescriptionStyleModel",
            "_view_count": null,
            "_view_module": "@jupyter-widgets/base",
            "_view_module_version": "1.2.0",
            "_view_name": "StyleView",
            "description_width": ""
          }
        },
        "eca58960061e4ec780ff29ccdfbb001a": {
          "model_module": "@jupyter-widgets/base",
          "model_module_version": "1.2.0",
          "model_name": "LayoutModel",
          "state": {
            "_model_module": "@jupyter-widgets/base",
            "_model_module_version": "1.2.0",
            "_model_name": "LayoutModel",
            "_view_count": null,
            "_view_module": "@jupyter-widgets/base",
            "_view_module_version": "1.2.0",
            "_view_name": "LayoutView",
            "align_content": null,
            "align_items": null,
            "align_self": null,
            "border": null,
            "bottom": null,
            "display": null,
            "flex": null,
            "flex_flow": null,
            "grid_area": null,
            "grid_auto_columns": null,
            "grid_auto_flow": null,
            "grid_auto_rows": null,
            "grid_column": null,
            "grid_gap": null,
            "grid_row": null,
            "grid_template_areas": null,
            "grid_template_columns": null,
            "grid_template_rows": null,
            "height": null,
            "justify_content": null,
            "justify_items": null,
            "left": null,
            "margin": null,
            "max_height": null,
            "max_width": null,
            "min_height": null,
            "min_width": null,
            "object_fit": null,
            "object_position": null,
            "order": null,
            "overflow": null,
            "overflow_x": null,
            "overflow_y": null,
            "padding": null,
            "right": null,
            "top": null,
            "visibility": null,
            "width": null
          }
        },
        "ecd8099ac96744569a83975d0b31bca0": {
          "model_module": "@jupyter-widgets/base",
          "model_module_version": "1.2.0",
          "model_name": "LayoutModel",
          "state": {
            "_model_module": "@jupyter-widgets/base",
            "_model_module_version": "1.2.0",
            "_model_name": "LayoutModel",
            "_view_count": null,
            "_view_module": "@jupyter-widgets/base",
            "_view_module_version": "1.2.0",
            "_view_name": "LayoutView",
            "align_content": null,
            "align_items": null,
            "align_self": null,
            "border": null,
            "bottom": null,
            "display": null,
            "flex": null,
            "flex_flow": null,
            "grid_area": null,
            "grid_auto_columns": null,
            "grid_auto_flow": null,
            "grid_auto_rows": null,
            "grid_column": null,
            "grid_gap": null,
            "grid_row": null,
            "grid_template_areas": null,
            "grid_template_columns": null,
            "grid_template_rows": null,
            "height": null,
            "justify_content": null,
            "justify_items": null,
            "left": null,
            "margin": null,
            "max_height": null,
            "max_width": null,
            "min_height": null,
            "min_width": null,
            "object_fit": null,
            "object_position": null,
            "order": null,
            "overflow": null,
            "overflow_x": null,
            "overflow_y": null,
            "padding": null,
            "right": null,
            "top": null,
            "visibility": null,
            "width": null
          }
        },
        "f0d2b3a34e604ff2b1fe31e38b934647": {
          "model_module": "@jupyter-widgets/controls",
          "model_module_version": "1.5.0",
          "model_name": "ProgressStyleModel",
          "state": {
            "_model_module": "@jupyter-widgets/controls",
            "_model_module_version": "1.5.0",
            "_model_name": "ProgressStyleModel",
            "_view_count": null,
            "_view_module": "@jupyter-widgets/base",
            "_view_module_version": "1.2.0",
            "_view_name": "StyleView",
            "bar_color": null,
            "description_width": ""
          }
        },
        "f9abbdd71c4f4e38bc4e03da0d566e06": {
          "model_module": "@jupyter-widgets/base",
          "model_module_version": "1.2.0",
          "model_name": "LayoutModel",
          "state": {
            "_model_module": "@jupyter-widgets/base",
            "_model_module_version": "1.2.0",
            "_model_name": "LayoutModel",
            "_view_count": null,
            "_view_module": "@jupyter-widgets/base",
            "_view_module_version": "1.2.0",
            "_view_name": "LayoutView",
            "align_content": null,
            "align_items": null,
            "align_self": null,
            "border": null,
            "bottom": null,
            "display": null,
            "flex": null,
            "flex_flow": null,
            "grid_area": null,
            "grid_auto_columns": null,
            "grid_auto_flow": null,
            "grid_auto_rows": null,
            "grid_column": null,
            "grid_gap": null,
            "grid_row": null,
            "grid_template_areas": null,
            "grid_template_columns": null,
            "grid_template_rows": null,
            "height": null,
            "justify_content": null,
            "justify_items": null,
            "left": null,
            "margin": null,
            "max_height": null,
            "max_width": null,
            "min_height": null,
            "min_width": null,
            "object_fit": null,
            "object_position": null,
            "order": null,
            "overflow": null,
            "overflow_x": null,
            "overflow_y": null,
            "padding": null,
            "right": null,
            "top": null,
            "visibility": null,
            "width": null
          }
        },
        "f9e95b4225ac4a128e3fba4b81eb91e5": {
          "model_module": "@jupyter-widgets/base",
          "model_module_version": "1.2.0",
          "model_name": "LayoutModel",
          "state": {
            "_model_module": "@jupyter-widgets/base",
            "_model_module_version": "1.2.0",
            "_model_name": "LayoutModel",
            "_view_count": null,
            "_view_module": "@jupyter-widgets/base",
            "_view_module_version": "1.2.0",
            "_view_name": "LayoutView",
            "align_content": null,
            "align_items": null,
            "align_self": null,
            "border": null,
            "bottom": null,
            "display": null,
            "flex": null,
            "flex_flow": null,
            "grid_area": null,
            "grid_auto_columns": null,
            "grid_auto_flow": null,
            "grid_auto_rows": null,
            "grid_column": null,
            "grid_gap": null,
            "grid_row": null,
            "grid_template_areas": null,
            "grid_template_columns": null,
            "grid_template_rows": null,
            "height": null,
            "justify_content": null,
            "justify_items": null,
            "left": null,
            "margin": null,
            "max_height": null,
            "max_width": null,
            "min_height": null,
            "min_width": null,
            "object_fit": null,
            "object_position": null,
            "order": null,
            "overflow": null,
            "overflow_x": null,
            "overflow_y": null,
            "padding": null,
            "right": null,
            "top": null,
            "visibility": null,
            "width": null
          }
        },
        "faa7b22a41964e28a8fd87fe2718cbb6": {
          "model_module": "@jupyter-widgets/controls",
          "model_module_version": "1.5.0",
          "model_name": "DescriptionStyleModel",
          "state": {
            "_model_module": "@jupyter-widgets/controls",
            "_model_module_version": "1.5.0",
            "_model_name": "DescriptionStyleModel",
            "_view_count": null,
            "_view_module": "@jupyter-widgets/base",
            "_view_module_version": "1.2.0",
            "_view_name": "StyleView",
            "description_width": ""
          }
        },
        "fe82073007b84b4ab1edf2ee62382cff": {
          "model_module": "@jupyter-widgets/controls",
          "model_module_version": "1.5.0",
          "model_name": "HBoxModel",
          "state": {
            "_dom_classes": [],
            "_model_module": "@jupyter-widgets/controls",
            "_model_module_version": "1.5.0",
            "_model_name": "HBoxModel",
            "_view_count": null,
            "_view_module": "@jupyter-widgets/controls",
            "_view_module_version": "1.5.0",
            "_view_name": "HBoxView",
            "box_style": "",
            "children": [
              "IPY_MODEL_4825fed03e8b44f199543d3f025d9d2c",
              "IPY_MODEL_84d4d8adc56041fc982d8c604b7d45c0",
              "IPY_MODEL_5476da842ce044ee88b81be7afff7433"
            ],
            "layout": "IPY_MODEL_9b439608862c49308dd5990969e90433"
          }
        }
      }
    }
  },
  "nbformat": 4,
  "nbformat_minor": 0
}
